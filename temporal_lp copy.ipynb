{
 "cells": [
  {
   "cell_type": "code",
   "execution_count": 2,
   "metadata": {},
   "outputs": [
    {
     "name": "stderr",
     "output_type": "stream",
     "text": [
      "2024-04-13 16:09:07.324995: I tensorflow/core/platform/cpu_feature_guard.cc:182] This TensorFlow binary is optimized to use available CPU instructions in performance-critical operations.\n",
      "To enable the following instructions: AVX2 FMA, in other operations, rebuild TensorFlow with the appropriate compiler flags.\n"
     ]
    }
   ],
   "source": [
    "from snowflake.snowpark.functions import avg\n",
    "import os\n",
    "import pandas as pd\n",
    "import seaborn as sns\n",
    "import matplotlib.pyplot as plt\n",
    "import numpy as np\n",
    "import networkx as nx\n",
    "from tqdm import tqdm\n",
    "from functools import reduce\n",
    "from snowflake.snowpark import Session\n",
    "import datetime\n",
    "from datetime import datetime, timedelta\n",
    "from collections import defaultdict, Counter\n",
    "from utils import * \n",
    "import stellargraph as sg\n",
    "from stellargraph import StellarGraph\n",
    "from stellargraph.data import EdgeSplitter, BiasedRandomWalk, TemporalRandomWalk\n",
    "from scipy.special import softmax\n",
    "from tqdm import tqdm\n",
    "\n",
    "from math import isclose\n",
    "from sklearn.decomposition import PCA\n",
    "import multiprocessing\n",
    "import sklearn.model_selection \n",
    "from gensim.models import Word2Vec"
   ]
  },
  {
   "cell_type": "markdown",
   "metadata": {},
   "source": [
    "# CM_Time()"
   ]
  },
  {
   "cell_type": "code",
   "execution_count": 3,
   "metadata": {},
   "outputs": [],
   "source": [
    "class temporalNetwork(): \n",
    "    def __init__(self, start_date, end_date, location_grouping='kma', origin=None, facility_id=None, intermediate=None):\n",
    "        \"\"\" \n",
    "        Note: \n",
    "            start_date and end_date should be both None as they are used as a signal to \n",
    "            CM_Time's run_simulation to whether construct a new graph or update the graph with new information \n",
    "        \"\"\"\n",
    "        self.start_date=start_date\n",
    "        self.end_date=end_date\n",
    "        self.network=None\n",
    "        self.origin_location_list=None\n",
    "        self.location_grouping=location_grouping\n",
    "        self.inbound_data = None \n",
    "        self.outbound_data = None\n",
    "\n",
    "    def construct_network_graph(self):\n",
    "        \"\"\" \n",
    "        Given an inbound and outbound dataframe, construct a network graph and stores it in the class variable self.network\n",
    "        Args: \n",
    "            an_inbound_df (pd.DataFrame): inbound dataframe\n",
    "            an_outbound_df (pd.DataFrame): outbound dataframe\n",
    "            start_date (datetime): start date of the network graph\n",
    "            end_date (datetime): end date of the network graph\n",
    "            location_grouping(string): 'kma' or 'zip3'\n",
    "        \"\"\"\n",
    "        # pull data & construct an empty multiDiGraph\n",
    "\n",
    "        date = self.start_date.strftime(\"%Y-%m-%d\") + \"_\" + self.end_date.strftime(\"%Y-%m-%d\")\n",
    "        an_inbound_df, an_outbound_df = pd.read_csv(f\"data/inbound_data_{date}.csv\"), pd.read_csv(f\"data/outbound_data_{date}.csv\")\n",
    "        an_inbound_df.load_date, an_outbound_df.load_date = pd.to_datetime(an_inbound_df.load_date), pd.to_datetime(an_outbound_df.load_date)\n",
    "        for colin, colout in zip(an_inbound_df.columns, an_outbound_df.columns): \n",
    "            if colin not in [\"total_loads\", \"load_date\"]: \n",
    "                an_inbound_df[colin] = an_inbound_df[colin].astype(str)\n",
    "            if colout not in [\"total_loads\", \"load_date\"]:\n",
    "                an_outbound_df[colout] = an_outbound_df[colout].astype(str)\n",
    "\n",
    "        network_graph = nx.MultiDiGraph(name=f\"original network\", start_date=self.start_date, end_date=self.end_date)\n",
    "        # network_graph = nx.DiGraph(name=f\"original network\", start_date=self.start_date, end_date=self.end_date)\n",
    "        # idf, odf = an_inbound_df.copy(), an_outbound_df.copy()\n",
    "\n",
    "        # idf.to_csv(f\"data/inbound_data_{self.start_date}_{self.end_date}.csv\", index=False)\n",
    "        # odf.to_csv(f\"data/outbound_data_{self.start_date}_{self.end_date}.csv\", index=False)\n",
    "\n",
    "        # add nodes & edges \n",
    "        node_1 = f\"origin_{self.location_grouping}_id\"\n",
    "        node_2 = f\"facility_{self.location_grouping}_id\"\n",
    "        node_3 = f\"destination_{self.location_grouping}_id\"\n",
    "\n",
    "        network_graph = add_nodes_given_df(network_graph, an_inbound_df, [node_1, 'facility_id']) \n",
    "        network_graph = add_nodes_given_df(network_graph, an_outbound_df, ['facility_id', node_2, node_3]) \n",
    "\n",
    "        network_graph = add_edges_given_graph(network_graph, an_inbound_df, an_outbound_df, self.location_grouping)\n",
    "        \n",
    "        # update the variables \n",
    "        self.network = network_graph\n",
    "        self.origin_location_list = an_inbound_df[f'origin_{self.location_grouping}_id'].unique()\n",
    "        self.inbound_data, self.outbound_data = an_inbound_df, an_outbound_df\n",
    "        print(f\"Current time of the graph: {self.start_date} to {self.end_date}\") \n",
    "        \n",
    "    def move_to_next_week(self): \n",
    "        \"\"\" \n",
    "        Given the new week's inbound and outbound dataframes, \n",
    "        update self.network graph, self.start_date, and self.end_date to a week after current start date and end date \n",
    "        \n",
    "        Args:\n",
    "            next_inbound_df (pd.DataFrame): new week's inbound dataframe\n",
    "            next_outbound_df (pd.DataFrame): new week's outbound dataframe\n",
    "            display_progress (boolean): whether to display the progress of the function or not\n",
    "        \"\"\"\n",
    "        # update the dates, pull new week's data, & store some informations\n",
    "        self.start_date, self.end_date = self.start_date + timedelta(days=7), self.end_date + timedelta(days=7)\n",
    "        date = self.start_date.strftime(\"%Y-%m-%d\") + \"_\" + self.end_date.strftime(\"%Y-%m-%d\")\n",
    "        next_inbound_df, next_outbound_df = pd.read_csv(f\"data/inbound_data_{date}.csv\"), pd.read_csv(f\"data/outbound_data_{date}.csv\")\n",
    "        next_inbound_df.load_date, next_outbound_df.load_date = pd.to_datetime(next_inbound_df.load_date), pd.to_datetime(next_outbound_df.load_date)\n",
    "        for colin, colout in zip(next_inbound_df.columns, next_outbound_df.columns): \n",
    "            if colin not in [\"total_loads\", \"load_date\"]: \n",
    "                next_inbound_df[colin] = next_inbound_df[colin].astype(str)\n",
    "            if colout not in [\"total_loads\", \"load_date\"]:\n",
    "                next_outbound_df[colout] = next_outbound_df[colout].astype(str)\n",
    "\n",
    "        # next_inbound_df.to_csv(f\"data/inbound_data_{self.start_date}_{self.end_date}.csv\", index=False)\n",
    "        # next_outbound_df.to_csv(f\"data/outbound_data_{self.start_date}_{self.end_date}.csv\", index=False)\n",
    "\n",
    "        ## if not len(next_inbound_df) and not len(next_outbound_df): \n",
    "        curr_nodes, curr_edges = set(self.network.nodes()), list(self.network.edges(data=True, keys=True)) # needed for efficient removal of nodes & edges\n",
    "        \n",
    "        node_1 = f\"origin_{self.location_grouping}_id\"\n",
    "        node_2 = f\"facility_{self.location_grouping}_id\"\n",
    "        node_3 = f\"destination_{self.location_grouping}_id\"\n",
    "\n",
    "        # or statement is used to check if either inbound or outbound df exists, \n",
    "        # so we can add any final delivery data to the graph\n",
    "        if len(next_inbound_df) or len(next_outbound_df): \n",
    "            # add new nodes \n",
    "            new_nodes = set()\n",
    "            if len(next_inbound_df): new_nodes = set(next_inbound_df[[node_1, 'facility_id']].to_numpy().flatten())\n",
    "            if len(next_outbound_df): new_nodes.union(set(next_outbound_df[[node_2, node_3, 'facility_id']].to_numpy().flatten()))\n",
    "            new_nodes = new_nodes.difference(curr_nodes)\n",
    "            self.network.add_nodes_from(new_nodes)\n",
    "\n",
    "            # add new edges\n",
    "            self.network = add_edges_given_graph(self.network, next_inbound_df, next_outbound_df, self.location_grouping)\n",
    "\n",
    "        # remove old edges\n",
    "        past_edges = []\n",
    "        for edge in curr_edges: \n",
    "            if edge[2] < to_integer(self.start_date): \n",
    "                self.network.remove_edge(edge[0], edge[1], edge[2])\n",
    "                past_edges.append(edge)\n",
    "\n",
    "        # remove isolated nodes\n",
    "        isolated_nodes = list(nx.isolates(self.network))\n",
    "        self.network.remove_nodes_from(isolated_nodes)\n",
    "        \n",
    "        # update variables\n",
    "        self.network.graph['start_date']= self.start_date\n",
    "        self.network.graph['end_date']= self.end_date\n",
    "        self.inbound_data, self.outbound_data = next_inbound_df, next_outbound_df\n",
    "        if self.location_grouping == 'kma': self.origin_location_list = list(set([x.split(\" \")[0] for x in self.network.nodes() if len(x) == 6])) \n",
    "        else: self.origin_location_list = list(set([x.split(\" \")[0] for x in self.network.nodes() if len(x) == 3]))\n",
    "        \n",
    "        print(f\"Current time of the graph: {self.start_date} to {self.end_date}\")  \n",
    "\n",
    "    def print_network_information(self, given_network, print_network_time=False): \n",
    "        \"\"\"\n",
    "        Given a network, print out the information of the network\n",
    "        Args: \n",
    "            given_network (nx.MultiDiGraph): a network graph\n",
    "        Returns: N/A\n",
    "        \"\"\"\n",
    "        print(\"---------------------------------------------------------------------------------------------\") \n",
    "        print(given_network)\n",
    "        print(f\"Is the given network a DAG for load_network?: {nx.is_directed_acyclic_graph(given_network)}\")\n",
    "        print(f\"Number of self loops: {nx.number_of_selfloops(given_network)}\")\n",
    "        if print_network_time: print(f\"Current time of the graph: {given_network.graph['start_date']} to {given_network.graph['end_date']}\")\n",
    "        else: print(f\"Current time of the graph: {self.start_date} to {self.end_date}\")"
   ]
  },
  {
   "cell_type": "code",
   "execution_count": 4,
   "metadata": {},
   "outputs": [],
   "source": [
    "class CM_Finder():\n",
    "    def __init__(self, location_grouping='kma', origin_location_list=None, network = None):\n",
    "        self.network=network\n",
    "        self.processed_network=None\n",
    "        self.processed=False \n",
    "        self.origin_location_list=origin_location_list\n",
    "        self.match_failure = None\n",
    "        self.remove_failure = 0\n",
    "        self.location_grouping=location_grouping\n",
    "        \n",
    "    def group_to_DiGraph(self, display_progress = False):\n",
    "        \"\"\"\n",
    "        #TODO: explain why aggregate_faciility_zip then group_to_DiGraph (kma-> facility_zip -> kma to kma->kma->kma, aggregate to faciliy KMA)\n",
    "        Assuming that self.network is constructed, \n",
    "        sums the edge weights for edges with the same nodes in self.network variable and \n",
    "        stores the new graph with aggregated edges in self.processed_network variable and returns False if successful \n",
    "\n",
    "        Args:\n",
    "            display_progress (boolean): whether to display the progress of the function or not\n",
    "\n",
    "        NOTE) disregards temporal factor \n",
    "        \"\"\"\n",
    "        if not self.network: \n",
    "            print(\"Please construct the network first\")\n",
    "            return None \n",
    "            \n",
    "        new_name = self.network.name + \" reduced\"\n",
    "        self.processed_network = nx.DiGraph(name=new_name)\n",
    "        self.processed_network.add_nodes_from(self.network)\n",
    "\n",
    "        if display_progress: print(\"Aggregating nodes by KMA...\")\n",
    "        for n1, n2 in self.network.edges():\n",
    "            sum = 0 \n",
    "            for inner_dict in self.network.get_edge_data(n1, n2).values(): \n",
    "                sum += inner_dict['capacity']\n",
    "            self.processed_network.add_edge(n1, n2, capacity = sum)\n",
    "        \n",
    "        nx.set_edge_attributes(self.processed_network, to_integer(self.network.graph['end_date']), 'time')\n",
    "        self.processed = True"
   ]
  },
  {
   "cell_type": "code",
   "execution_count": 5,
   "metadata": {},
   "outputs": [],
   "source": [
    "class CM_Time(): \n",
    "    def __init__(self, location_grouping='kma', origin=None, facility_id=None, intermediate=None): \n",
    "        self.start_date=None\n",
    "        self.end_date=None\n",
    "        self.cm_network = None   \n",
    "        self.cm_finder = None\n",
    "        self.origin=origin\n",
    "        self.facility_id=facility_id\n",
    "        self.intermediate=intermediate\n",
    "        self.location_grouping = location_grouping\n",
    "        self.weekly_graphs = {}\n",
    "    \n",
    "    def update_dates(self): \n",
    "        \"\"\"\n",
    "        Updates the start and end date by 7 days\n",
    "        \"\"\" \n",
    "        self.start_date += timedelta(days=7)\n",
    "        self.end_date += timedelta(days=7)\n",
    "\n",
    "    def construct_or_update_tg(self, filter_key='load_count', display_progress=False, display_path_info=False):\n",
    "        \"\"\" \n",
    "        Either (1) creates a network graph given a start and end date \n",
    "            or (2) updates the network graph to the next week's graph \n",
    "\n",
    "        Args: \n",
    "            start_date, end_date: start & end date of the first two weeks of the simulation\n",
    "\n",
    "        Returns: n/a\n",
    "        \"\"\"        \n",
    "        # construct or update cm_finder.network \n",
    "        if not self.cm_network: \n",
    "            self.cm_network = temporalNetwork(self.start_date, self.end_date, self.location_grouping, self.origin, self.facility_id, self.intermediate)\n",
    "            self.cm_network.construct_network_graph()\n",
    "            self.cm_finder = CM_Finder(location_grouping=self.location_grouping)\n",
    "        else: \n",
    "            self.cm_network.move_to_next_week()\n",
    "\n",
    "        self.cm_finder.origin_location_list = self.cm_network.origin_location_list\n",
    "        self.cm_finder.network = self.cm_network.network\n",
    "        \n",
    "        # self.cm_finder.group_to_DiGraph(display_progress = display_progress)\n",
    "        self.weekly_graphs[self.end_date] = self.cm_finder.network\n",
    "\n",
    "    def temporal_query(self, start_date, temporal=True, looback = 7, number_of_weeks=None, termination_date = None, \\\n",
    "                    filter_key = \"load_count\", display_progress=False, display_path_info = False): \n",
    "        \"\"\"\n",
    "        Given a start date, run the simulation for number_of_weeks or until termination_date is reached.\n",
    "\n",
    "        Args: \n",
    "            start_date: start date of the first week of the simulation\n",
    "            temporal: if True, run the simulation for every two weeks, if False, run the simulation from start_date until end_date\n",
    "            number_of_weeks: number of weeks to run the simulation for\n",
    "            termination_date: date to stop the simulation\n",
    "            filter_key: key to filter the network on (load_count or path_score)\n",
    "            display_progress: if True, display progress bar\n",
    "            display_path_info: if True, display path info\n",
    "\n",
    "        Returns: a dictionary of simulation result for each week\n",
    "            \n",
    "        Note:\n",
    "        * termination_date: termination date of the entire analysis, when end_date reaches termination_date, the query loop terminates,\n",
    "        * end_date: the end date of the two-week window, will be updated every week\n",
    "\n",
    "        - Once the parameters (location_grouping, origin, facility_id, intermediate) are used to initialise the cm_time class, \n",
    "          they will be used for any further analysis until new initialisation happens.\n",
    "          query_weekly method will only perform analysis, no alterations can be made by calling solely this.\n",
    "\n",
    "        - If temporal=True, --> end_date != termination_date, eventually at the end of simulations, end_date = termination_date\n",
    "            and number_of_weeks is given, end_date = start_date + 13 days for the first simulation, termination_date = start_date + 7 days * number_of_weeks\n",
    "            and termination_date is given, end_date = start_date + 13 days for the first simulation and termination_date=termination_date for the simulation\n",
    "          If temporal=False --> end_date = termination_date \n",
    "            and number_of_weeks is given, end_date = start_date + 7 days * number_of_weeks for the simulation \n",
    "            and termination_date is given, end_date=termination_date for the simulation\n",
    "\n",
    "        * simulation_results: a dictionary with key as the end_date and value as the simulation result\n",
    "        \"\"\"\n",
    "\n",
    "        # create information needed for a new query with the given start_date and number_of_weeks\n",
    "        # possible bug when end_date > termination_date.\n",
    "        if temporal: \n",
    "            self.start_date, self.end_date = start_date, start_date + timedelta(days=looback-1)\n",
    "\n",
    "            if number_of_weeks: termination_date = self.start_date + timedelta(days=7) * number_of_weeks\n",
    "            elif termination_date: termination_date = termination_date\n",
    "            else: raise Exception(\"Neither number of weeks nor termination date was given to set the simulation time period.\")\n",
    "        \n",
    "            # run simulation for every two weeks until termination_date\n",
    "            while self.end_date <= termination_date:    \n",
    "                self.construct_or_update_tg(filter_key=filter_key, \\\n",
    "                                    display_progress=display_progress, display_path_info=display_path_info)\n",
    "                self.update_dates() \n",
    "                \n",
    "        else: \n",
    "            if number_of_weeks: self.start_date, self.end_date = start_date, start_date + timedelta(days=7) * number_of_weeks\n",
    "            elif termination_date: self.start_date, self.end_date = start_date, termination_date\n",
    "            else: raise Exception(\"Neither number of weeks nor termination date was given to set the simulation time period.\")\n",
    "            self.run_single_simulation(filter_key=filter_key, \\\n",
    "                                display_progress=display_progress, display_path_info=display_path_info)\n",
    "\n",
    "        return self.weekly_graphs\n",
    "\n",
    "    def if_edge(node1, node2, curr_graph): \n",
    "        adjacency_matrix = curr_graph"
   ]
  },
  {
   "cell_type": "code",
   "execution_count": 6,
   "metadata": {},
   "outputs": [
    {
     "name": "stdout",
     "output_type": "stream",
     "text": [
      "Current time of the graph: 2021-01-01 to 2021-01-07\n",
      "Current time of the graph: 2021-01-08 to 2021-01-14\n",
      "Current time of the graph: 2021-01-15 to 2021-01-21\n",
      "Current time of the graph: 2021-01-22 to 2021-01-28\n",
      "Current time of the graph: 2021-01-29 to 2021-02-04\n",
      "Current time of the graph: 2021-02-05 to 2021-02-11\n",
      "Current time of the graph: 2021-02-12 to 2021-02-18\n",
      "Current time of the graph: 2021-02-19 to 2021-02-25\n",
      "Current time of the graph: 2021-02-26 to 2021-03-04\n",
      "Current time of the graph: 2021-03-05 to 2021-03-11\n",
      "Current time of the graph: 2021-03-12 to 2021-03-18\n",
      "Current time of the graph: 2021-03-19 to 2021-03-25\n",
      "Current time of the graph: 2021-03-26 to 2021-04-01\n",
      "Current time of the graph: 2021-04-02 to 2021-04-08\n",
      "Current time of the graph: 2021-04-09 to 2021-04-15\n",
      "Current time of the graph: 2021-04-16 to 2021-04-22\n",
      "Current time of the graph: 2021-04-23 to 2021-04-29\n",
      "Current time of the graph: 2021-04-30 to 2021-05-06\n",
      "Current time of the graph: 2021-05-07 to 2021-05-13\n",
      "Current time of the graph: 2021-05-14 to 2021-05-20\n",
      "Current time of the graph: 2021-05-21 to 2021-05-27\n",
      "Current time of the graph: 2021-05-28 to 2021-06-03\n",
      "Current time of the graph: 2021-06-04 to 2021-06-10\n",
      "Current time of the graph: 2021-06-11 to 2021-06-17\n",
      "Current time of the graph: 2021-06-18 to 2021-06-24\n",
      "Current time of the graph: 2021-06-25 to 2021-07-01\n",
      "Current time of the graph: 2021-07-02 to 2021-07-08\n",
      "Current time of the graph: 2021-07-09 to 2021-07-15\n",
      "Current time of the graph: 2021-07-16 to 2021-07-22\n",
      "Current time of the graph: 2021-07-23 to 2021-07-29\n",
      "Current time of the graph: 2021-07-30 to 2021-08-05\n",
      "Current time of the graph: 2021-08-06 to 2021-08-12\n",
      "Current time of the graph: 2021-08-13 to 2021-08-19\n",
      "Current time of the graph: 2021-08-20 to 2021-08-26\n",
      "Current time of the graph: 2021-08-27 to 2021-09-02\n",
      "Current time of the graph: 2021-09-03 to 2021-09-09\n",
      "Current time of the graph: 2021-09-10 to 2021-09-16\n",
      "Current time of the graph: 2021-09-17 to 2021-09-23\n",
      "Current time of the graph: 2021-09-24 to 2021-09-30\n",
      "Current time of the graph: 2021-10-01 to 2021-10-07\n",
      "Current time of the graph: 2021-10-08 to 2021-10-14\n",
      "Current time of the graph: 2021-10-15 to 2021-10-21\n",
      "Current time of the graph: 2021-10-22 to 2021-10-28\n",
      "Current time of the graph: 2021-10-29 to 2021-11-04\n",
      "Current time of the graph: 2021-11-05 to 2021-11-11\n",
      "Current time of the graph: 2021-11-12 to 2021-11-18\n",
      "Current time of the graph: 2021-11-19 to 2021-11-25\n",
      "Current time of the graph: 2021-11-26 to 2021-12-02\n",
      "Current time of the graph: 2021-12-03 to 2021-12-09\n",
      "Current time of the graph: 2021-12-10 to 2021-12-16\n",
      "Current time of the graph: 2021-12-17 to 2021-12-23\n",
      "Current time of the graph: 2021-12-24 to 2021-12-30\n",
      "Current time of the graph: 2021-12-31 to 2022-01-06\n",
      "Current time of the graph: 2022-01-07 to 2022-01-13\n",
      "Current time of the graph: 2022-01-14 to 2022-01-20\n",
      "Current time of the graph: 2022-01-21 to 2022-01-27\n",
      "Current time of the graph: 2022-01-28 to 2022-02-03\n",
      "Current time of the graph: 2022-02-04 to 2022-02-10\n",
      "Current time of the graph: 2022-02-11 to 2022-02-17\n",
      "Current time of the graph: 2022-02-18 to 2022-02-24\n",
      "Current time of the graph: 2022-02-25 to 2022-03-03\n",
      "Current time of the graph: 2022-03-04 to 2022-03-10\n",
      "Current time of the graph: 2022-03-11 to 2022-03-17\n",
      "Current time of the graph: 2022-03-18 to 2022-03-24\n",
      "Current time of the graph: 2022-03-25 to 2022-03-31\n",
      "Current time of the graph: 2022-04-01 to 2022-04-07\n",
      "Current time of the graph: 2022-04-08 to 2022-04-14\n",
      "Current time of the graph: 2022-04-15 to 2022-04-21\n",
      "Current time of the graph: 2022-04-22 to 2022-04-28\n",
      "Current time of the graph: 2022-04-29 to 2022-05-05\n",
      "Current time of the graph: 2022-05-06 to 2022-05-12\n",
      "Current time of the graph: 2022-05-13 to 2022-05-19\n",
      "Current time of the graph: 2022-05-20 to 2022-05-26\n",
      "Current time of the graph: 2022-05-27 to 2022-06-02\n",
      "Current time of the graph: 2022-06-03 to 2022-06-09\n",
      "Current time of the graph: 2022-06-10 to 2022-06-16\n",
      "Current time of the graph: 2022-06-17 to 2022-06-23\n",
      "Current time of the graph: 2022-06-24 to 2022-06-30\n",
      "Current time of the graph: 2022-07-01 to 2022-07-07\n",
      "Current time of the graph: 2022-07-08 to 2022-07-14\n",
      "Current time of the graph: 2022-07-15 to 2022-07-21\n",
      "Current time of the graph: 2022-07-22 to 2022-07-28\n",
      "Current time of the graph: 2022-07-29 to 2022-08-04\n",
      "Current time of the graph: 2022-08-05 to 2022-08-11\n",
      "Current time of the graph: 2022-08-12 to 2022-08-18\n",
      "Current time of the graph: 2022-08-19 to 2022-08-25\n",
      "Current time of the graph: 2022-08-26 to 2022-09-01\n",
      "Current time of the graph: 2022-09-02 to 2022-09-08\n",
      "Current time of the graph: 2022-09-09 to 2022-09-15\n",
      "Current time of the graph: 2022-09-16 to 2022-09-22\n",
      "Current time of the graph: 2022-09-23 to 2022-09-29\n",
      "Current time of the graph: 2022-09-30 to 2022-10-06\n",
      "Current time of the graph: 2022-10-07 to 2022-10-13\n",
      "Current time of the graph: 2022-10-14 to 2022-10-20\n",
      "Current time of the graph: 2022-10-21 to 2022-10-27\n",
      "Current time of the graph: 2022-10-28 to 2022-11-03\n",
      "Current time of the graph: 2022-11-04 to 2022-11-10\n",
      "Current time of the graph: 2022-11-11 to 2022-11-17\n",
      "Current time of the graph: 2022-11-18 to 2022-11-24\n",
      "Current time of the graph: 2022-11-25 to 2022-12-01\n",
      "Current time of the graph: 2022-12-02 to 2022-12-08\n",
      "Current time of the graph: 2022-12-09 to 2022-12-15\n",
      "Current time of the graph: 2022-12-16 to 2022-12-22\n",
      "Current time of the graph: 2022-12-23 to 2022-12-29\n",
      "Current time of the graph: 2022-12-30 to 2023-01-05\n",
      "Current time of the graph: 2023-01-06 to 2023-01-12\n",
      "Current time of the graph: 2023-01-13 to 2023-01-19\n",
      "Current time of the graph: 2023-01-20 to 2023-01-26\n",
      "Current time of the graph: 2023-01-27 to 2023-02-02\n",
      "Current time of the graph: 2023-02-03 to 2023-02-09\n",
      "Current time of the graph: 2023-02-10 to 2023-02-16\n",
      "Current time of the graph: 2023-02-17 to 2023-02-23\n",
      "Current time of the graph: 2023-02-24 to 2023-03-02\n",
      "Current time of the graph: 2023-03-03 to 2023-03-09\n",
      "Current time of the graph: 2023-03-10 to 2023-03-16\n",
      "Current time of the graph: 2023-03-17 to 2023-03-23\n",
      "Current time of the graph: 2023-03-24 to 2023-03-30\n",
      "Current time of the graph: 2023-03-31 to 2023-04-06\n",
      "Current time of the graph: 2023-04-07 to 2023-04-13\n",
      "Current time of the graph: 2023-04-14 to 2023-04-20\n",
      "Current time of the graph: 2023-04-21 to 2023-04-27\n",
      "Current time of the graph: 2023-04-28 to 2023-05-04\n",
      "Current time of the graph: 2023-05-05 to 2023-05-11\n",
      "Current time of the graph: 2023-05-12 to 2023-05-18\n",
      "Current time of the graph: 2023-05-19 to 2023-05-25\n",
      "Current time of the graph: 2023-05-26 to 2023-06-01\n"
     ]
    }
   ],
   "source": [
    "# construct graph old & new \n",
    "cm_time = CM_Time(location_grouping = 'zip3') \n",
    "weekly_graphs = cm_time.temporal_query(start_date=datetime(2021,1,1).date(), looback=7, termination_date= datetime(2023,6, 1).date(), \\\n",
    "                    display_progress=False, display_path_info = False)"
   ]
  },
  {
   "cell_type": "markdown",
   "metadata": {},
   "source": [
    "# Helper functions"
   ]
  },
  {
   "cell_type": "code",
   "execution_count": 7,
   "metadata": {},
   "outputs": [],
   "source": [
    "def operator_l2(u, v):\n",
    "    return (u - v) ** 2\n",
    "\n",
    "def operator_sub(u, v):\n",
    "    return (u - v)\n",
    "\n",
    "\n",
    "binary_operator = operator_l2\n",
    "\n",
    "from sklearn.pipeline import Pipeline\n",
    "from sklearn.linear_model import LogisticRegressionCV\n",
    "from sklearn.metrics import roc_auc_score\n",
    "from sklearn.preprocessing import StandardScaler\n",
    "\n",
    "\n",
    "def link_examples_to_features(link_examples, transform_node):\n",
    "    return [\n",
    "        operator_l2(transform_node(src), transform_node(dst)) for src, dst in link_examples\n",
    "    ]\n",
    "\n",
    "def link_examples_to_features_sub(link_examples, transform_node):\n",
    "    return [\n",
    "        operator_sub(transform_node(src), transform_node(dst)) for src, dst in link_examples\n",
    "    ]\n",
    "\n",
    "\n",
    "def link_prediction_classifier(max_iter=2000):\n",
    "    lr_clf = LogisticRegressionCV(Cs=10, cv=10, scoring=\"roc_auc\", max_iter=max_iter, penalty=\"l2\") #, solver=\"liblinear\")\n",
    "    return Pipeline(steps=[(\"sc\", StandardScaler()), (\"clf\", lr_clf)])\n",
    "\n",
    "def evaluate_roc_auc(clf, link_features, link_labels):\n",
    "    predicted = clf.predict_proba(link_features)\n",
    "\n",
    "    # check which class corresponds to positive links\n",
    "    positive_column = list(clf.classes_).index(1)\n",
    "    return roc_auc_score(link_labels, predicted[:, positive_column])\n",
    "\n",
    "# def labelled_links(positive_examples, negative_examples):\n",
    "#     return (\n",
    "#         positive_examples + negative_examples,\n",
    "#         np.repeat([1, 0], [len(positive_examples), len(negative_examples)]),\n",
    "#     )\n"
   ]
  },
  {
   "cell_type": "markdown",
   "metadata": {},
   "source": [
    "# trw"
   ]
  },
  {
   "cell_type": "code",
   "execution_count": 8,
   "metadata": {},
   "outputs": [],
   "source": [
    "def data_split(graph, prediction_window_size=2): \n",
    "    # graph = stellar graph\n",
    "    # identify edges based on dates\n",
    "    edges, weights = np.array(graph.edges(include_edge_weight=True)[0]), np.array(graph.edges(include_edge_weight=True)[1])\n",
    "    lower_lim = sorted(list(set(weights)))[-prediction_window_size]\n",
    "    index_test, index_train = np.where(weights >= lower_lim)[0], np.where(weights < lower_lim)[0]\n",
    "\n",
    "    # create test & train edge sets\n",
    "    test_edges, test_labels = edges[index_test], weights[index_test]\n",
    "    train_edges, train_labels = edges[index_train], weights[index_train]\n",
    "    test_weighted_edges = np.rec.fromarrays([test_edges[:,0], test_edges[:,1], test_labels])\n",
    "    train_weighted_edges = np.rec.fromarrays([train_edges[:,0], train_edges[:,1], train_labels])\n",
    "    # print(set(test_labels), set(train_labels))\n",
    "\n",
    "    # create test and train graph \n",
    "    test_graph,train_graph = nx.MultiDiGraph(), nx.MultiDiGraph()\n",
    "    test_graph.add_weighted_edges_from(test_weighted_edges,weight='time')\n",
    "    train_graph.add_weighted_edges_from(train_weighted_edges,weight='time')\n",
    "    test_graph, train_graph = StellarGraph.from_networkx(test_graph, edge_weight_attr='time', edge_type_attr='directed'), \\\n",
    "                        StellarGraph.from_networkx(train_graph, edge_weight_attr='time', edge_type_attr='directed'), \n",
    "\n",
    "    # create pos & neg edges \n",
    "    edge_splitter_test = EdgeSplitter(test_graph, graph)\n",
    "    graph_test, examples_test, labels_test = edge_splitter_test.train_test_split( #result_graph, [u, v], edge_data_labels (1 or 0)\n",
    "        p=0.1, method=\"global\",\n",
    "    )\n",
    "\n",
    "    ## train graph \n",
    "    edge_splitter_train = EdgeSplitter(train_graph, graph)\n",
    "    graph_train, examples, labels = edge_splitter_train.train_test_split(\n",
    "        p=0.1, method=\"global\"\n",
    "    )\n",
    "    \n",
    "    # (\n",
    "    #     examples_train,\n",
    "    #     examples_model_selection,\n",
    "    #     labels_train,\n",
    "    #     labels_model_selection,\n",
    "    # ) = sklearn.model_selection.train_test_split(examples, labels, train_size=0.75, test_size=0.25)\n",
    "\n",
    "    # concatenate graph_train and train_graph as by time t, we have learned all previous edges up to t \n",
    "    test_graph_e = graph_test.edges(include_edge_weight=True)\n",
    "    test_graph_edges, test_graph_weights= np.array(test_graph_e[0]),np.array(test_graph_e[1])\n",
    "    test_weighted_edges = np.rec.fromarrays([test_graph_edges[:,0], test_graph_edges[:,1], test_graph_weights])\n",
    "    train_graph_e = train_graph.edges(include_edge_weight=True)\n",
    "    train_graph_edges, train_graph_weights= np.array(train_graph_e[0]),np.array(train_graph_e[1])\n",
    "    train_weighted_edges = np.rec.fromarrays([train_graph_edges[:,0], train_graph_edges[:,1], train_graph_weights])\n",
    "    union_graph_test = nx.MultiDiGraph()\n",
    "    union_graph_test.add_weighted_edges_from(test_weighted_edges)\n",
    "    union_graph_test.add_weighted_edges_from(train_weighted_edges)\n",
    "    union_graph_test = StellarGraph.from_networkx(union_graph_test, edge_weight_attr='time', edge_type_attr='directed')\n",
    "\n",
    "    if set(graph_train.edges(include_edge_weight=True)[1]).intersection(set(graph_test.edges(include_edge_weight=True)[1])): \n",
    "        raise(Exception)\n",
    "    return union_graph_test, graph_test, examples_test, labels_test, graph_train, examples, labels #, examples_train,examples_model_selection,labels_train,labels_model_selection,\n",
    "\n",
    "# union_graph_test, graph_test, examples_test, labels_test, graph_train, examples, labels = data_split(graph)\n",
    "# print(len(graph_test.edges()), len(graph_train.edges()))\n",
    "# print(set(graph_train.edges(include_edge_weight=True)[1]).intersection(set(graph_test.edges(include_edge_weight=True)[1])))\n",
    "# graph_test, examples_test, labels_test, graph_train, examples, labels, examples_train,examples_model_selection,labels_train,labels_model_selection, = data_split(graph)"
   ]
  },
  {
   "cell_type": "code",
   "execution_count": 9,
   "metadata": {},
   "outputs": [],
   "source": [
    "from torch_geometric.transforms import RandomLinkSplit\n",
    "from torch_geometric.utils.convert import from_networkx"
   ]
  },
  {
   "cell_type": "code",
   "execution_count": 10,
   "metadata": {},
   "outputs": [],
   "source": [
    "# date_list = list(weekly_graphs.keys())\n",
    "# graph = weekly_graphs[date_list[0]]\n",
    "# # graph = from_networkx(graph)\n",
    "# graph['681']['515'][4]['time']"
   ]
  },
  {
   "cell_type": "code",
   "execution_count": 27,
   "metadata": {},
   "outputs": [],
   "source": [
    "# def run_analysis(graph): \n",
    "#     union_graph_test, graph_test, examples_test, labels_test, graph_train, examples, labels = data_split(graph)\n",
    "\n",
    "#     num_walks_per_node = 7\n",
    "#     walk_length = 7\n",
    "#     context_window_size = 2\n",
    "#     num_cw = len(graph_train.nodes()) * num_walks_per_node * (walk_length - context_window_size + 1)\n",
    "\n",
    "#     # temporal graph\n",
    "#     temporal_rw = TemporalRandomWalk(graph_train)\n",
    "#     temporal_walks = temporal_rw.run(\n",
    "#         num_cw=num_cw,\n",
    "#         cw_size=context_window_size,\n",
    "#         max_walk_length=walk_length,\n",
    "#         walk_bias=\"exponential\",\n",
    "#     )\n",
    "\n",
    "#     # print(\"Number of temporal random walks: {}\".format(len(temporal_walks)))\n",
    "#     workers = multiprocessing.cpu_count()\n",
    "#     embedding_size = 128\n",
    "#     temporal_model = Word2Vec(\n",
    "#         temporal_walks,\n",
    "#         vector_size=embedding_size,\n",
    "#         window=context_window_size,\n",
    "#         min_count=0,\n",
    "#         sg=1,\n",
    "#         workers=workers,\n",
    "#         epochs=1,)\n",
    "\n",
    "#     unseen_node_embedding = np.zeros(embedding_size)\n",
    "\n",
    "#     def temporal_embedding(u):\n",
    "#         try:\n",
    "#             return temporal_model.wv[u]\n",
    "#         except KeyError:\n",
    "#             return unseen_node_embedding\n",
    "    \n",
    "#     temporal_node_embeddings = temporal_model.wv.vectors\n",
    "#     temporal_clf = link_prediction_classifier()\n",
    "#     temporal_link_features = link_examples_to_features(examples, temporal_embedding)\n",
    "#     temporal_link_features_test = link_examples_to_features(examples_test, temporal_embedding)\n",
    "#     temporal_clf.fit(temporal_link_features, labels)\n",
    "#     temporal_score_train = evaluate_roc_auc(temporal_clf, temporal_link_features, labels)\n",
    "#     temporal_score_test = evaluate_roc_auc(temporal_clf, temporal_link_features_test, labels_test)\n",
    "\n",
    "#     print(f\"Score (ROC AUC): {temporal_score_test:.2f}\")\n",
    "\n",
    "#     # print(\"Number of static random walks: {}\".format(len(static_walks)))\n",
    "#     static_rw = BiasedRandomWalk(graph_train)\n",
    "#     static_walks = static_rw.run(graph.nodes(), n=num_walks_per_node, length=walk_length, p=p, q=q)\n",
    "\n",
    "#     static_model = Word2Vec(\n",
    "#         static_walks,\n",
    "#         vector_size=embedding_size,\n",
    "#         window=context_window_size,\n",
    "#         min_count=0,\n",
    "#         sg=1,\n",
    "#         workers=workers,\n",
    "#         epochs=1,\n",
    "#     )\n",
    "#     def static_embedding(u):\n",
    "#         return static_model.wv[u]\n",
    "\n",
    "#     static_clf = link_prediction_classifier()\n",
    "#     static_link_features = link_examples_to_features(examples, static_embedding)\n",
    "#     static_link_features_test = link_examples_to_features(examples_test, static_embedding)\n",
    "#     static_clf.fit(static_link_features, labels)\n",
    "#     static_score_train = evaluate_roc_auc(static_clf, static_link_features, labels)\n",
    "#     static_score_test = evaluate_roc_auc(static_clf, static_link_features_test, labels_test)\n",
    "\n",
    "#     print(f\"Score (ROC AUC): {static_score_test:.2f}\")\n",
    "#     return (temporal_score_train, temporal_score_test), (static_score_train, static_score_test)"
   ]
  },
  {
   "cell_type": "code",
   "execution_count": 12,
   "metadata": {},
   "outputs": [],
   "source": [
    "def temporal_model(graph, num_walks_per_node=10, walk_length = 10, context_window_size = 2): \n",
    "    num_cw = len(graph.nodes()) * num_walks_per_node * (walk_length - context_window_size + 1)\n",
    "    temporal_rw = TemporalRandomWalk(graph)\n",
    "    temporal_walks = temporal_rw.run(\n",
    "        num_cw=num_cw,\n",
    "        cw_size=context_window_size,\n",
    "        max_walk_length=walk_length,\n",
    "        walk_bias=\"exponential\",\n",
    "    )\n",
    "    \n",
    "    embedding_size = 128\n",
    "    temporal_model = Word2Vec(\n",
    "        temporal_walks,\n",
    "        vector_size=embedding_size,\n",
    "        window=context_window_size,\n",
    "        min_count=0,\n",
    "        sg=1,\n",
    "        workers=2,\n",
    "        epochs=1,)\n",
    "\n",
    "    unseen_node_embedding = np.zeros(embedding_size)\n",
    "\n",
    "    def temporal_embedding(u):\n",
    "        try:\n",
    "            return temporal_model.wv[u]\n",
    "        except KeyError:\n",
    "            return unseen_node_embedding\n",
    "    return temporal_embedding \n",
    "\n",
    "def static_model(graph, num_walks_per_node=10, walk_length = 10, context_window_size = 2): \n",
    "    static_rw = BiasedRandomWalk(graph)\n",
    "    static_walks = static_rw.run(\n",
    "        nodes=graph.nodes(), n=num_walks_per_node, length=walk_length\n",
    "    )\n",
    "\n",
    "    # print(\"Number of static random walks: {}\".format(len(static_walks)))\n",
    "    embedding_size = 128\n",
    "    static_model = Word2Vec(\n",
    "        static_walks,\n",
    "        vector_size=embedding_size,\n",
    "        window=context_window_size,\n",
    "        min_count=0,\n",
    "        sg=1,\n",
    "        workers=2,\n",
    "        epochs=1,\n",
    "    )\n",
    "    unseen_node_embedding = np.zeros(embedding_size)\n",
    "    def static_embedding(u):\n",
    "        try: \n",
    "            return static_model.wv[u]\n",
    "        except KeyError:\n",
    "            return unseen_node_embedding\n",
    "    return static_embedding\n"
   ]
  },
  {
   "cell_type": "code",
   "execution_count": 56,
   "metadata": {},
   "outputs": [],
   "source": [
    "def run_analysis(graph, display_progress=False): \n",
    "    union_graph_test, graph_test, examples_test, labels_test, graph_train, examples, labels = data_split(graph)\n",
    "\n",
    "    num_walks_per_node = 10\n",
    "    walk_length = 10\n",
    "    context_window_size = 2\n",
    "    num_cw = len(graph_train.nodes()) * num_walks_per_node * (walk_length - context_window_size + 1)\n",
    "\n",
    "    # learn the classifier \n",
    "    temporal_embedding = temporal_model(graph_train)\n",
    "    temporal_link_features = link_examples_to_features(examples, temporal_embedding)\n",
    "    temporal_clf = link_prediction_classifier()\n",
    "    temporal_clf.fit(temporal_link_features, labels)\n",
    "    temporal_score_train = evaluate_roc_auc(temporal_clf, temporal_link_features, labels)\n",
    "    if display_progress: print(f\"Temporal Training Score (ROC AUC): {temporal_score_train:.2f}\")\n",
    "\n",
    "    # random walk on the test graph + train_graph & calculate test score\n",
    "    temporal_embedding = temporal_model(union_graph_test)\n",
    "    temporal_link_features_test = link_examples_to_features(examples_test, temporal_embedding)\n",
    "    temporal_score_test = evaluate_roc_auc(temporal_clf, temporal_link_features_test, labels_test)\n",
    "    if display_progress: print(f\"Temporal Test Score (ROC AUC): {temporal_score_test:.2f}\")\n",
    "\n",
    "    # learn the classifier \n",
    "    static_embedding = static_model(graph_train)\n",
    "    static_clf = link_prediction_classifier()\n",
    "    static_link_features = link_examples_to_features(examples, static_embedding)\n",
    "    static_clf.fit(static_link_features, labels)\n",
    "    static_score_train = evaluate_roc_auc(static_clf, static_link_features, labels)\n",
    "    if display_progress: print(f\"Static Training Score (ROC AUC): {static_score_train:.2f}\")\n",
    "\n",
    "    # random walk on the test graph + train_graph & calculate test score\n",
    "    static_embedding = static_model(union_graph_test)\n",
    "    static_link_features_test = link_examples_to_features(examples_test, static_embedding)\n",
    "    static_score_test = evaluate_roc_auc(static_clf, static_link_features_test, labels_test)\n",
    "\n",
    "    if display_progress: print(f\"Static Test Score (ROC AUC): {static_score_test:.2f}\")\n",
    "    return (temporal_clf, temporal_score_train, temporal_score_test), (static_clf, static_score_train, static_score_test)"
   ]
  },
  {
   "cell_type": "code",
   "execution_count": 55,
   "metadata": {},
   "outputs": [],
   "source": [
    "# train_errors, test_errors = defaultdict(list), defaultdict(list)\n",
    "# for time, graph in tqdm(weekly_graphs.items()): \n",
    "#     fig, ax = plt.subplots(2,2, figsize=(10,5))\n",
    "#     graph = StellarGraph.from_networkx(graph, edge_weight_attr='time', edge_type_attr='directed')\n",
    "#     union_graph_test, graph_test, examples_test, labels_test, graph_train, examples, labels = data_split(graph)\n",
    "\n",
    "#     num_walks_per_node = 10\n",
    "#     walk_length = 10\n",
    "#     context_window_size = 2\n",
    "#     num_cw = len(graph_train.nodes()) * num_walks_per_node * (walk_length - context_window_size + 1)\n",
    "\n",
    "#     # learn the classifier \n",
    "#     temporal_embedding = temporal_model(graph_train)\n",
    "#     temporal_link_features = link_examples_to_features(examples, temporal_embedding)\n",
    "#     temporal_clf = link_prediction_classifier()\n",
    "#     temporal_clf.fit(temporal_link_features, labels)\n",
    "#     probabilities = np.array(temporal_clf.predict_proba(temporal_link_features)[:,1])\n",
    "#     zero_idx, one_idx = np.where(labels == 0)[0], np.where(labels == 1)[0] \n",
    "#     ax[0][0].hist(probabilities[zero_idx], label='zero',density=True, histtype='step', rwidth=0.8)\n",
    "#     ax[0][0].hist(probabilities[one_idx], label='zero',density=True, histtype='step', rwidth=0.8)\n",
    "#     temporal_score_train = evaluate_roc_auc(temporal_clf, temporal_link_features, labels)\n",
    "    \n",
    "#     # random walk on the test graph + train_graph & calculate test score\n",
    "#     temporal_embedding = temporal_model(union_graph_test)\n",
    "#     temporal_link_features_test = link_examples_to_features(examples_test, temporal_embedding) #128 * n shape\n",
    "#     probabilities = np.array(temporal_clf.predict_proba(temporal_link_features_test)[:,1])\n",
    "#     zero_idx_test, one_idx_test = np.where(labels_test == 0)[0], np.where(labels_test == 1)[0]\n",
    "#     ax[0][1].hist(probabilities[zero_idx_test], label='zero',density=True, histtype='step', rwidth=0.8)\n",
    "#     ax[0][1].hist(probabilities[one_idx_test], label='zero',density=True, histtype='step', rwidth=0.8)\n",
    "#     temporal_score_test = evaluate_roc_auc(temporal_clf, temporal_link_features_test, labels_test)\n",
    "\n",
    "#     # learn the classifier \n",
    "#     static_embedding = static_model(graph_train)\n",
    "#     static_clf = link_prediction_classifier()\n",
    "#     static_link_features = link_examples_to_features(examples, static_embedding)\n",
    "#     static_clf.fit(static_link_features, labels)\n",
    "#     static_score_train = evaluate_roc_auc(static_clf, static_link_features, labels)\n",
    "#     probabilities = np.array(static_clf.predict_proba(static_link_features)[:,1])\n",
    "#     ax[1][0].hist(probabilities[zero_idx], label='zero',density=True, histtype='step', rwidth=0.8)\n",
    "#     ax[1][0].hist(probabilities[one_idx], label='zero',density=True, histtype='step', rwidth=0.8)\n",
    "\n",
    "#     # random walk on the test graph + train_graph & calculate test score\n",
    "#     static_embedding = static_model(union_graph_test)\n",
    "#     static_link_features_test = link_examples_to_features(examples_test, static_embedding)\n",
    "#     static_score_test = evaluate_roc_auc(static_clf, static_link_features_test, labels_test)\n",
    "#     probabilities = np.array(static_clf.predict_proba(static_link_features_test)[:,1])\n",
    "#     ax[1][1].hist(probabilities[zero_idx_test], label='zero',density=True, histtype='step', rwidth=0.8)\n",
    "#     ax[1][1].hist(probabilities[one_idx_test], label='zero',density=True, histtype='step', rwidth=0.8)\n",
    "#     plt.show()"
   ]
  },
  {
   "cell_type": "code",
   "execution_count": 57,
   "metadata": {},
   "outputs": [
    {
     "name": "stderr",
     "output_type": "stream",
     "text": [
      "  0%|          | 0/126 [00:00<?, ?it/s]"
     ]
    },
    {
     "name": "stdout",
     "output_type": "stream",
     "text": [
      "** Sampled 175 positive and 175 negative edges. **\n",
      "** Sampled 427 positive and 427 negative edges. **\n",
      "Temporal Training Score (ROC AUC): 0.68\n",
      "Temporal Test Score (ROC AUC): 0.74\n",
      "Static Training Score (ROC AUC): 0.68\n"
     ]
    },
    {
     "name": "stderr",
     "output_type": "stream",
     "text": [
      "  1%|          | 1/126 [00:42<1:28:15, 42.36s/it]"
     ]
    },
    {
     "name": "stdout",
     "output_type": "stream",
     "text": [
      "Static Test Score (ROC AUC): 0.66\n",
      "** Sampled 175 positive and 175 negative edges. **\n",
      "** Sampled 427 positive and 427 negative edges. **\n",
      "Temporal Training Score (ROC AUC): 0.70\n",
      "Temporal Test Score (ROC AUC): 0.73\n",
      "Static Training Score (ROC AUC): 0.64\n"
     ]
    },
    {
     "name": "stderr",
     "output_type": "stream",
     "text": [
      "  2%|▏         | 2/126 [01:23<1:26:04, 41.65s/it]"
     ]
    },
    {
     "name": "stdout",
     "output_type": "stream",
     "text": [
      "Static Test Score (ROC AUC): 0.67\n",
      "** Sampled 175 positive and 175 negative edges. **\n",
      "** Sampled 427 positive and 427 negative edges. **\n",
      "Temporal Training Score (ROC AUC): 0.74\n",
      "Temporal Test Score (ROC AUC): 0.76\n",
      "Static Training Score (ROC AUC): 0.71\n"
     ]
    },
    {
     "name": "stderr",
     "output_type": "stream",
     "text": [
      "  2%|▏         | 3/126 [01:53<1:14:55, 36.55s/it]"
     ]
    },
    {
     "name": "stdout",
     "output_type": "stream",
     "text": [
      "Static Test Score (ROC AUC): 0.37\n",
      "** Sampled 175 positive and 175 negative edges. **\n",
      "** Sampled 427 positive and 427 negative edges. **\n",
      "Temporal Training Score (ROC AUC): 0.74\n",
      "Temporal Test Score (ROC AUC): 0.71\n",
      "Static Training Score (ROC AUC): 0.71\n"
     ]
    },
    {
     "name": "stderr",
     "output_type": "stream",
     "text": [
      "  3%|▎         | 4/126 [02:22<1:08:10, 33.53s/it]"
     ]
    },
    {
     "name": "stdout",
     "output_type": "stream",
     "text": [
      "Static Test Score (ROC AUC): 0.65\n",
      "** Sampled 175 positive and 175 negative edges. **\n",
      "** Sampled 427 positive and 427 negative edges. **\n",
      "Temporal Training Score (ROC AUC): 0.69\n",
      "Temporal Test Score (ROC AUC): 0.73\n",
      "Static Training Score (ROC AUC): 0.74\n"
     ]
    },
    {
     "name": "stderr",
     "output_type": "stream",
     "text": [
      "  4%|▍         | 5/126 [02:55<1:06:48, 33.13s/it]"
     ]
    },
    {
     "name": "stdout",
     "output_type": "stream",
     "text": [
      "Static Test Score (ROC AUC): 0.43\n",
      "** Sampled 175 positive and 175 negative edges. **\n",
      "** Sampled 427 positive and 427 negative edges. **\n",
      "Temporal Training Score (ROC AUC): 0.68\n",
      "Temporal Test Score (ROC AUC): 0.75\n",
      "Static Training Score (ROC AUC): 0.69\n"
     ]
    },
    {
     "name": "stderr",
     "output_type": "stream",
     "text": [
      "  5%|▍         | 6/126 [03:27<1:05:23, 32.69s/it]"
     ]
    },
    {
     "name": "stdout",
     "output_type": "stream",
     "text": [
      "Static Test Score (ROC AUC): 0.68\n",
      "** Sampled 175 positive and 175 negative edges. **\n",
      "** Sampled 427 positive and 427 negative edges. **\n",
      "Temporal Training Score (ROC AUC): 0.74\n",
      "Temporal Test Score (ROC AUC): 0.75\n",
      "Static Training Score (ROC AUC): 0.76\n"
     ]
    },
    {
     "name": "stderr",
     "output_type": "stream",
     "text": [
      "  6%|▌         | 7/126 [03:56<1:02:33, 31.54s/it]"
     ]
    },
    {
     "name": "stdout",
     "output_type": "stream",
     "text": [
      "Static Test Score (ROC AUC): 0.42\n",
      "** Sampled 175 positive and 175 negative edges. **\n",
      "** Sampled 427 positive and 427 negative edges. **\n",
      "Temporal Training Score (ROC AUC): 0.69\n",
      "Temporal Test Score (ROC AUC): 0.73\n",
      "Static Training Score (ROC AUC): 0.67\n"
     ]
    },
    {
     "name": "stderr",
     "output_type": "stream",
     "text": [
      "  6%|▋         | 8/126 [04:24<1:00:05, 30.55s/it]"
     ]
    },
    {
     "name": "stdout",
     "output_type": "stream",
     "text": [
      "Static Test Score (ROC AUC): 0.64\n",
      "** Sampled 175 positive and 175 negative edges. **\n",
      "** Sampled 427 positive and 427 negative edges. **\n",
      "Temporal Training Score (ROC AUC): 0.69\n",
      "Temporal Test Score (ROC AUC): 0.66\n",
      "Static Training Score (ROC AUC): 0.68\n"
     ]
    },
    {
     "name": "stderr",
     "output_type": "stream",
     "text": [
      "  7%|▋         | 9/126 [04:53<58:26, 29.97s/it]  "
     ]
    },
    {
     "name": "stdout",
     "output_type": "stream",
     "text": [
      "Static Test Score (ROC AUC): 0.43\n",
      "** Sampled 175 positive and 175 negative edges. **\n",
      "** Sampled 427 positive and 427 negative edges. **\n",
      "Temporal Training Score (ROC AUC): 0.70\n",
      "Temporal Test Score (ROC AUC): 0.72\n",
      "Static Training Score (ROC AUC): 0.68\n"
     ]
    },
    {
     "name": "stderr",
     "output_type": "stream",
     "text": [
      "  8%|▊         | 10/126 [05:21<56:53, 29.43s/it]"
     ]
    },
    {
     "name": "stdout",
     "output_type": "stream",
     "text": [
      "Static Test Score (ROC AUC): 0.61\n",
      "** Sampled 175 positive and 175 negative edges. **\n",
      "** Sampled 427 positive and 427 negative edges. **\n",
      "Temporal Training Score (ROC AUC): 0.71\n",
      "Temporal Test Score (ROC AUC): 0.64\n",
      "Static Training Score (ROC AUC): 0.68\n"
     ]
    },
    {
     "name": "stderr",
     "output_type": "stream",
     "text": [
      "  9%|▊         | 11/126 [05:50<55:57, 29.20s/it]"
     ]
    },
    {
     "name": "stdout",
     "output_type": "stream",
     "text": [
      "Static Test Score (ROC AUC): 0.40\n",
      "** Sampled 175 positive and 175 negative edges. **\n",
      "** Sampled 427 positive and 427 negative edges. **\n",
      "Temporal Training Score (ROC AUC): 0.69\n",
      "Temporal Test Score (ROC AUC): 0.72\n",
      "Static Training Score (ROC AUC): 0.64\n"
     ]
    },
    {
     "name": "stderr",
     "output_type": "stream",
     "text": [
      " 10%|▉         | 12/126 [06:18<54:58, 28.94s/it]"
     ]
    },
    {
     "name": "stdout",
     "output_type": "stream",
     "text": [
      "Static Test Score (ROC AUC): 0.65\n",
      "** Sampled 175 positive and 175 negative edges. **\n",
      "** Sampled 427 positive and 427 negative edges. **\n",
      "Temporal Training Score (ROC AUC): 0.70\n",
      "Temporal Test Score (ROC AUC): 0.74\n",
      "Static Training Score (ROC AUC): 0.68\n"
     ]
    },
    {
     "name": "stderr",
     "output_type": "stream",
     "text": [
      " 10%|█         | 13/126 [06:50<56:10, 29.83s/it]"
     ]
    },
    {
     "name": "stdout",
     "output_type": "stream",
     "text": [
      "Static Test Score (ROC AUC): 0.63\n",
      "** Sampled 175 positive and 175 negative edges. **\n",
      "** Sampled 427 positive and 427 negative edges. **\n",
      "Temporal Training Score (ROC AUC): 0.68\n",
      "Temporal Test Score (ROC AUC): 0.75\n",
      "Static Training Score (ROC AUC): 0.68\n"
     ]
    },
    {
     "name": "stderr",
     "output_type": "stream",
     "text": [
      " 11%|█         | 14/126 [07:21<56:25, 30.22s/it]"
     ]
    },
    {
     "name": "stdout",
     "output_type": "stream",
     "text": [
      "Static Test Score (ROC AUC): 0.67\n",
      "** Sampled 175 positive and 175 negative edges. **\n",
      "** Sampled 427 positive and 427 negative edges. **\n",
      "Temporal Training Score (ROC AUC): 0.72\n",
      "Temporal Test Score (ROC AUC): 0.69\n",
      "Static Training Score (ROC AUC): 0.71\n"
     ]
    },
    {
     "name": "stderr",
     "output_type": "stream",
     "text": [
      " 12%|█▏        | 15/126 [07:53<56:43, 30.66s/it]"
     ]
    },
    {
     "name": "stdout",
     "output_type": "stream",
     "text": [
      "Static Test Score (ROC AUC): 0.48\n",
      "** Sampled 175 positive and 175 negative edges. **\n",
      "** Sampled 427 positive and 427 negative edges. **\n",
      "Temporal Training Score (ROC AUC): 0.69\n",
      "Temporal Test Score (ROC AUC): 0.76\n",
      "Static Training Score (ROC AUC): 0.66\n"
     ]
    },
    {
     "name": "stderr",
     "output_type": "stream",
     "text": [
      " 13%|█▎        | 16/126 [08:23<56:04, 30.58s/it]"
     ]
    },
    {
     "name": "stdout",
     "output_type": "stream",
     "text": [
      "Static Test Score (ROC AUC): 0.67\n",
      "** Sampled 175 positive and 175 negative edges. **\n",
      "** Sampled 427 positive and 427 negative edges. **\n",
      "Temporal Training Score (ROC AUC): 0.69\n",
      "Temporal Test Score (ROC AUC): 0.71\n",
      "Static Training Score (ROC AUC): 0.74\n"
     ]
    },
    {
     "name": "stderr",
     "output_type": "stream",
     "text": [
      " 13%|█▎        | 17/126 [08:54<55:27, 30.53s/it]"
     ]
    },
    {
     "name": "stdout",
     "output_type": "stream",
     "text": [
      "Static Test Score (ROC AUC): 0.49\n",
      "** Sampled 175 positive and 175 negative edges. **\n",
      "** Sampled 427 positive and 427 negative edges. **\n",
      "Temporal Training Score (ROC AUC): 0.69\n",
      "Temporal Test Score (ROC AUC): 0.73\n",
      "Static Training Score (ROC AUC): 0.63\n"
     ]
    },
    {
     "name": "stderr",
     "output_type": "stream",
     "text": [
      " 14%|█▍        | 18/126 [09:22<53:58, 29.99s/it]"
     ]
    },
    {
     "name": "stdout",
     "output_type": "stream",
     "text": [
      "Static Test Score (ROC AUC): 0.65\n",
      "** Sampled 175 positive and 175 negative edges. **\n",
      "** Sampled 427 positive and 427 negative edges. **\n",
      "Temporal Training Score (ROC AUC): 0.72\n",
      "Temporal Test Score (ROC AUC): 0.75\n",
      "Static Training Score (ROC AUC): 0.65\n"
     ]
    },
    {
     "name": "stderr",
     "output_type": "stream",
     "text": [
      " 15%|█▌        | 19/126 [09:51<52:39, 29.53s/it]"
     ]
    },
    {
     "name": "stdout",
     "output_type": "stream",
     "text": [
      "Static Test Score (ROC AUC): 0.67\n",
      "** Sampled 175 positive and 175 negative edges. **\n",
      "** Sampled 427 positive and 427 negative edges. **\n",
      "Temporal Training Score (ROC AUC): 0.69\n",
      "Temporal Test Score (ROC AUC): 0.75\n",
      "Static Training Score (ROC AUC): 0.69\n"
     ]
    },
    {
     "name": "stderr",
     "output_type": "stream",
     "text": [
      " 16%|█▌        | 20/126 [10:19<51:26, 29.12s/it]"
     ]
    },
    {
     "name": "stdout",
     "output_type": "stream",
     "text": [
      "Static Test Score (ROC AUC): 0.37\n",
      "** Sampled 175 positive and 175 negative edges. **\n",
      "** Sampled 427 positive and 427 negative edges. **\n",
      "Temporal Training Score (ROC AUC): 0.69\n",
      "Temporal Test Score (ROC AUC): 0.75\n",
      "Static Training Score (ROC AUC): 0.74\n"
     ]
    },
    {
     "name": "stderr",
     "output_type": "stream",
     "text": [
      " 17%|█▋        | 21/126 [10:47<50:30, 28.86s/it]"
     ]
    },
    {
     "name": "stdout",
     "output_type": "stream",
     "text": [
      "Static Test Score (ROC AUC): 0.38\n",
      "** Sampled 175 positive and 175 negative edges. **\n",
      "** Sampled 427 positive and 427 negative edges. **\n",
      "Temporal Training Score (ROC AUC): 0.70\n",
      "Temporal Test Score (ROC AUC): 0.76\n",
      "Static Training Score (ROC AUC): 0.68\n"
     ]
    },
    {
     "name": "stderr",
     "output_type": "stream",
     "text": [
      " 17%|█▋        | 22/126 [11:17<50:26, 29.10s/it]"
     ]
    },
    {
     "name": "stdout",
     "output_type": "stream",
     "text": [
      "Static Test Score (ROC AUC): 0.50\n",
      "** Sampled 175 positive and 175 negative edges. **\n",
      "** Sampled 427 positive and 427 negative edges. **\n",
      "Temporal Training Score (ROC AUC): 0.70\n",
      "Temporal Test Score (ROC AUC): 0.76\n",
      "Static Training Score (ROC AUC): 0.69\n"
     ]
    },
    {
     "name": "stderr",
     "output_type": "stream",
     "text": [
      " 18%|█▊        | 23/126 [11:49<51:20, 29.91s/it]"
     ]
    },
    {
     "name": "stdout",
     "output_type": "stream",
     "text": [
      "Static Test Score (ROC AUC): 0.68\n",
      "** Sampled 175 positive and 175 negative edges. **\n",
      "** Sampled 427 positive and 427 negative edges. **\n",
      "Temporal Training Score (ROC AUC): 0.68\n",
      "Temporal Test Score (ROC AUC): 0.72\n",
      "Static Training Score (ROC AUC): 0.63\n"
     ]
    },
    {
     "name": "stderr",
     "output_type": "stream",
     "text": [
      " 19%|█▉        | 24/126 [12:20<51:20, 30.20s/it]"
     ]
    },
    {
     "name": "stdout",
     "output_type": "stream",
     "text": [
      "Static Test Score (ROC AUC): 0.63\n",
      "** Sampled 175 positive and 175 negative edges. **\n",
      "** Sampled 427 positive and 427 negative edges. **\n",
      "Temporal Training Score (ROC AUC): 0.73\n",
      "Temporal Test Score (ROC AUC): 0.72\n",
      "Static Training Score (ROC AUC): 0.69\n"
     ]
    },
    {
     "name": "stderr",
     "output_type": "stream",
     "text": [
      " 20%|█▉        | 25/126 [12:51<51:34, 30.64s/it]"
     ]
    },
    {
     "name": "stdout",
     "output_type": "stream",
     "text": [
      "Static Test Score (ROC AUC): 0.63\n",
      "** Sampled 175 positive and 175 negative edges. **\n",
      "** Sampled 427 positive and 427 negative edges. **\n",
      "Temporal Training Score (ROC AUC): 0.67\n",
      "Temporal Test Score (ROC AUC): 0.69\n",
      "Static Training Score (ROC AUC): 0.62\n"
     ]
    },
    {
     "name": "stderr",
     "output_type": "stream",
     "text": [
      " 21%|██        | 26/126 [13:22<51:03, 30.64s/it]"
     ]
    },
    {
     "name": "stdout",
     "output_type": "stream",
     "text": [
      "Static Test Score (ROC AUC): 0.62\n",
      "** Sampled 175 positive and 175 negative edges. **\n",
      "** Sampled 427 positive and 427 negative edges. **\n",
      "Temporal Training Score (ROC AUC): 0.73\n",
      "Temporal Test Score (ROC AUC): 0.72\n",
      "Static Training Score (ROC AUC): 0.70\n"
     ]
    },
    {
     "name": "stderr",
     "output_type": "stream",
     "text": [
      " 21%|██▏       | 27/126 [13:54<51:04, 30.95s/it]"
     ]
    },
    {
     "name": "stdout",
     "output_type": "stream",
     "text": [
      "Static Test Score (ROC AUC): 0.60\n",
      "** Sampled 175 positive and 175 negative edges. **\n",
      "** Sampled 427 positive and 427 negative edges. **\n",
      "Temporal Training Score (ROC AUC): 0.74\n",
      "Temporal Test Score (ROC AUC): 0.76\n",
      "Static Training Score (ROC AUC): 0.71\n"
     ]
    },
    {
     "name": "stderr",
     "output_type": "stream",
     "text": [
      " 22%|██▏       | 28/126 [14:26<51:02, 31.25s/it]"
     ]
    },
    {
     "name": "stdout",
     "output_type": "stream",
     "text": [
      "Static Test Score (ROC AUC): 0.67\n",
      "** Sampled 175 positive and 175 negative edges. **\n",
      "** Sampled 427 positive and 427 negative edges. **\n",
      "Temporal Training Score (ROC AUC): 0.67\n",
      "Temporal Test Score (ROC AUC): 0.72\n",
      "Static Training Score (ROC AUC): 0.67\n"
     ]
    },
    {
     "name": "stderr",
     "output_type": "stream",
     "text": [
      " 23%|██▎       | 29/126 [14:57<50:48, 31.43s/it]"
     ]
    },
    {
     "name": "stdout",
     "output_type": "stream",
     "text": [
      "Static Test Score (ROC AUC): 0.40\n",
      "** Sampled 175 positive and 175 negative edges. **\n",
      "** Sampled 427 positive and 427 negative edges. **\n",
      "Temporal Training Score (ROC AUC): 0.72\n",
      "Temporal Test Score (ROC AUC): 0.70\n",
      "Static Training Score (ROC AUC): 0.70\n"
     ]
    },
    {
     "name": "stderr",
     "output_type": "stream",
     "text": [
      " 24%|██▍       | 30/126 [15:29<50:36, 31.63s/it]"
     ]
    },
    {
     "name": "stdout",
     "output_type": "stream",
     "text": [
      "Static Test Score (ROC AUC): 0.41\n",
      "** Sampled 175 positive and 175 negative edges. **\n",
      "** Sampled 427 positive and 427 negative edges. **\n",
      "Temporal Training Score (ROC AUC): 0.70\n",
      "Temporal Test Score (ROC AUC): 0.69\n",
      "Static Training Score (ROC AUC): 0.67\n"
     ]
    },
    {
     "name": "stderr",
     "output_type": "stream",
     "text": [
      " 25%|██▍       | 31/126 [16:01<50:05, 31.63s/it]"
     ]
    },
    {
     "name": "stdout",
     "output_type": "stream",
     "text": [
      "Static Test Score (ROC AUC): 0.40\n",
      "** Sampled 175 positive and 175 negative edges. **\n",
      "** Sampled 427 positive and 427 negative edges. **\n",
      "Temporal Training Score (ROC AUC): 0.68\n",
      "Temporal Test Score (ROC AUC): 0.73\n",
      "Static Training Score (ROC AUC): 0.62\n"
     ]
    },
    {
     "name": "stderr",
     "output_type": "stream",
     "text": [
      " 25%|██▌       | 32/126 [16:34<50:07, 32.00s/it]"
     ]
    },
    {
     "name": "stdout",
     "output_type": "stream",
     "text": [
      "Static Test Score (ROC AUC): 0.65\n",
      "** Sampled 175 positive and 175 negative edges. **\n",
      "** Sampled 427 positive and 427 negative edges. **\n",
      "Temporal Training Score (ROC AUC): 0.73\n",
      "Temporal Test Score (ROC AUC): 0.72\n",
      "Static Training Score (ROC AUC): 0.74\n"
     ]
    },
    {
     "name": "stderr",
     "output_type": "stream",
     "text": [
      " 26%|██▌       | 33/126 [17:05<49:07, 31.69s/it]"
     ]
    },
    {
     "name": "stdout",
     "output_type": "stream",
     "text": [
      "Static Test Score (ROC AUC): 0.34\n",
      "** Sampled 175 positive and 175 negative edges. **\n",
      "** Sampled 427 positive and 427 negative edges. **\n",
      "Temporal Training Score (ROC AUC): 0.70\n",
      "Temporal Test Score (ROC AUC): 0.81\n",
      "Static Training Score (ROC AUC): 0.68\n"
     ]
    },
    {
     "name": "stderr",
     "output_type": "stream",
     "text": [
      " 27%|██▋       | 34/126 [17:36<48:21, 31.54s/it]"
     ]
    },
    {
     "name": "stdout",
     "output_type": "stream",
     "text": [
      "Static Test Score (ROC AUC): 0.48\n",
      "** Sampled 175 positive and 175 negative edges. **\n",
      "** Sampled 427 positive and 427 negative edges. **\n",
      "Temporal Training Score (ROC AUC): 0.68\n",
      "Temporal Test Score (ROC AUC): 0.74\n",
      "Static Training Score (ROC AUC): 0.66\n"
     ]
    },
    {
     "name": "stderr",
     "output_type": "stream",
     "text": [
      " 28%|██▊       | 35/126 [18:07<47:41, 31.45s/it]"
     ]
    },
    {
     "name": "stdout",
     "output_type": "stream",
     "text": [
      "Static Test Score (ROC AUC): 0.42\n",
      "** Sampled 175 positive and 175 negative edges. **\n",
      "** Sampled 427 positive and 427 negative edges. **\n",
      "Temporal Training Score (ROC AUC): 0.71\n",
      "Temporal Test Score (ROC AUC): 0.72\n",
      "Static Training Score (ROC AUC): 0.69\n"
     ]
    },
    {
     "name": "stderr",
     "output_type": "stream",
     "text": [
      " 29%|██▊       | 36/126 [18:39<47:08, 31.43s/it]"
     ]
    },
    {
     "name": "stdout",
     "output_type": "stream",
     "text": [
      "Static Test Score (ROC AUC): 0.41\n",
      "** Sampled 175 positive and 175 negative edges. **\n",
      "** Sampled 427 positive and 427 negative edges. **\n",
      "Temporal Training Score (ROC AUC): 0.64\n",
      "Temporal Test Score (ROC AUC): 0.79\n",
      "Static Training Score (ROC AUC): 0.67\n"
     ]
    },
    {
     "name": "stderr",
     "output_type": "stream",
     "text": [
      " 29%|██▉       | 37/126 [19:11<46:47, 31.54s/it]"
     ]
    },
    {
     "name": "stdout",
     "output_type": "stream",
     "text": [
      "Static Test Score (ROC AUC): 0.57\n",
      "** Sampled 175 positive and 175 negative edges. **\n",
      "** Sampled 427 positive and 427 negative edges. **\n",
      "Temporal Training Score (ROC AUC): 0.69\n",
      "Temporal Test Score (ROC AUC): 0.75\n",
      "Static Training Score (ROC AUC): 0.68\n"
     ]
    },
    {
     "name": "stderr",
     "output_type": "stream",
     "text": [
      " 30%|███       | 38/126 [19:42<46:06, 31.44s/it]"
     ]
    },
    {
     "name": "stdout",
     "output_type": "stream",
     "text": [
      "Static Test Score (ROC AUC): 0.42\n",
      "** Sampled 175 positive and 175 negative edges. **\n",
      "** Sampled 427 positive and 427 negative edges. **\n",
      "Temporal Training Score (ROC AUC): 0.70\n",
      "Temporal Test Score (ROC AUC): 0.72\n",
      "Static Training Score (ROC AUC): 0.64\n"
     ]
    },
    {
     "name": "stderr",
     "output_type": "stream",
     "text": [
      " 31%|███       | 39/126 [20:12<45:04, 31.09s/it]"
     ]
    },
    {
     "name": "stdout",
     "output_type": "stream",
     "text": [
      "Static Test Score (ROC AUC): 0.64\n",
      "** Sampled 175 positive and 175 negative edges. **\n",
      "** Sampled 427 positive and 427 negative edges. **\n",
      "Temporal Training Score (ROC AUC): 0.68\n",
      "Temporal Test Score (ROC AUC): 0.70\n",
      "Static Training Score (ROC AUC): 0.68\n"
     ]
    },
    {
     "name": "stderr",
     "output_type": "stream",
     "text": [
      " 32%|███▏      | 40/126 [20:43<44:30, 31.05s/it]"
     ]
    },
    {
     "name": "stdout",
     "output_type": "stream",
     "text": [
      "Static Test Score (ROC AUC): 0.62\n",
      "** Sampled 175 positive and 175 negative edges. **\n",
      "** Sampled 427 positive and 427 negative edges. **\n",
      "Temporal Training Score (ROC AUC): 0.72\n",
      "Temporal Test Score (ROC AUC): 0.67\n",
      "Static Training Score (ROC AUC): 0.69\n"
     ]
    },
    {
     "name": "stderr",
     "output_type": "stream",
     "text": [
      " 33%|███▎      | 41/126 [21:14<44:02, 31.09s/it]"
     ]
    },
    {
     "name": "stdout",
     "output_type": "stream",
     "text": [
      "Static Test Score (ROC AUC): 0.49\n",
      "** Sampled 175 positive and 175 negative edges. **\n",
      "** Sampled 427 positive and 427 negative edges. **\n",
      "Temporal Training Score (ROC AUC): 0.70\n",
      "Temporal Test Score (ROC AUC): 0.72\n",
      "Static Training Score (ROC AUC): 0.70\n"
     ]
    },
    {
     "name": "stderr",
     "output_type": "stream",
     "text": [
      " 33%|███▎      | 42/126 [21:46<43:42, 31.22s/it]"
     ]
    },
    {
     "name": "stdout",
     "output_type": "stream",
     "text": [
      "Static Test Score (ROC AUC): 0.55\n",
      "** Sampled 175 positive and 175 negative edges. **\n",
      "** Sampled 427 positive and 427 negative edges. **\n",
      "Temporal Training Score (ROC AUC): 0.71\n",
      "Temporal Test Score (ROC AUC): 0.75\n",
      "Static Training Score (ROC AUC): 0.68\n"
     ]
    },
    {
     "name": "stderr",
     "output_type": "stream",
     "text": [
      " 34%|███▍      | 43/126 [22:17<43:10, 31.21s/it]"
     ]
    },
    {
     "name": "stdout",
     "output_type": "stream",
     "text": [
      "Static Test Score (ROC AUC): 0.69\n",
      "** Sampled 175 positive and 175 negative edges. **\n",
      "** Sampled 427 positive and 427 negative edges. **\n",
      "Temporal Training Score (ROC AUC): 0.71\n",
      "Temporal Test Score (ROC AUC): 0.72\n",
      "Static Training Score (ROC AUC): 0.69\n"
     ]
    },
    {
     "name": "stderr",
     "output_type": "stream",
     "text": [
      " 35%|███▍      | 44/126 [22:49<42:51, 31.36s/it]"
     ]
    },
    {
     "name": "stdout",
     "output_type": "stream",
     "text": [
      "Static Test Score (ROC AUC): 0.62\n",
      "** Sampled 175 positive and 175 negative edges. **\n",
      "** Sampled 427 positive and 427 negative edges. **\n",
      "Temporal Training Score (ROC AUC): 0.70\n",
      "Temporal Test Score (ROC AUC): 0.74\n",
      "Static Training Score (ROC AUC): 0.66\n"
     ]
    },
    {
     "name": "stderr",
     "output_type": "stream",
     "text": [
      " 36%|███▌      | 45/126 [23:19<42:09, 31.22s/it]"
     ]
    },
    {
     "name": "stdout",
     "output_type": "stream",
     "text": [
      "Static Test Score (ROC AUC): 0.67\n",
      "** Sampled 175 positive and 175 negative edges. **\n",
      "** Sampled 427 positive and 427 negative edges. **\n",
      "Temporal Training Score (ROC AUC): 0.71\n",
      "Temporal Test Score (ROC AUC): 0.74\n",
      "Static Training Score (ROC AUC): 0.70\n"
     ]
    },
    {
     "name": "stderr",
     "output_type": "stream",
     "text": [
      " 37%|███▋      | 46/126 [23:51<41:43, 31.30s/it]"
     ]
    },
    {
     "name": "stdout",
     "output_type": "stream",
     "text": [
      "Static Test Score (ROC AUC): 0.50\n",
      "** Sampled 175 positive and 175 negative edges. **\n",
      "** Sampled 427 positive and 427 negative edges. **\n",
      "Temporal Training Score (ROC AUC): 0.69\n",
      "Temporal Test Score (ROC AUC): 0.71\n",
      "Static Training Score (ROC AUC): 0.69\n"
     ]
    },
    {
     "name": "stderr",
     "output_type": "stream",
     "text": [
      " 37%|███▋      | 47/126 [24:22<41:13, 31.31s/it]"
     ]
    },
    {
     "name": "stdout",
     "output_type": "stream",
     "text": [
      "Static Test Score (ROC AUC): 0.46\n",
      "** Sampled 175 positive and 175 negative edges. **\n",
      "** Sampled 427 positive and 427 negative edges. **\n",
      "Temporal Training Score (ROC AUC): 0.71\n",
      "Temporal Test Score (ROC AUC): 0.74\n",
      "Static Training Score (ROC AUC): 0.69\n"
     ]
    },
    {
     "name": "stderr",
     "output_type": "stream",
     "text": [
      " 38%|███▊      | 48/126 [24:54<40:41, 31.30s/it]"
     ]
    },
    {
     "name": "stdout",
     "output_type": "stream",
     "text": [
      "Static Test Score (ROC AUC): 0.61\n",
      "** Sampled 175 positive and 175 negative edges. **\n",
      "** Sampled 427 positive and 427 negative edges. **\n",
      "Temporal Training Score (ROC AUC): 0.73\n",
      "Temporal Test Score (ROC AUC): 0.75\n",
      "Static Training Score (ROC AUC): 0.70\n"
     ]
    },
    {
     "name": "stderr",
     "output_type": "stream",
     "text": [
      " 39%|███▉      | 49/126 [25:25<40:20, 31.44s/it]"
     ]
    },
    {
     "name": "stdout",
     "output_type": "stream",
     "text": [
      "Static Test Score (ROC AUC): 0.56\n",
      "** Sampled 175 positive and 175 negative edges. **\n",
      "** Sampled 427 positive and 427 negative edges. **\n",
      "Temporal Training Score (ROC AUC): 0.71\n",
      "Temporal Test Score (ROC AUC): 0.76\n",
      "Static Training Score (ROC AUC): 0.66\n"
     ]
    },
    {
     "name": "stderr",
     "output_type": "stream",
     "text": [
      " 40%|███▉      | 50/126 [25:57<39:50, 31.45s/it]"
     ]
    },
    {
     "name": "stdout",
     "output_type": "stream",
     "text": [
      "Static Test Score (ROC AUC): 0.67\n",
      "** Sampled 175 positive and 175 negative edges. **\n",
      "** Sampled 427 positive and 427 negative edges. **\n",
      "Temporal Training Score (ROC AUC): 0.69\n",
      "Temporal Test Score (ROC AUC): 0.70\n",
      "Static Training Score (ROC AUC): 0.69\n"
     ]
    },
    {
     "name": "stderr",
     "output_type": "stream",
     "text": [
      " 40%|████      | 51/126 [26:29<39:30, 31.61s/it]"
     ]
    },
    {
     "name": "stdout",
     "output_type": "stream",
     "text": [
      "Static Test Score (ROC AUC): 0.58\n",
      "** Sampled 175 positive and 175 negative edges. **\n",
      "** Sampled 427 positive and 427 negative edges. **\n",
      "Temporal Training Score (ROC AUC): 0.69\n",
      "Temporal Test Score (ROC AUC): 0.78\n",
      "Static Training Score (ROC AUC): 0.67\n"
     ]
    },
    {
     "name": "stderr",
     "output_type": "stream",
     "text": [
      " 41%|████▏     | 52/126 [27:04<40:27, 32.80s/it]"
     ]
    },
    {
     "name": "stdout",
     "output_type": "stream",
     "text": [
      "Static Test Score (ROC AUC): 0.70\n",
      "** Sampled 175 positive and 175 negative edges. **\n",
      "** Sampled 427 positive and 427 negative edges. **\n",
      "Temporal Training Score (ROC AUC): 0.74\n",
      "Temporal Test Score (ROC AUC): 0.70\n",
      "Static Training Score (ROC AUC): 0.69\n"
     ]
    },
    {
     "name": "stderr",
     "output_type": "stream",
     "text": [
      " 42%|████▏     | 53/126 [27:38<40:05, 32.95s/it]"
     ]
    },
    {
     "name": "stdout",
     "output_type": "stream",
     "text": [
      "Static Test Score (ROC AUC): 0.65\n",
      "** Sampled 175 positive and 175 negative edges. **\n",
      "** Sampled 427 positive and 427 negative edges. **\n",
      "Temporal Training Score (ROC AUC): 0.67\n",
      "Temporal Test Score (ROC AUC): 0.69\n",
      "Static Training Score (ROC AUC): 0.67\n"
     ]
    },
    {
     "name": "stderr",
     "output_type": "stream",
     "text": [
      " 43%|████▎     | 54/126 [28:09<38:47, 32.33s/it]"
     ]
    },
    {
     "name": "stdout",
     "output_type": "stream",
     "text": [
      "Static Test Score (ROC AUC): 0.60\n",
      "** Sampled 175 positive and 175 negative edges. **\n",
      "** Sampled 427 positive and 427 negative edges. **\n",
      "Temporal Training Score (ROC AUC): 0.69\n",
      "Temporal Test Score (ROC AUC): 0.68\n",
      "Static Training Score (ROC AUC): 0.69\n"
     ]
    },
    {
     "name": "stderr",
     "output_type": "stream",
     "text": [
      " 44%|████▎     | 55/126 [28:42<38:36, 32.63s/it]"
     ]
    },
    {
     "name": "stdout",
     "output_type": "stream",
     "text": [
      "Static Test Score (ROC AUC): 0.37\n",
      "** Sampled 175 positive and 175 negative edges. **\n",
      "** Sampled 427 positive and 427 negative edges. **\n",
      "Temporal Training Score (ROC AUC): 0.68\n",
      "Temporal Test Score (ROC AUC): 0.76\n",
      "Static Training Score (ROC AUC): 0.68\n"
     ]
    },
    {
     "name": "stderr",
     "output_type": "stream",
     "text": [
      " 44%|████▍     | 56/126 [29:12<37:18, 31.98s/it]"
     ]
    },
    {
     "name": "stdout",
     "output_type": "stream",
     "text": [
      "Static Test Score (ROC AUC): 0.32\n",
      "** Sampled 175 positive and 175 negative edges. **\n",
      "** Sampled 427 positive and 427 negative edges. **\n",
      "Temporal Training Score (ROC AUC): 0.72\n",
      "Temporal Test Score (ROC AUC): 0.74\n",
      "Static Training Score (ROC AUC): 0.69\n"
     ]
    },
    {
     "name": "stderr",
     "output_type": "stream",
     "text": [
      " 45%|████▌     | 57/126 [29:44<36:40, 31.89s/it]"
     ]
    },
    {
     "name": "stdout",
     "output_type": "stream",
     "text": [
      "Static Test Score (ROC AUC): 0.38\n",
      "** Sampled 175 positive and 175 negative edges. **\n",
      "** Sampled 427 positive and 427 negative edges. **\n",
      "Temporal Training Score (ROC AUC): 0.74\n",
      "Temporal Test Score (ROC AUC): 0.71\n",
      "Static Training Score (ROC AUC): 0.71\n"
     ]
    },
    {
     "name": "stderr",
     "output_type": "stream",
     "text": [
      " 46%|████▌     | 58/126 [30:15<35:57, 31.72s/it]"
     ]
    },
    {
     "name": "stdout",
     "output_type": "stream",
     "text": [
      "Static Test Score (ROC AUC): 0.67\n",
      "** Sampled 175 positive and 175 negative edges. **\n",
      "** Sampled 427 positive and 427 negative edges. **\n",
      "Temporal Training Score (ROC AUC): 0.72\n",
      "Temporal Test Score (ROC AUC): 0.71\n",
      "Static Training Score (ROC AUC): 0.69\n"
     ]
    },
    {
     "name": "stderr",
     "output_type": "stream",
     "text": [
      " 47%|████▋     | 59/126 [30:46<34:56, 31.29s/it]"
     ]
    },
    {
     "name": "stdout",
     "output_type": "stream",
     "text": [
      "Static Test Score (ROC AUC): 0.66\n",
      "** Sampled 175 positive and 175 negative edges. **\n",
      "** Sampled 427 positive and 427 negative edges. **\n",
      "Temporal Training Score (ROC AUC): 0.70\n",
      "Temporal Test Score (ROC AUC): 0.69\n",
      "Static Training Score (ROC AUC): 0.63\n"
     ]
    },
    {
     "name": "stderr",
     "output_type": "stream",
     "text": [
      " 48%|████▊     | 60/126 [31:17<34:22, 31.25s/it]"
     ]
    },
    {
     "name": "stdout",
     "output_type": "stream",
     "text": [
      "Static Test Score (ROC AUC): 0.65\n",
      "** Sampled 175 positive and 175 negative edges. **\n",
      "** Sampled 427 positive and 427 negative edges. **\n",
      "Temporal Training Score (ROC AUC): 0.68\n",
      "Temporal Test Score (ROC AUC): 0.76\n",
      "Static Training Score (ROC AUC): 0.60\n"
     ]
    },
    {
     "name": "stderr",
     "output_type": "stream",
     "text": [
      " 48%|████▊     | 61/126 [31:48<33:50, 31.24s/it]"
     ]
    },
    {
     "name": "stdout",
     "output_type": "stream",
     "text": [
      "Static Test Score (ROC AUC): 0.69\n",
      "** Sampled 175 positive and 175 negative edges. **\n",
      "** Sampled 427 positive and 427 negative edges. **\n",
      "Temporal Training Score (ROC AUC): 0.67\n",
      "Temporal Test Score (ROC AUC): 0.70\n",
      "Static Training Score (ROC AUC): 0.66\n"
     ]
    },
    {
     "name": "stderr",
     "output_type": "stream",
     "text": [
      " 49%|████▉     | 62/126 [32:19<33:22, 31.30s/it]"
     ]
    },
    {
     "name": "stdout",
     "output_type": "stream",
     "text": [
      "Static Test Score (ROC AUC): 0.61\n",
      "** Sampled 175 positive and 175 negative edges. **\n",
      "** Sampled 427 positive and 427 negative edges. **\n",
      "Temporal Training Score (ROC AUC): 0.69\n",
      "Temporal Test Score (ROC AUC): 0.63\n",
      "Static Training Score (ROC AUC): 0.68\n"
     ]
    },
    {
     "name": "stderr",
     "output_type": "stream",
     "text": [
      " 50%|█████     | 63/126 [32:51<32:51, 31.29s/it]"
     ]
    },
    {
     "name": "stdout",
     "output_type": "stream",
     "text": [
      "Static Test Score (ROC AUC): 0.41\n",
      "** Sampled 175 positive and 175 negative edges. **\n",
      "** Sampled 427 positive and 427 negative edges. **\n",
      "Temporal Training Score (ROC AUC): 0.68\n",
      "Temporal Test Score (ROC AUC): 0.70\n",
      "Static Training Score (ROC AUC): 0.70\n"
     ]
    },
    {
     "name": "stderr",
     "output_type": "stream",
     "text": [
      " 51%|█████     | 64/126 [33:22<32:24, 31.36s/it]"
     ]
    },
    {
     "name": "stdout",
     "output_type": "stream",
     "text": [
      "Static Test Score (ROC AUC): 0.61\n",
      "** Sampled 175 positive and 175 negative edges. **\n",
      "** Sampled 427 positive and 427 negative edges. **\n",
      "Temporal Training Score (ROC AUC): 0.69\n",
      "Temporal Test Score (ROC AUC): 0.74\n",
      "Static Training Score (ROC AUC): 0.68\n"
     ]
    },
    {
     "name": "stderr",
     "output_type": "stream",
     "text": [
      " 52%|█████▏    | 65/126 [33:54<32:00, 31.49s/it]"
     ]
    },
    {
     "name": "stdout",
     "output_type": "stream",
     "text": [
      "Static Test Score (ROC AUC): 0.68\n",
      "** Sampled 175 positive and 175 negative edges. **\n",
      "** Sampled 427 positive and 427 negative edges. **\n",
      "Temporal Training Score (ROC AUC): 0.74\n",
      "Temporal Test Score (ROC AUC): 0.56\n",
      "Static Training Score (ROC AUC): 0.70\n"
     ]
    },
    {
     "name": "stderr",
     "output_type": "stream",
     "text": [
      " 52%|█████▏    | 66/126 [34:26<31:30, 31.51s/it]"
     ]
    },
    {
     "name": "stdout",
     "output_type": "stream",
     "text": [
      "Static Test Score (ROC AUC): 0.67\n",
      "** Sampled 175 positive and 175 negative edges. **\n",
      "** Sampled 427 positive and 427 negative edges. **\n",
      "Temporal Training Score (ROC AUC): 0.69\n",
      "Temporal Test Score (ROC AUC): 0.71\n",
      "Static Training Score (ROC AUC): 0.69\n"
     ]
    },
    {
     "name": "stderr",
     "output_type": "stream",
     "text": [
      " 53%|█████▎    | 67/126 [34:58<31:11, 31.72s/it]"
     ]
    },
    {
     "name": "stdout",
     "output_type": "stream",
     "text": [
      "Static Test Score (ROC AUC): 0.45\n",
      "** Sampled 175 positive and 175 negative edges. **\n",
      "** Sampled 427 positive and 427 negative edges. **\n",
      "Temporal Training Score (ROC AUC): 0.76\n",
      "Temporal Test Score (ROC AUC): 0.70\n",
      "Static Training Score (ROC AUC): 0.71\n"
     ]
    },
    {
     "name": "stderr",
     "output_type": "stream",
     "text": [
      " 54%|█████▍    | 68/126 [35:29<30:37, 31.68s/it]"
     ]
    },
    {
     "name": "stdout",
     "output_type": "stream",
     "text": [
      "Static Test Score (ROC AUC): 0.61\n",
      "** Sampled 175 positive and 175 negative edges. **\n",
      "** Sampled 427 positive and 427 negative edges. **\n",
      "Temporal Training Score (ROC AUC): 0.67\n",
      "Temporal Test Score (ROC AUC): 0.74\n",
      "Static Training Score (ROC AUC): 0.67\n"
     ]
    },
    {
     "name": "stderr",
     "output_type": "stream",
     "text": [
      " 55%|█████▍    | 69/126 [36:02<30:14, 31.84s/it]"
     ]
    },
    {
     "name": "stdout",
     "output_type": "stream",
     "text": [
      "Static Test Score (ROC AUC): 0.64\n",
      "** Sampled 175 positive and 175 negative edges. **\n",
      "** Sampled 427 positive and 427 negative edges. **\n",
      "Temporal Training Score (ROC AUC): 0.71\n",
      "Temporal Test Score (ROC AUC): 0.76\n",
      "Static Training Score (ROC AUC): 0.68\n"
     ]
    },
    {
     "name": "stderr",
     "output_type": "stream",
     "text": [
      " 56%|█████▌    | 70/126 [36:34<29:44, 31.86s/it]"
     ]
    },
    {
     "name": "stdout",
     "output_type": "stream",
     "text": [
      "Static Test Score (ROC AUC): 0.57\n",
      "** Sampled 175 positive and 175 negative edges. **\n",
      "** Sampled 427 positive and 427 negative edges. **\n",
      "Temporal Training Score (ROC AUC): 0.69\n",
      "Temporal Test Score (ROC AUC): 0.73\n",
      "Static Training Score (ROC AUC): 0.63\n"
     ]
    },
    {
     "name": "stderr",
     "output_type": "stream",
     "text": [
      " 56%|█████▋    | 71/126 [37:05<28:59, 31.62s/it]"
     ]
    },
    {
     "name": "stdout",
     "output_type": "stream",
     "text": [
      "Static Test Score (ROC AUC): 0.64\n",
      "** Sampled 175 positive and 175 negative edges. **\n",
      "** Sampled 427 positive and 427 negative edges. **\n",
      "Temporal Training Score (ROC AUC): 0.67\n",
      "Temporal Test Score (ROC AUC): 0.72\n",
      "Static Training Score (ROC AUC): 0.67\n"
     ]
    },
    {
     "name": "stderr",
     "output_type": "stream",
     "text": [
      " 57%|█████▋    | 72/126 [37:37<28:39, 31.83s/it]"
     ]
    },
    {
     "name": "stdout",
     "output_type": "stream",
     "text": [
      "Static Test Score (ROC AUC): 0.63\n",
      "** Sampled 175 positive and 175 negative edges. **\n",
      "** Sampled 427 positive and 427 negative edges. **\n",
      "Temporal Training Score (ROC AUC): 0.71\n",
      "Temporal Test Score (ROC AUC): 0.71\n",
      "Static Training Score (ROC AUC): 0.68\n"
     ]
    },
    {
     "name": "stderr",
     "output_type": "stream",
     "text": [
      " 58%|█████▊    | 73/126 [38:11<28:35, 32.37s/it]"
     ]
    },
    {
     "name": "stdout",
     "output_type": "stream",
     "text": [
      "Static Test Score (ROC AUC): 0.63\n",
      "** Sampled 175 positive and 175 negative edges. **\n",
      "** Sampled 427 positive and 427 negative edges. **\n",
      "Temporal Training Score (ROC AUC): 0.67\n",
      "Temporal Test Score (ROC AUC): 0.73\n",
      "Static Training Score (ROC AUC): 0.62\n"
     ]
    },
    {
     "name": "stderr",
     "output_type": "stream",
     "text": [
      " 59%|█████▊    | 74/126 [38:43<27:57, 32.26s/it]"
     ]
    },
    {
     "name": "stdout",
     "output_type": "stream",
     "text": [
      "Static Test Score (ROC AUC): 0.32\n",
      "** Sampled 175 positive and 175 negative edges. **\n",
      "** Sampled 427 positive and 427 negative edges. **\n",
      "Temporal Training Score (ROC AUC): 0.68\n",
      "Temporal Test Score (ROC AUC): 0.74\n",
      "Static Training Score (ROC AUC): 0.64\n"
     ]
    },
    {
     "name": "stderr",
     "output_type": "stream",
     "text": [
      " 60%|█████▉    | 75/126 [39:15<27:23, 32.23s/it]"
     ]
    },
    {
     "name": "stdout",
     "output_type": "stream",
     "text": [
      "Static Test Score (ROC AUC): 0.62\n",
      "** Sampled 175 positive and 175 negative edges. **\n",
      "** Sampled 427 positive and 427 negative edges. **\n",
      "Temporal Training Score (ROC AUC): 0.68\n",
      "Temporal Test Score (ROC AUC): 0.77\n",
      "Static Training Score (ROC AUC): 0.67\n"
     ]
    },
    {
     "name": "stderr",
     "output_type": "stream",
     "text": [
      " 60%|██████    | 76/126 [39:46<26:40, 32.02s/it]"
     ]
    },
    {
     "name": "stdout",
     "output_type": "stream",
     "text": [
      "Static Test Score (ROC AUC): 0.70\n",
      "** Sampled 175 positive and 175 negative edges. **\n",
      "** Sampled 427 positive and 427 negative edges. **\n",
      "Temporal Training Score (ROC AUC): 0.67\n",
      "Temporal Test Score (ROC AUC): 0.70\n",
      "Static Training Score (ROC AUC): 0.62\n"
     ]
    },
    {
     "name": "stderr",
     "output_type": "stream",
     "text": [
      " 61%|██████    | 77/126 [40:17<25:56, 31.77s/it]"
     ]
    },
    {
     "name": "stdout",
     "output_type": "stream",
     "text": [
      "Static Test Score (ROC AUC): 0.65\n",
      "** Sampled 175 positive and 175 negative edges. **\n",
      "** Sampled 427 positive and 427 negative edges. **\n",
      "Temporal Training Score (ROC AUC): 0.70\n",
      "Temporal Test Score (ROC AUC): 0.75\n",
      "Static Training Score (ROC AUC): 0.67\n"
     ]
    },
    {
     "name": "stderr",
     "output_type": "stream",
     "text": [
      " 62%|██████▏   | 78/126 [40:51<25:52, 32.34s/it]"
     ]
    },
    {
     "name": "stdout",
     "output_type": "stream",
     "text": [
      "Static Test Score (ROC AUC): 0.63\n",
      "** Sampled 175 positive and 175 negative edges. **\n",
      "** Sampled 427 positive and 427 negative edges. **\n",
      "Temporal Training Score (ROC AUC): 0.72\n",
      "Temporal Test Score (ROC AUC): 0.74\n",
      "Static Training Score (ROC AUC): 0.72\n"
     ]
    },
    {
     "name": "stderr",
     "output_type": "stream",
     "text": [
      " 63%|██████▎   | 79/126 [41:20<24:33, 31.35s/it]"
     ]
    },
    {
     "name": "stdout",
     "output_type": "stream",
     "text": [
      "Static Test Score (ROC AUC): 0.60\n",
      "** Sampled 175 positive and 175 negative edges. **\n",
      "** Sampled 427 positive and 427 negative edges. **\n",
      "Temporal Training Score (ROC AUC): 0.70\n",
      "Temporal Test Score (ROC AUC): 0.74\n",
      "Static Training Score (ROC AUC): 0.63\n"
     ]
    },
    {
     "name": "stderr",
     "output_type": "stream",
     "text": [
      " 63%|██████▎   | 80/126 [41:49<23:31, 30.68s/it]"
     ]
    },
    {
     "name": "stdout",
     "output_type": "stream",
     "text": [
      "Static Test Score (ROC AUC): 0.63\n",
      "** Sampled 175 positive and 175 negative edges. **\n",
      "** Sampled 427 positive and 427 negative edges. **\n",
      "Temporal Training Score (ROC AUC): 0.73\n",
      "Temporal Test Score (ROC AUC): 0.43\n",
      "Static Training Score (ROC AUC): 0.68\n"
     ]
    },
    {
     "name": "stderr",
     "output_type": "stream",
     "text": [
      " 64%|██████▍   | 81/126 [42:20<23:06, 30.81s/it]"
     ]
    },
    {
     "name": "stdout",
     "output_type": "stream",
     "text": [
      "Static Test Score (ROC AUC): 0.38\n",
      "** Sampled 175 positive and 175 negative edges. **\n",
      "** Sampled 427 positive and 427 negative edges. **\n",
      "Temporal Training Score (ROC AUC): 0.71\n",
      "Temporal Test Score (ROC AUC): 0.74\n",
      "Static Training Score (ROC AUC): 0.70\n"
     ]
    },
    {
     "name": "stderr",
     "output_type": "stream",
     "text": [
      " 65%|██████▌   | 82/126 [42:52<22:43, 30.99s/it]"
     ]
    },
    {
     "name": "stdout",
     "output_type": "stream",
     "text": [
      "Static Test Score (ROC AUC): 0.33\n",
      "** Sampled 175 positive and 175 negative edges. **\n",
      "** Sampled 427 positive and 427 negative edges. **\n",
      "Temporal Training Score (ROC AUC): 0.72\n",
      "Temporal Test Score (ROC AUC): 0.74\n",
      "Static Training Score (ROC AUC): 0.71\n"
     ]
    },
    {
     "name": "stderr",
     "output_type": "stream",
     "text": [
      " 66%|██████▌   | 83/126 [43:23<22:18, 31.14s/it]"
     ]
    },
    {
     "name": "stdout",
     "output_type": "stream",
     "text": [
      "Static Test Score (ROC AUC): 0.59\n",
      "** Sampled 175 positive and 175 negative edges. **\n",
      "** Sampled 427 positive and 427 negative edges. **\n",
      "Temporal Training Score (ROC AUC): 0.72\n",
      "Temporal Test Score (ROC AUC): 0.29\n",
      "Static Training Score (ROC AUC): 0.65\n"
     ]
    },
    {
     "name": "stderr",
     "output_type": "stream",
     "text": [
      " 67%|██████▋   | 84/126 [43:54<21:39, 30.95s/it]"
     ]
    },
    {
     "name": "stdout",
     "output_type": "stream",
     "text": [
      "Static Test Score (ROC AUC): 0.70\n",
      "** Sampled 175 positive and 175 negative edges. **\n",
      "** Sampled 427 positive and 427 negative edges. **\n",
      "Temporal Training Score (ROC AUC): 0.72\n",
      "Temporal Test Score (ROC AUC): 0.73\n",
      "Static Training Score (ROC AUC): 0.73\n"
     ]
    },
    {
     "name": "stderr",
     "output_type": "stream",
     "text": [
      " 67%|██████▋   | 85/126 [44:25<21:18, 31.19s/it]"
     ]
    },
    {
     "name": "stdout",
     "output_type": "stream",
     "text": [
      "Static Test Score (ROC AUC): 0.60\n",
      "** Sampled 175 positive and 175 negative edges. **\n",
      "** Sampled 427 positive and 427 negative edges. **\n",
      "Temporal Training Score (ROC AUC): 0.70\n",
      "Temporal Test Score (ROC AUC): 0.75\n",
      "Static Training Score (ROC AUC): 0.64\n"
     ]
    },
    {
     "name": "stderr",
     "output_type": "stream",
     "text": [
      " 68%|██████▊   | 86/126 [44:57<20:49, 31.25s/it]"
     ]
    },
    {
     "name": "stdout",
     "output_type": "stream",
     "text": [
      "Static Test Score (ROC AUC): 0.64\n",
      "** Sampled 175 positive and 175 negative edges. **\n",
      "** Sampled 427 positive and 427 negative edges. **\n",
      "Temporal Training Score (ROC AUC): 0.71\n",
      "Temporal Test Score (ROC AUC): 0.44\n",
      "Static Training Score (ROC AUC): 0.68\n"
     ]
    },
    {
     "name": "stderr",
     "output_type": "stream",
     "text": [
      " 69%|██████▉   | 87/126 [45:29<20:33, 31.62s/it]"
     ]
    },
    {
     "name": "stdout",
     "output_type": "stream",
     "text": [
      "Static Test Score (ROC AUC): 0.36\n",
      "** Sampled 175 positive and 175 negative edges. **\n",
      "** Sampled 427 positive and 427 negative edges. **\n",
      "Temporal Training Score (ROC AUC): 0.72\n",
      "Temporal Test Score (ROC AUC): 0.73\n",
      "Static Training Score (ROC AUC): 0.69\n"
     ]
    },
    {
     "name": "stderr",
     "output_type": "stream",
     "text": [
      " 70%|██████▉   | 88/126 [46:00<19:48, 31.26s/it]"
     ]
    },
    {
     "name": "stdout",
     "output_type": "stream",
     "text": [
      "Static Test Score (ROC AUC): 0.69\n",
      "** Sampled 175 positive and 175 negative edges. **\n",
      "** Sampled 427 positive and 427 negative edges. **\n",
      "Temporal Training Score (ROC AUC): 0.69\n",
      "Temporal Test Score (ROC AUC): 0.74\n",
      "Static Training Score (ROC AUC): 0.69\n"
     ]
    },
    {
     "name": "stderr",
     "output_type": "stream",
     "text": [
      " 71%|███████   | 89/126 [46:29<18:56, 30.70s/it]"
     ]
    },
    {
     "name": "stdout",
     "output_type": "stream",
     "text": [
      "Static Test Score (ROC AUC): 0.62\n",
      "** Sampled 175 positive and 175 negative edges. **\n",
      "** Sampled 427 positive and 427 negative edges. **\n",
      "Temporal Training Score (ROC AUC): 0.70\n",
      "Temporal Test Score (ROC AUC): 0.73\n",
      "Static Training Score (ROC AUC): 0.69\n"
     ]
    },
    {
     "name": "stderr",
     "output_type": "stream",
     "text": [
      " 71%|███████▏  | 90/126 [47:01<18:37, 31.03s/it]"
     ]
    },
    {
     "name": "stdout",
     "output_type": "stream",
     "text": [
      "Static Test Score (ROC AUC): 0.64\n",
      "** Sampled 175 positive and 175 negative edges. **\n",
      "** Sampled 427 positive and 427 negative edges. **\n",
      "Temporal Training Score (ROC AUC): 0.69\n",
      "Temporal Test Score (ROC AUC): 0.74\n"
     ]
    }
   ],
   "source": [
    "train_errors, test_errors = defaultdict(list), defaultdict(list)\n",
    "for time, graph in tqdm(weekly_graphs.items()): \n",
    "    graph = StellarGraph.from_networkx(graph, edge_weight_attr='time', edge_type_attr='directed')\n",
    "    temporal_e, static_e = run_analysis(graph, True)\n",
    "    train_errors['temporal'].append(temporal_e[1])\n",
    "    test_errors['temporal'].append(temporal_e[2])\n",
    "    train_errors['static'].append(static_e[1])\n",
    "    test_errors['static'].append(static_e[2]) "
   ]
  },
  {
   "cell_type": "code",
   "execution_count": null,
   "metadata": {},
   "outputs": [
    {
     "ename": "ValueError",
     "evalue": "x and y must have same first dimension, but have shapes (126,) and (0,)",
     "output_type": "error",
     "traceback": [
      "\u001b[0;31m---------------------------------------------------------------------------\u001b[0m",
      "\u001b[0;31mValueError\u001b[0m                                Traceback (most recent call last)",
      "Cell \u001b[0;32mIn[52], line 3\u001b[0m\n\u001b[1;32m      1\u001b[0m fig, ax \u001b[38;5;241m=\u001b[39m plt\u001b[38;5;241m.\u001b[39msubplots(\u001b[38;5;241m2\u001b[39m,\u001b[38;5;241m1\u001b[39m, figsize\u001b[38;5;241m=\u001b[39m(\u001b[38;5;241m10\u001b[39m,\u001b[38;5;241m4\u001b[39m))\n\u001b[1;32m      2\u001b[0m date_list \u001b[38;5;241m=\u001b[39m weekly_graphs\u001b[38;5;241m.\u001b[39mkeys()\n\u001b[0;32m----> 3\u001b[0m \u001b[43max\u001b[49m\u001b[43m[\u001b[49m\u001b[38;5;241;43m1\u001b[39;49m\u001b[43m]\u001b[49m\u001b[38;5;241;43m.\u001b[39;49m\u001b[43mplot\u001b[49m\u001b[43m(\u001b[49m\u001b[43mdate_list\u001b[49m\u001b[43m,\u001b[49m\u001b[43m \u001b[49m\u001b[43mtest_errors\u001b[49m\u001b[43m[\u001b[49m\u001b[38;5;124;43m'\u001b[39;49m\u001b[38;5;124;43mtemporal\u001b[39;49m\u001b[38;5;124;43m'\u001b[39;49m\u001b[43m]\u001b[49m\u001b[43m,\u001b[49m\u001b[43m \u001b[49m\u001b[43mlabel\u001b[49m\u001b[38;5;241;43m=\u001b[39;49m\u001b[38;5;124;43m'\u001b[39;49m\u001b[38;5;124;43mtemporal test ROC AUC score\u001b[39;49m\u001b[38;5;124;43m'\u001b[39;49m\u001b[43m)\u001b[49m\n\u001b[1;32m      4\u001b[0m ax[\u001b[38;5;241m1\u001b[39m]\u001b[38;5;241m.\u001b[39mplot(date_list, test_errors[\u001b[38;5;124m'\u001b[39m\u001b[38;5;124mstatic\u001b[39m\u001b[38;5;124m'\u001b[39m], label\u001b[38;5;241m=\u001b[39m\u001b[38;5;124m'\u001b[39m\u001b[38;5;124mstatic test ROC AUC score\u001b[39m\u001b[38;5;124m'\u001b[39m)\n\u001b[1;32m      5\u001b[0m ax[\u001b[38;5;241m1\u001b[39m]\u001b[38;5;241m.\u001b[39mlegend(loc\u001b[38;5;241m=\u001b[39m\u001b[38;5;124m'\u001b[39m\u001b[38;5;124mlower right\u001b[39m\u001b[38;5;124m'\u001b[39m)\n",
      "File \u001b[0;32m/opt/anaconda3/envs/py38_env/lib/python3.8/site-packages/matplotlib/axes/_axes.py:1662\u001b[0m, in \u001b[0;36mAxes.plot\u001b[0;34m(self, scalex, scaley, data, *args, **kwargs)\u001b[0m\n\u001b[1;32m   1419\u001b[0m \u001b[38;5;250m\u001b[39m\u001b[38;5;124;03m\"\"\"\u001b[39;00m\n\u001b[1;32m   1420\u001b[0m \u001b[38;5;124;03mPlot y versus x as lines and/or markers.\u001b[39;00m\n\u001b[1;32m   1421\u001b[0m \n\u001b[0;32m   (...)\u001b[0m\n\u001b[1;32m   1659\u001b[0m \u001b[38;5;124;03m(``'green'``) or hex strings (``'#008000'``).\u001b[39;00m\n\u001b[1;32m   1660\u001b[0m \u001b[38;5;124;03m\"\"\"\u001b[39;00m\n\u001b[1;32m   1661\u001b[0m kwargs \u001b[38;5;241m=\u001b[39m cbook\u001b[38;5;241m.\u001b[39mnormalize_kwargs(kwargs, mlines\u001b[38;5;241m.\u001b[39mLine2D)\n\u001b[0;32m-> 1662\u001b[0m lines \u001b[38;5;241m=\u001b[39m [\u001b[38;5;241m*\u001b[39m\u001b[38;5;28mself\u001b[39m\u001b[38;5;241m.\u001b[39m_get_lines(\u001b[38;5;241m*\u001b[39margs, data\u001b[38;5;241m=\u001b[39mdata, \u001b[38;5;241m*\u001b[39m\u001b[38;5;241m*\u001b[39mkwargs)]\n\u001b[1;32m   1663\u001b[0m \u001b[38;5;28;01mfor\u001b[39;00m line \u001b[38;5;129;01min\u001b[39;00m lines:\n\u001b[1;32m   1664\u001b[0m     \u001b[38;5;28mself\u001b[39m\u001b[38;5;241m.\u001b[39madd_line(line)\n",
      "File \u001b[0;32m/opt/anaconda3/envs/py38_env/lib/python3.8/site-packages/matplotlib/axes/_base.py:311\u001b[0m, in \u001b[0;36m_process_plot_var_args.__call__\u001b[0;34m(self, data, *args, **kwargs)\u001b[0m\n\u001b[1;32m    309\u001b[0m     this \u001b[38;5;241m+\u001b[39m\u001b[38;5;241m=\u001b[39m args[\u001b[38;5;241m0\u001b[39m],\n\u001b[1;32m    310\u001b[0m     args \u001b[38;5;241m=\u001b[39m args[\u001b[38;5;241m1\u001b[39m:]\n\u001b[0;32m--> 311\u001b[0m \u001b[38;5;28;01myield from\u001b[39;00m \u001b[38;5;28;43mself\u001b[39;49m\u001b[38;5;241;43m.\u001b[39;49m\u001b[43m_plot_args\u001b[49m\u001b[43m(\u001b[49m\n\u001b[1;32m    312\u001b[0m \u001b[43m    \u001b[49m\u001b[43mthis\u001b[49m\u001b[43m,\u001b[49m\u001b[43m \u001b[49m\u001b[43mkwargs\u001b[49m\u001b[43m,\u001b[49m\u001b[43m \u001b[49m\u001b[43mambiguous_fmt_datakey\u001b[49m\u001b[38;5;241;43m=\u001b[39;49m\u001b[43mambiguous_fmt_datakey\u001b[49m\u001b[43m)\u001b[49m\n",
      "File \u001b[0;32m/opt/anaconda3/envs/py38_env/lib/python3.8/site-packages/matplotlib/axes/_base.py:504\u001b[0m, in \u001b[0;36m_process_plot_var_args._plot_args\u001b[0;34m(self, tup, kwargs, return_kwargs, ambiguous_fmt_datakey)\u001b[0m\n\u001b[1;32m    501\u001b[0m     \u001b[38;5;28mself\u001b[39m\u001b[38;5;241m.\u001b[39maxes\u001b[38;5;241m.\u001b[39myaxis\u001b[38;5;241m.\u001b[39mupdate_units(y)\n\u001b[1;32m    503\u001b[0m \u001b[38;5;28;01mif\u001b[39;00m x\u001b[38;5;241m.\u001b[39mshape[\u001b[38;5;241m0\u001b[39m] \u001b[38;5;241m!=\u001b[39m y\u001b[38;5;241m.\u001b[39mshape[\u001b[38;5;241m0\u001b[39m]:\n\u001b[0;32m--> 504\u001b[0m     \u001b[38;5;28;01mraise\u001b[39;00m \u001b[38;5;167;01mValueError\u001b[39;00m(\u001b[38;5;124mf\u001b[39m\u001b[38;5;124m\"\u001b[39m\u001b[38;5;124mx and y must have same first dimension, but \u001b[39m\u001b[38;5;124m\"\u001b[39m\n\u001b[1;32m    505\u001b[0m                      \u001b[38;5;124mf\u001b[39m\u001b[38;5;124m\"\u001b[39m\u001b[38;5;124mhave shapes \u001b[39m\u001b[38;5;132;01m{\u001b[39;00mx\u001b[38;5;241m.\u001b[39mshape\u001b[38;5;132;01m}\u001b[39;00m\u001b[38;5;124m and \u001b[39m\u001b[38;5;132;01m{\u001b[39;00my\u001b[38;5;241m.\u001b[39mshape\u001b[38;5;132;01m}\u001b[39;00m\u001b[38;5;124m\"\u001b[39m)\n\u001b[1;32m    506\u001b[0m \u001b[38;5;28;01mif\u001b[39;00m x\u001b[38;5;241m.\u001b[39mndim \u001b[38;5;241m>\u001b[39m \u001b[38;5;241m2\u001b[39m \u001b[38;5;129;01mor\u001b[39;00m y\u001b[38;5;241m.\u001b[39mndim \u001b[38;5;241m>\u001b[39m \u001b[38;5;241m2\u001b[39m:\n\u001b[1;32m    507\u001b[0m     \u001b[38;5;28;01mraise\u001b[39;00m \u001b[38;5;167;01mValueError\u001b[39;00m(\u001b[38;5;124mf\u001b[39m\u001b[38;5;124m\"\u001b[39m\u001b[38;5;124mx and y can be no greater than 2D, but have \u001b[39m\u001b[38;5;124m\"\u001b[39m\n\u001b[1;32m    508\u001b[0m                      \u001b[38;5;124mf\u001b[39m\u001b[38;5;124m\"\u001b[39m\u001b[38;5;124mshapes \u001b[39m\u001b[38;5;132;01m{\u001b[39;00mx\u001b[38;5;241m.\u001b[39mshape\u001b[38;5;132;01m}\u001b[39;00m\u001b[38;5;124m and \u001b[39m\u001b[38;5;132;01m{\u001b[39;00my\u001b[38;5;241m.\u001b[39mshape\u001b[38;5;132;01m}\u001b[39;00m\u001b[38;5;124m\"\u001b[39m)\n",
      "\u001b[0;31mValueError\u001b[0m: x and y must have same first dimension, but have shapes (126,) and (0,)"
     ]
    },
    {
     "data": {
      "image/png": "[encoded data removed]",
      "text/plain": [
       "<Figure size 1000x400 with 2 Axes>"
      ]
     },
     "metadata": {},
     "output_type": "display_data"
    }
   ],
   "source": [
    "fig, ax = plt.subplots(2,1, figsize=(10,4))\n",
    "date_list = weekly_graphs.keys()\n",
    "ax[1].plot(date_list, test_errors['temporal'], label='temporal test ROC AUC score')\n",
    "ax[1].plot(date_list, test_errors['static'], label='static test ROC AUC score')\n",
    "ax[1].legend(loc='lower right')\n",
    "\n",
    "ax[0].plot(date_list, train_errors['temporal'], label='temporal train ROC AUC score')\n",
    "ax[0].plot(date_list, train_errors['static'], label='static train ROC AUC score')\n",
    "ax[0].legend(loc='lower right')\n",
    "\n",
    "fig.tight_layout()"
   ]
  },
  {
   "cell_type": "code",
   "execution_count": null,
   "metadata": {},
   "outputs": [],
   "source": []
  }
 ],
 "metadata": {
  "kernelspec": {
   "display_name": "py38_env",
   "language": "python",
   "name": "python3"
  },
  "language_info": {
   "codemirror_mode": {
    "name": "ipython",
    "version": 3
   },
   "file_extension": ".py",
   "mimetype": "text/x-python",
   "name": "python",
   "nbconvert_exporter": "python",
   "pygments_lexer": "ipython3",
   "version": "3.8.16"
  }
 },
 "nbformat": 4,
 "nbformat_minor": 2
}
