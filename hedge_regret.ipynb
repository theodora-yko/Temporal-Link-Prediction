{
 "cells": [
  {
   "cell_type": "code",
   "execution_count": 2,
   "metadata": {},
   "outputs": [
    {
     "name": "stdout",
     "output_type": "stream",
     "text": [
      "Collecting stellargraph\n",
      "  Using cached stellargraph-1.2.1-py3-none-any.whl (435 kB)\n",
      "Collecting chardet\n",
      "  Using cached chardet-5.2.0-py3-none-any.whl (199 kB)\n",
      "Collecting networkx\n",
      "  Using cached networkx-3.1-py3-none-any.whl (2.1 MB)\n",
      "Collecting seaborn\n",
      "  Downloading seaborn-0.13.2-py3-none-any.whl (294 kB)\n",
      "\u001b[2K     \u001b[90m━━━━━━━━━━━━━━━━━━━━━━━━━━━━━━━━━━━━━━━\u001b[0m \u001b[32m294.9/294.9 KB\u001b[0m \u001b[31m5.2 MB/s\u001b[0m eta \u001b[36m0:00:00\u001b[0ma \u001b[36m0:00:01\u001b[0m\n",
      "\u001b[?25hCollecting numpy\n",
      "  Using cached numpy-1.24.4-cp38-cp38-macosx_10_9_x86_64.whl (19.8 MB)\n",
      "Collecting pandas\n",
      "  Using cached pandas-2.0.3-cp38-cp38-macosx_10_9_x86_64.whl (11.7 MB)\n",
      "Collecting tqdm\n",
      "  Downloading tqdm-4.66.2-py3-none-any.whl (78 kB)\n",
      "\u001b[2K     \u001b[90m━━━━━━━━━━━━━━━━━━━━━━━━━━━━━━━━━━━━━━━━\u001b[0m \u001b[32m78.3/78.3 KB\u001b[0m \u001b[31m3.1 MB/s\u001b[0m eta \u001b[36m0:00:00\u001b[0m\n",
      "\u001b[?25hCollecting gensim\n",
      "  Using cached gensim-4.3.2-cp38-cp38-macosx_10_9_x86_64.whl (24.1 MB)\n",
      "Collecting scikit-learn\n",
      "  Using cached scikit_learn-1.3.2-cp38-cp38-macosx_10_9_x86_64.whl (10.1 MB)\n",
      "Collecting tensorflow>=2.1.0\n",
      "  Using cached tensorflow-2.13.1-cp38-cp38-macosx_10_15_x86_64.whl (216.2 MB)\n",
      "Collecting scipy>=1.1.0\n",
      "  Using cached scipy-1.10.1-cp38-cp38-macosx_10_9_x86_64.whl (35.0 MB)\n",
      "Collecting matplotlib>=2.2\n",
      "  Using cached matplotlib-3.7.5-cp38-cp38-macosx_10_12_x86_64.whl (7.4 MB)\n",
      "Requirement already satisfied: python-dateutil>=2.8.2 in ./venv/lib/python3.8/site-packages (from pandas) (2.9.0.post0)\n",
      "Collecting pytz>=2020.1\n",
      "  Using cached pytz-2024.1-py2.py3-none-any.whl (505 kB)\n",
      "Collecting tzdata>=2022.1\n",
      "  Using cached tzdata-2024.1-py2.py3-none-any.whl (345 kB)\n",
      "Collecting smart-open>=1.8.1\n",
      "  Using cached smart_open-7.0.4-py3-none-any.whl (61 kB)\n",
      "Collecting joblib>=1.1.1\n",
      "  Using cached joblib-1.4.0-py3-none-any.whl (301 kB)\n",
      "Collecting threadpoolctl>=2.0.0\n",
      "  Using cached threadpoolctl-3.4.0-py3-none-any.whl (17 kB)\n",
      "Collecting importlib-resources>=3.2.0\n",
      "  Using cached importlib_resources-6.4.0-py3-none-any.whl (38 kB)\n",
      "Collecting contourpy>=1.0.1\n",
      "  Using cached contourpy-1.1.1-cp38-cp38-macosx_10_9_x86_64.whl (247 kB)\n",
      "Requirement already satisfied: packaging>=20.0 in ./venv/lib/python3.8/site-packages (from matplotlib>=2.2->stellargraph) (24.0)\n",
      "Collecting cycler>=0.10\n",
      "  Using cached cycler-0.12.1-py3-none-any.whl (8.3 kB)\n",
      "Collecting pyparsing>=2.3.1\n",
      "  Using cached pyparsing-3.1.2-py3-none-any.whl (103 kB)\n",
      "Collecting pillow>=6.2.0\n",
      "  Using cached pillow-10.3.0-cp38-cp38-macosx_10_10_x86_64.whl (3.5 MB)\n",
      "Collecting fonttools>=4.22.0\n",
      "  Using cached fonttools-4.51.0-cp38-cp38-macosx_10_9_x86_64.whl (2.3 MB)\n",
      "Collecting kiwisolver>=1.0.1\n",
      "  Using cached kiwisolver-1.4.5-cp38-cp38-macosx_10_9_x86_64.whl (68 kB)\n",
      "Requirement already satisfied: six>=1.5 in ./venv/lib/python3.8/site-packages (from python-dateutil>=2.8.2->pandas) (1.16.0)\n",
      "Collecting wrapt\n",
      "  Using cached wrapt-1.16.0-cp38-cp38-macosx_10_9_x86_64.whl (37 kB)\n",
      "Collecting opt-einsum>=2.3.2\n",
      "  Using cached opt_einsum-3.3.0-py3-none-any.whl (65 kB)\n",
      "Collecting h5py>=2.9.0\n",
      "  Using cached h5py-3.11.0-cp38-cp38-macosx_10_9_x86_64.whl (3.5 MB)\n",
      "Collecting grpcio<2.0,>=1.24.3\n",
      "  Using cached grpcio-1.62.2-cp38-cp38-macosx_10_10_universal2.whl (10.1 MB)\n",
      "Collecting absl-py>=1.0.0\n",
      "  Using cached absl_py-2.1.0-py3-none-any.whl (133 kB)\n",
      "Collecting keras<2.14,>=2.13.1\n",
      "  Using cached keras-2.13.1-py3-none-any.whl (1.7 MB)\n",
      "Collecting typing-extensions<4.6.0,>=3.6.6\n",
      "  Using cached typing_extensions-4.5.0-py3-none-any.whl (27 kB)\n",
      "Requirement already satisfied: setuptools in ./venv/lib/python3.8/site-packages (from tensorflow>=2.1.0->stellargraph) (56.0.0)\n",
      "Collecting numpy\n",
      "  Using cached numpy-1.24.3-cp38-cp38-macosx_10_9_x86_64.whl (19.8 MB)\n",
      "Collecting protobuf!=4.21.0,!=4.21.1,!=4.21.2,!=4.21.3,!=4.21.4,!=4.21.5,<5.0.0dev,>=3.20.3\n",
      "  Using cached protobuf-4.25.3-cp37-abi3-macosx_10_9_universal2.whl (394 kB)\n",
      "Collecting gast<=0.4.0,>=0.2.1\n",
      "  Using cached gast-0.4.0-py3-none-any.whl (9.8 kB)\n",
      "Collecting flatbuffers>=23.1.21\n",
      "  Using cached flatbuffers-24.3.25-py2.py3-none-any.whl (26 kB)\n",
      "Collecting google-pasta>=0.1.1\n",
      "  Using cached google_pasta-0.2.0-py3-none-any.whl (57 kB)\n",
      "Collecting tensorboard<2.14,>=2.13\n",
      "  Using cached tensorboard-2.13.0-py3-none-any.whl (5.6 MB)\n",
      "Collecting libclang>=13.0.0\n",
      "  Using cached libclang-18.1.1-py2.py3-none-macosx_10_9_x86_64.whl (26.5 MB)\n",
      "Collecting tensorflow-estimator<2.14,>=2.13.0\n",
      "  Using cached tensorflow_estimator-2.13.0-py2.py3-none-any.whl (440 kB)\n",
      "Collecting termcolor>=1.1.0\n",
      "  Using cached termcolor-2.4.0-py3-none-any.whl (7.7 kB)\n",
      "Collecting tensorflow-io-gcs-filesystem>=0.23.1\n",
      "  Using cached tensorflow_io_gcs_filesystem-0.34.0-cp38-cp38-macosx_10_14_x86_64.whl (1.7 MB)\n",
      "Collecting astunparse>=1.6.0\n",
      "  Using cached astunparse-1.6.3-py2.py3-none-any.whl (12 kB)\n",
      "Collecting wheel<1.0,>=0.23.0\n",
      "  Using cached wheel-0.43.0-py3-none-any.whl (65 kB)\n",
      "Requirement already satisfied: zipp>=3.1.0 in ./venv/lib/python3.8/site-packages (from importlib-resources>=3.2.0->matplotlib>=2.2->stellargraph) (3.18.1)\n",
      "Collecting markdown>=2.6.8\n",
      "  Using cached Markdown-3.6-py3-none-any.whl (105 kB)\n",
      "Collecting requests<3,>=2.21.0\n",
      "  Using cached requests-2.31.0-py3-none-any.whl (62 kB)\n",
      "Collecting tensorboard-data-server<0.8.0,>=0.7.0\n",
      "  Using cached tensorboard_data_server-0.7.2-py3-none-macosx_10_9_x86_64.whl (4.8 MB)\n",
      "Collecting werkzeug>=1.0.1\n",
      "  Using cached werkzeug-3.0.2-py3-none-any.whl (226 kB)\n",
      "Collecting google-auth<3,>=1.6.3\n",
      "  Using cached google_auth-2.29.0-py2.py3-none-any.whl (189 kB)\n",
      "Collecting google-auth-oauthlib<1.1,>=0.5\n",
      "  Using cached google_auth_oauthlib-1.0.0-py2.py3-none-any.whl (18 kB)\n",
      "Collecting rsa<5,>=3.1.4\n",
      "  Using cached rsa-4.9-py3-none-any.whl (34 kB)\n",
      "Collecting pyasn1-modules>=0.2.1\n",
      "  Using cached pyasn1_modules-0.4.0-py3-none-any.whl (181 kB)\n",
      "Collecting cachetools<6.0,>=2.0.0\n",
      "  Using cached cachetools-5.3.3-py3-none-any.whl (9.3 kB)\n",
      "Collecting requests-oauthlib>=0.7.0\n",
      "  Using cached requests_oauthlib-2.0.0-py2.py3-none-any.whl (24 kB)\n",
      "Requirement already satisfied: importlib-metadata>=4.4 in ./venv/lib/python3.8/site-packages (from markdown>=2.6.8->tensorboard<2.14,>=2.13->tensorflow>=2.1.0->stellargraph) (7.1.0)\n",
      "Collecting charset-normalizer<4,>=2\n",
      "  Using cached charset_normalizer-3.3.2-cp38-cp38-macosx_10_9_x86_64.whl (121 kB)\n",
      "Collecting urllib3<3,>=1.21.1\n",
      "  Using cached urllib3-2.2.1-py3-none-any.whl (121 kB)\n",
      "Collecting certifi>=2017.4.17\n",
      "  Using cached certifi-2024.2.2-py3-none-any.whl (163 kB)\n",
      "Collecting idna<4,>=2.5\n",
      "  Using cached idna-3.7-py3-none-any.whl (66 kB)\n",
      "Collecting MarkupSafe>=2.1.1\n",
      "  Using cached MarkupSafe-2.1.5-cp38-cp38-macosx_10_9_x86_64.whl (14 kB)\n",
      "Collecting pyasn1<0.7.0,>=0.4.6\n",
      "  Using cached pyasn1-0.6.0-py2.py3-none-any.whl (85 kB)\n",
      "Collecting oauthlib>=3.0.0\n",
      "  Using cached oauthlib-3.2.2-py3-none-any.whl (151 kB)\n",
      "Installing collected packages: pytz, libclang, flatbuffers, wrapt, wheel, urllib3, tzdata, typing-extensions, tqdm, threadpoolctl, termcolor, tensorflow-io-gcs-filesystem, tensorflow-estimator, tensorboard-data-server, pyparsing, pyasn1, protobuf, pillow, oauthlib, numpy, networkx, MarkupSafe, kiwisolver, keras, joblib, importlib-resources, idna, grpcio, google-pasta, gast, fonttools, cycler, charset-normalizer, chardet, certifi, cachetools, absl-py, werkzeug, smart-open, scipy, rsa, requests, pyasn1-modules, pandas, opt-einsum, markdown, h5py, contourpy, astunparse, scikit-learn, requests-oauthlib, matplotlib, google-auth, gensim, seaborn, google-auth-oauthlib, tensorboard, tensorflow, stellargraph\n",
      "  Attempting uninstall: typing-extensions\n",
      "    Found existing installation: typing_extensions 4.11.0\n",
      "    Uninstalling typing_extensions-4.11.0:\n",
      "      Successfully uninstalled typing_extensions-4.11.0\n",
      "Successfully installed MarkupSafe-2.1.5 absl-py-2.1.0 astunparse-1.6.3 cachetools-5.3.3 certifi-2024.2.2 chardet-5.2.0 charset-normalizer-3.3.2 contourpy-1.1.1 cycler-0.12.1 flatbuffers-24.3.25 fonttools-4.51.0 gast-0.4.0 gensim-4.3.2 google-auth-2.29.0 google-auth-oauthlib-1.0.0 google-pasta-0.2.0 grpcio-1.62.2 h5py-3.11.0 idna-3.7 importlib-resources-6.4.0 joblib-1.4.0 keras-2.13.1 kiwisolver-1.4.5 libclang-18.1.1 markdown-3.6 matplotlib-3.7.5 networkx-3.1 numpy-1.24.3 oauthlib-3.2.2 opt-einsum-3.3.0 pandas-2.0.3 pillow-10.3.0 protobuf-4.25.3 pyasn1-0.6.0 pyasn1-modules-0.4.0 pyparsing-3.1.2 pytz-2024.1 requests-2.31.0 requests-oauthlib-2.0.0 rsa-4.9 scikit-learn-1.3.2 scipy-1.10.1 seaborn-0.13.2 smart-open-7.0.4 stellargraph-1.2.1 tensorboard-2.13.0 tensorboard-data-server-0.7.2 tensorflow-2.13.1 tensorflow-estimator-2.13.0 tensorflow-io-gcs-filesystem-0.34.0 termcolor-2.4.0 threadpoolctl-3.4.0 tqdm-4.66.2 typing-extensions-4.5.0 tzdata-2024.1 urllib3-2.2.1 werkzeug-3.0.2 wheel-0.43.0 wrapt-1.16.0\n",
      "\u001b[33mWARNING: You are using pip version 22.0.4; however, version 24.0 is available.\n",
      "You should consider upgrading via the '/Users/yko/Documents/Temporal-Link-Prediction/venv/bin/python -m pip install --upgrade pip' command.\u001b[0m\u001b[33m\n",
      "\u001b[0m"
     ]
    }
   ],
   "source": [
    "!python -m pip install stellargraph chardet networkx seaborn numpy pandas tqdm gensim scikit-learn"
   ]
  },
  {
   "cell_type": "code",
   "execution_count": 8,
   "metadata": {},
   "outputs": [],
   "source": [
    "import os\n",
    "import pandas as pd\n",
    "import seaborn as sns\n",
    "import matplotlib.pyplot as plt\n",
    "import numpy as np\n",
    "import networkx as nx\n",
    "from tqdm import tqdm\n",
    "from functools import reduce\n",
    "import datetime\n",
    "from datetime import datetime, timedelta\n",
    "from collections import defaultdict, Counter\n",
    "from utils import * \n",
    "import stellargraph as sg\n",
    "from stellargraph import StellarGraph\n",
    "from stellargraph.data import EdgeSplitter, BiasedRandomWalk, TemporalRandomWalk\n",
    "from scipy.special import softmax\n",
    "from tqdm import tqdm\n",
    "import math\n",
    "from sklearn.preprocessing import normalize\n",
    "from math import isclose\n",
    "from sklearn.decomposition import PCA\n",
    "import multiprocessing\n",
    "import sklearn.model_selection \n",
    "from gensim.models import Word2Vec\n",
    "# python3 -m pip install tqdm seaborn "
   ]
  },
  {
   "cell_type": "markdown",
   "metadata": {},
   "source": [
    "# CM_Time() & Weekly Graph Construction"
   ]
  },
  {
   "cell_type": "code",
   "execution_count": 9,
   "metadata": {},
   "outputs": [],
   "source": [
    "class temporalNetwork(): \n",
    "    def __init__(self, start_date, end_date, display_progress=False, location_grouping='kma', origin=None, facility_id=None, intermediate=None):\n",
    "        \"\"\" \n",
    "        Note: \n",
    "            start_date and end_date should be both None as they are used as a signal to \n",
    "            CM_Time's run_simulation to whether construct a new graph or update the graph with new information \n",
    "        \"\"\"\n",
    "        self.display_progress = display_progress\n",
    "        self.start_date=start_date\n",
    "        self.end_date=end_date\n",
    "        self.network=None\n",
    "        self.origin_location_list=None\n",
    "        self.location_grouping=location_grouping\n",
    "        self.inbound_data = None \n",
    "        self.outbound_data = None\n",
    "\n",
    "    def construct_network_graph(self):\n",
    "        \"\"\" \n",
    "        Given an inbound and outbound dataframe, construct a network graph and stores it in the class variable self.network\n",
    "        Args: \n",
    "            an_inbound_df (pd.DataFrame): inbound dataframe\n",
    "            an_outbound_df (pd.DataFrame): outbound dataframe\n",
    "            start_date (datetime): start date of the network graph\n",
    "            end_date (datetime): end date of the network graph\n",
    "            location_grouping(string): 'kma' or 'zip3'\n",
    "        \"\"\"\n",
    "        # pull data & construct an empty multiDiGraph\n",
    "\n",
    "        date = self.start_date.strftime(\"%Y-%m-%d\") + \"_\" + self.end_date.strftime(\"%Y-%m-%d\")\n",
    "        an_inbound_df, an_outbound_df = pd.read_csv(f\"inbound_{self.location_grouping}_data/inbound_data_{date}.csv\"), pd.read_csv(f\"outbound_{self.location_grouping}_data/outbound_data_{date}.csv\")\n",
    "        an_inbound_df.load_date, an_outbound_df.load_date = pd.to_datetime(an_inbound_df.load_date), pd.to_datetime(an_outbound_df.load_date)\n",
    "        for colin, colout in zip(an_inbound_df.columns, an_outbound_df.columns): \n",
    "            if colin not in [\"total_loads\", \"load_date\"]: \n",
    "                an_inbound_df[colin] = an_inbound_df[colin].astype(str)\n",
    "            if colout not in [\"total_loads\", \"load_date\"]:\n",
    "                an_outbound_df[colout] = an_outbound_df[colout].astype(str)\n",
    "\n",
    "        network_graph = nx.MultiDiGraph(name=f\"original network\", start_date=self.start_date, end_date=self.end_date)\n",
    "        # network_graph = nx.DiGraph(name=f\"original network\", start_date=self.start_date, end_date=self.end_date)\n",
    "        # idf, odf = an_inbound_df.copy(), an_outbound_df.copy()\n",
    "\n",
    "        # idf.to_csv(f\"data/inbound_data_{self.start_date}_{self.end_date}.csv\", index=False)\n",
    "        # odf.to_csv(f\"data/outbound_data_{self.start_date}_{self.end_date}.csv\", index=False)\n",
    "\n",
    "        # add nodes & edges \n",
    "        node_1 = f\"origin_{self.location_grouping}_id\"\n",
    "        node_2 = f\"facility_{self.location_grouping}_id\"\n",
    "        node_3 = f\"destination_{self.location_grouping}_id\"\n",
    "\n",
    "        network_graph = add_nodes_given_df(network_graph, an_inbound_df, [node_1, 'facility_id']) \n",
    "        network_graph = add_nodes_given_df(network_graph, an_outbound_df, ['facility_id', node_2, node_3]) \n",
    "\n",
    "        network_graph = add_edges_given_graph(network_graph, an_inbound_df, an_outbound_df, self.location_grouping)\n",
    "        \n",
    "        # update the variables \n",
    "        self.network = network_graph\n",
    "        self.origin_location_list = an_inbound_df[f'origin_{self.location_grouping}_id'].unique()\n",
    "        self.inbound_data, self.outbound_data = an_inbound_df, an_outbound_df\n",
    "        if self.display_progress: print(f\"Current time of the graph: {self.start_date} to {self.end_date}\") \n",
    "        \n",
    "    def move_to_next_week(self): \n",
    "        \"\"\" \n",
    "        Given the new week's inbound and outbound dataframes, \n",
    "        update self.network graph, self.start_date, and self.end_date to a week after current start date and end date \n",
    "        \n",
    "        Args:\n",
    "            next_inbound_df (pd.DataFrame): new week's inbound dataframe\n",
    "            next_outbound_df (pd.DataFrame): new week's outbound dataframe\n",
    "            display_progress (boolean): whether to display the progress of the function or not\n",
    "        \"\"\"\n",
    "        # update the dates, pull new week's data, & store some informations\n",
    "        self.start_date, self.end_date = self.start_date + timedelta(days=7), self.end_date + timedelta(days=7)\n",
    "        date = self.start_date.strftime(\"%Y-%m-%d\") + \"_\" + self.end_date.strftime(\"%Y-%m-%d\")\n",
    "        next_inbound_df, next_outbound_df = pd.read_csv(f\"inbound_{self.location_grouping}_data/inbound_data_{date}.csv\"), pd.read_csv(f\"outbound_{self.location_grouping}_data/outbound_data_{date}.csv\")\n",
    "        next_inbound_df.load_date, next_outbound_df.load_date = pd.to_datetime(next_inbound_df.load_date), pd.to_datetime(next_outbound_df.load_date)\n",
    "        for colin, colout in zip(next_inbound_df.columns, next_outbound_df.columns): \n",
    "            if colin not in [\"total_loads\", \"load_date\"]: \n",
    "                next_inbound_df[colin] = next_inbound_df[colin].astype(str)\n",
    "            if colout not in [\"total_loads\", \"load_date\"]:\n",
    "                next_outbound_df[colout] = next_outbound_df[colout].astype(str)\n",
    "\n",
    "        network_graph = nx.MultiDiGraph(name=f\"new network\", start_date=self.start_date, end_date=self.end_date)\n",
    "        # network_graph = nx.DiGraph(name=f\"original network\", start_date=self.start_date, end_date=self.end_date)\n",
    "        # idf, odf = an_inbound_df.copy(), an_outbound_df.copy()\n",
    "\n",
    "        # idf.to_csv(f\"data/inbound_data_{self.start_date}_{self.end_date}.csv\", index=False)\n",
    "        # odf.to_csv(f\"data/outbound_data_{self.start_date}_{self.end_date}.csv\", index=False)\n",
    "\n",
    "        # add nodes & edges \n",
    "        node_1 = f\"origin_{self.location_grouping}_id\"\n",
    "        node_2 = f\"facility_{self.location_grouping}_id\"\n",
    "        node_3 = f\"destination_{self.location_grouping}_id\"\n",
    "\n",
    "        network_graph = add_nodes_given_df(network_graph, next_inbound_df, [node_1, 'facility_id']) \n",
    "        network_graph = add_nodes_given_df(network_graph, next_outbound_df, ['facility_id', node_2, node_3]) \n",
    "\n",
    "        network_graph = add_edges_given_graph(network_graph, next_inbound_df, next_outbound_df, self.location_grouping)\n",
    "\n",
    "         # update the variables \n",
    "        self.network = network_graph\n",
    "        self.origin_location_list = next_inbound_df[f'origin_{self.location_grouping}_id'].unique()\n",
    "        self.inbound_data, self.outbound_data = next_inbound_df, next_outbound_df\n",
    "        if self.display_progress: print(f\"Current time of the graph: {self.start_date} to {self.end_date}\") \n",
    "       \n",
    "\n",
    "    def print_network_information(self, given_network, print_network_time=False): \n",
    "        \"\"\"\n",
    "        Given a network, print out the information of the network\n",
    "        Args: \n",
    "            given_network (nx.MultiDiGraph): a network graph\n",
    "        Returns: N/A\n",
    "        \"\"\"\n",
    "        print(\"---------------------------------------------------------------------------------------------\") \n",
    "        print(given_network)\n",
    "        print(f\"Is the given network a DAG for load_network?: {nx.is_directed_acyclic_graph(given_network)}\")\n",
    "        print(f\"Number of self loops: {nx.number_of_selfloops(given_network)}\")\n",
    "        if print_network_time: print(f\"Current time of the graph: {given_network.graph['start_date']} to {given_network.graph['end_date']}\")\n",
    "        else: print(f\"Current time of the graph: {self.start_date} to {self.end_date}\")\n"
   ]
  },
  {
   "cell_type": "code",
   "execution_count": 10,
   "metadata": {},
   "outputs": [],
   "source": [
    "class CM_Finder():\n",
    "    def __init__(self, location_grouping='kma', origin_location_list=None, network = None):\n",
    "        self.network=network\n",
    "        self.processed_network=None\n",
    "        self.processed=False \n",
    "        self.origin_location_list=origin_location_list\n",
    "        self.match_failure = None\n",
    "        self.remove_failure = 0\n",
    "        self.location_grouping=location_grouping\n",
    "        \n",
    "    def group_to_DiGraph(self, display_progress = False):\n",
    "        \"\"\"\n",
    "        #TODO: explain why aggregate_faciility_zip then group_to_DiGraph (kma-> facility_zip -> kma to kma->kma->kma, aggregate to faciliy KMA)\n",
    "        Assuming that self.network is constructed, \n",
    "        sums the edge weights for edges with the same nodes in self.network variable and \n",
    "        stores the new graph with aggregated edges in self.processed_network variable and returns False if successful \n",
    "\n",
    "        Args:\n",
    "            display_progress (boolean): whether to display the progress of the function or not\n",
    "\n",
    "        NOTE) disregards temporal factor \n",
    "        \"\"\"\n",
    "        if not self.network: \n",
    "            print(\"Please construct the network first\")\n",
    "            return None \n",
    "            \n",
    "        new_name = self.network.name + \" reduced\"\n",
    "        self.processed_network = nx.DiGraph(name=new_name)\n",
    "        self.processed_network.add_nodes_from(self.network)\n",
    "\n",
    "        if display_progress: print(\"Aggregating nodes by KMA...\")\n",
    "        for n1, n2 in self.network.edges():\n",
    "            sum = 0 \n",
    "            for inner_dict in self.network.get_edge_data(n1, n2).values(): \n",
    "                sum += inner_dict['capacity']\n",
    "            self.processed_network.add_edge(n1, n2, capacity = sum)\n",
    "        \n",
    "        nx.set_edge_attributes(self.processed_network, to_integer(self.network.graph['end_date']), 'time')\n",
    "        self.processed = True"
   ]
  },
  {
   "cell_type": "code",
   "execution_count": 11,
   "metadata": {},
   "outputs": [],
   "source": [
    "class CM_Time(): \n",
    "    def __init__(self, location_grouping='kma', origin=None, facility_id=None, intermediate=None): \n",
    "        self.start_date=None\n",
    "        self.end_date=None\n",
    "        self.cm_network = None   \n",
    "        self.cm_finder = None\n",
    "        self.origin=origin\n",
    "        self.facility_id=facility_id\n",
    "        self.intermediate=intermediate\n",
    "        self.location_grouping = location_grouping\n",
    "        self.weekly_graphs = {}\n",
    "    \n",
    "    def update_dates(self): \n",
    "        \"\"\"\n",
    "        Updates the start and end date by 7 days\n",
    "        \"\"\" \n",
    "        self.start_date += timedelta(days=7)\n",
    "        self.end_date += timedelta(days=7)\n",
    "\n",
    "    def construct_or_update_tg(self, filter_key='load_count', display_progress=False, display_path_info=False):\n",
    "        \"\"\" \n",
    "        Either (1) creates a network graph given a start and end date \n",
    "            or (2) updates the network graph to the next week's graph \n",
    "\n",
    "        Args: \n",
    "            start_date, end_date: start & end date of the first two weeks of the simulation\n",
    "\n",
    "        Returns: n/a\n",
    "        \"\"\"        \n",
    "        # construct or update cm_finder.network \n",
    "        if not self.cm_network: \n",
    "            self.cm_network = temporalNetwork(self.start_date, self.end_date, display_progress, self.location_grouping, self.origin, self.facility_id, self.intermediate)\n",
    "            self.cm_network.construct_network_graph()\n",
    "            self.cm_finder = CM_Finder(location_grouping=self.location_grouping)\n",
    "        else: \n",
    "            self.cm_network.move_to_next_week()\n",
    "\n",
    "        self.cm_finder.origin_location_list = self.cm_network.origin_location_list\n",
    "        self.cm_finder.network = self.cm_network.network\n",
    "        \n",
    "        # self.cm_finder.group_to_DiGraph(display_progress = display_progress)\n",
    "        self.weekly_graphs[self.end_date] = self.cm_finder.network\n",
    "\n",
    "    def temporal_query(self, start_date, temporal=True, looback = 7, number_of_weeks=None, termination_date = None, \\\n",
    "                    filter_key = \"load_count\", display_progress=False, display_path_info = False): \n",
    "        \"\"\"\n",
    "        Given a start date, run the simulation for number_of_weeks or until termination_date is reached.\n",
    "\n",
    "        Args: \n",
    "            start_date: start date of the first week of the simulation\n",
    "            temporal: if True, run the simulation for every two weeks, if False, run the simulation from start_date until end_date\n",
    "            number_of_weeks: number of weeks to run the simulation for\n",
    "            termination_date: date to stop the simulation\n",
    "            filter_key: key to filter the network on (load_count or path_score)\n",
    "            display_progress: if True, display progress bar\n",
    "            display_path_info: if True, display path info\n",
    "\n",
    "        Returns: a dictionary of simulation result for each week\n",
    "            \n",
    "        Note:\n",
    "        * termination_date: termination date of the entire analysis, when end_date reaches termination_date, the query loop terminates,\n",
    "        * end_date: the end date of the two-week window, will be updated every week\n",
    "\n",
    "        - Once the parameters (location_grouping, origin, facility_id, intermediate) are used to initialise the cm_time class, \n",
    "          they will be used for any further analysis until new initialisation happens.\n",
    "          query_weekly method will only perform analysis, no alterations can be made by calling solely this.\n",
    "\n",
    "        - If temporal=True, --> end_date != termination_date, eventually at the end of simulations, end_date = termination_date\n",
    "            and number_of_weeks is given, end_date = start_date + 13 days for the first simulation, termination_date = start_date + 7 days * number_of_weeks\n",
    "            and termination_date is given, end_date = start_date + 13 days for the first simulation and termination_date=termination_date for the simulation\n",
    "          If temporal=False --> end_date = termination_date \n",
    "            and number_of_weeks is given, end_date = start_date + 7 days * number_of_weeks for the simulation \n",
    "            and termination_date is given, end_date=termination_date for the simulation\n",
    "\n",
    "        * simulation_results: a dictionary with key as the end_date and value as the simulation result\n",
    "        \"\"\"\n",
    "\n",
    "        # create information needed for a new query with the given start_date and number_of_weeks\n",
    "        # possible bug when end_date > termination_date.\n",
    "        if temporal: \n",
    "            self.start_date, self.end_date = start_date, start_date + timedelta(days=looback-1)\n",
    "\n",
    "            if number_of_weeks: termination_date = self.start_date + timedelta(days=7) * number_of_weeks\n",
    "            elif termination_date: termination_date = termination_date\n",
    "            else: raise Exception(\"Neither number of weeks nor termination date was given to set the simulation time period.\")\n",
    "        \n",
    "            # run simulation for every two weeks until termination_date\n",
    "            while self.end_date <= termination_date:    \n",
    "                self.construct_or_update_tg(filter_key=filter_key, \\\n",
    "                                    display_progress=display_progress, display_path_info=display_path_info)\n",
    "                self.update_dates() \n",
    "                \n",
    "        else: \n",
    "            if number_of_weeks: self.start_date, self.end_date = start_date, start_date + timedelta(days=7) * number_of_weeks\n",
    "            elif termination_date: self.start_date, self.end_date = start_date, termination_date\n",
    "            else: raise Exception(\"Neither number of weeks nor termination date was given to set the simulation time period.\")\n",
    "            self.run_single_simulation(filter_key=filter_key, \\\n",
    "                                display_progress=display_progress, display_path_info=display_path_info)\n",
    "\n",
    "        return self.weekly_graphs\n",
    "\n",
    "    def if_edge(node1, node2, curr_graph): \n",
    "        adjacency_matrix = curr_graph"
   ]
  },
  {
   "cell_type": "code",
   "execution_count": 12,
   "metadata": {},
   "outputs": [],
   "source": [
    "# k1, k2 = list(weekly_graphs.keys())[:2]\n",
    "# weekly_graphs[k1] == weekly_graphs[k2]"
   ]
  },
  {
   "cell_type": "code",
   "execution_count": 15,
   "metadata": {},
   "outputs": [],
   "source": [
    "cm_time = CM_Time(location_grouping = 'kma') \n",
    "weekly_kma_graphs = cm_time.temporal_query(start_date=datetime(2021,1,1).date(), looback=7, termination_date= datetime(2023,6, 1).date(), \\\n",
    "                    display_progress=False, display_path_info = False)"
   ]
  },
  {
   "cell_type": "code",
   "execution_count": 14,
   "metadata": {},
   "outputs": [],
   "source": [
    "cm_time = CM_Time(location_grouping = 'zip3') \n",
    "weekly_zip3_graphs = cm_time.temporal_query(start_date=datetime(2021,1,1).date(), looback=7, termination_date= datetime(2023,6, 1).date(), \\\n",
    "                    display_progress=False, display_path_info = False)"
   ]
  },
  {
   "cell_type": "markdown",
   "metadata": {},
   "source": [
    "# Link Prediction Algorithm"
   ]
  },
  {
   "cell_type": "code",
   "execution_count": 16,
   "metadata": {},
   "outputs": [],
   "source": [
    "def operator_l2(u, v):\n",
    "    return (u - v) ** 2\n",
    "\n",
    "def operator_sub(u, v):\n",
    "    return (u - v)\n",
    "\n",
    "binary_operator = operator_l2\n",
    "\n",
    "from sklearn.pipeline import Pipeline\n",
    "from sklearn.linear_model import LogisticRegressionCV\n",
    "from sklearn.metrics import roc_auc_score\n",
    "from sklearn.preprocessing import StandardScaler\n",
    "\n",
    "\n",
    "def edge_to_features(link_examples, transform_node):\n",
    "    return [\n",
    "        operator_l2(transform_node(src), transform_node(dst)) for src, dst in link_examples\n",
    "    ]\n",
    "\n",
    "def link_examples_to_features_sub(link_examples, transform_node):\n",
    "    return [\n",
    "        operator_sub(transform_node(src), transform_node(dst)) for src, dst in link_examples\n",
    "    ]\n",
    "\n",
    "def link_prediction_classifier(max_iter=2000):\n",
    "    lr_clf = LogisticRegressionCV(Cs=10, cv=10, scoring=\"roc_auc\", max_iter=max_iter, penalty=\"l2\") #, solver=\"liblinear\")\n",
    "    return Pipeline(steps=[(\"sc\", StandardScaler()), (\"clf\", lr_clf)])\n"
   ]
  },
  {
   "cell_type": "code",
   "execution_count": 17,
   "metadata": {},
   "outputs": [],
   "source": [
    "def temporal_model(graph, num_walks_per_node=10, walk_length = 10, context_window_size = 2): \n",
    "    num_cw = len(graph.nodes()) * num_walks_per_node * (walk_length - context_window_size + 1)\n",
    "    temporal_rw = TemporalRandomWalk(graph)\n",
    "    temporal_walks = temporal_rw.run(\n",
    "        num_cw=num_cw,\n",
    "        cw_size=context_window_size,\n",
    "        max_walk_length=walk_length,\n",
    "        walk_bias=\"exponential\",\n",
    "    )\n",
    "    \n",
    "    embedding_size = 128\n",
    "    temporal_model = Word2Vec(\n",
    "        temporal_walks,\n",
    "        vector_size=embedding_size,\n",
    "        window=context_window_size,\n",
    "        min_count=0,\n",
    "        sg=1,\n",
    "        workers=2,\n",
    "        epochs=1,)\n",
    "\n",
    "    unseen_node_embedding = np.zeros(embedding_size)\n",
    "\n",
    "    def temporal_embedding(u):\n",
    "        try:\n",
    "            return temporal_model.wv[u]\n",
    "        except KeyError:\n",
    "            return unseen_node_embedding\n",
    "    return temporal_embedding "
   ]
  },
  {
   "cell_type": "code",
   "execution_count": 18,
   "metadata": {},
   "outputs": [],
   "source": [
    "def data_split(graph, prediction_window_size=2, test_neg_size=None): \n",
    "    # identify first 5 & last 2 days' edges based on dates\n",
    "    edges, weights = np.array(graph.edges(include_edge_weight=True)[0]), np.array(graph.edges(include_edge_weight=True)[1])\n",
    "    lower_lim = sorted(list(set(weights)))[-prediction_window_size]\n",
    "    index_test, index_train = np.where(weights >= lower_lim)[0], np.where(weights < lower_lim)[0]\n",
    "\n",
    "    # create test & train edge sets\n",
    "    test_pos_edges, test_time_labels = edges[index_test], weights[index_test]\n",
    "    train_edges, train_time_labels = edges[index_train], weights[index_train]\n",
    "    # test_pos_edges_with_time_attribute = np.rec.fromarrays([test_pos_edges[:,0], test_pos_edges[:,1], test_time_labels])\n",
    "    train_edges_with_time_attribute = np.rec.fromarrays([train_edges[:,0], train_edges[:,1], train_time_labels])\n",
    "\n",
    "    # create test and train graph \n",
    "    train_graph = nx.MultiDiGraph()\n",
    "    train_graph.add_weighted_edges_from(train_edges_with_time_attribute,weight='time') \n",
    "\n",
    "    # create pos & neg edges for test graph \n",
    "    if not test_neg_size: \n",
    "        n = len(test_pos_edges) \n",
    "    else: \n",
    "        n = len(test_pos_edges) * test_neg_size\n",
    "    test_neg_edges = list(nx.non_edges(train_graph)) #take the first x number of non edges\n",
    "    test_pos_edges_tuple = [tuple(x) for x in test_pos_edges]\n",
    "    test_neg_edges = np.array(list(set(test_neg_edges) - set(test_pos_edges_tuple)))[:n]\n",
    "    test_edges = np.vstack((test_pos_edges, test_neg_edges))\n",
    "    test_labels = np.hstack((np.ones(len(test_pos_edges)), np.zeros(len(test_neg_edges))))\n",
    "    \n",
    "    ## create train & validating edge sets from train graph \n",
    "    train_graph = StellarGraph.from_networkx(train_graph, edge_weight_attr='time', edge_type_attr='directed')\n",
    "    edge_splitter_train = EdgeSplitter(train_graph, graph)\n",
    "    graph_train, examples, labels = edge_splitter_train.train_test_split(\n",
    "        p=0.1, method=\"global\"\n",
    "    )\n",
    "    return test_edges, test_labels, graph_train, examples, labels\n",
    "\n",
    "def random_walk_model(graph, num_walks_per_node=10, walk_length = 10, context_window_size = 2, temporal=True): \n",
    "    num_cw = len(graph.nodes()) * num_walks_per_node * (walk_length - context_window_size + 1)\n",
    "    if temporal: \n",
    "        rw_model = TemporalRandomWalk(graph)\n",
    "        walks = rw_model.run(\n",
    "        num_cw=num_cw,\n",
    "        cw_size=context_window_size,\n",
    "        max_walk_length=walk_length,\n",
    "        walk_bias=\"exponential\",\n",
    "        )\n",
    "\n",
    "    else: \n",
    "        rw_model = BiasedRandomWalk(graph)\n",
    "        walks = rw_model.run(\n",
    "        nodes=graph.nodes(), n=num_walks_per_node, length=walk_length\n",
    "        )\n",
    "    \n",
    "    embedding_size = 128\n",
    "    node_embedding = Word2Vec(\n",
    "        walks,\n",
    "        vector_size=embedding_size,\n",
    "        window=context_window_size,\n",
    "        min_count=0,\n",
    "        sg=1,\n",
    "        workers=2,\n",
    "        epochs=1,)\n",
    "\n",
    "    unseen_node_embedding = np.zeros(embedding_size)\n",
    "\n",
    "    def get_node_embedding(u):\n",
    "        try:\n",
    "            return node_embedding.wv[u]\n",
    "        except KeyError:\n",
    "            return unseen_node_embedding\n",
    "    return get_node_embedding "
   ]
  },
  {
   "cell_type": "code",
   "execution_count": 19,
   "metadata": {},
   "outputs": [],
   "source": [
    "from collections import defaultdict\n",
    "class WeeklyDecisionMaker():\n",
    "    def __init__(self, num_walks_per_node=10, walk_length = 10, context_window_size=2, expert_num=10):\n",
    "        # needed for temporal embedding\n",
    "        self.num_walks_per_node = num_walks_per_node\n",
    "        self.walk_length = walk_length\n",
    "        self.context_window_size = context_window_size\n",
    "\n",
    "        # weight optimization\n",
    "        self.naive_regret = 0\n",
    "        self.past_naive_regrets = defaultdict(list)\n",
    "        self.graph = None \n",
    "        self.expert_num = expert_num\n",
    "        self.hedge_total_regret = [0]\n",
    "        self.naive_total_regret = [0]\n",
    "\n",
    "        # record purposes \n",
    "        self.test_edges = []\n",
    "        self.test_edge_labels = []\n",
    "        # self.curr_false_positive_set = set()\n",
    "        self.train_scores = []\n",
    "        self.test_scores = []\n",
    "        self.predicted_probs = [] \n",
    "        self.weight_vectors= defaultdict(list)\n",
    "\n",
    "    def initialize_dictionaries(self, edge_tuple): \n",
    "        self.weight_vectors[edge_tuple] = [1/self.expert_num] * self.expert_num\n",
    "        \n",
    "    def fit_classifier(self, embeddings, labels):\n",
    "        temporal_clf = link_prediction_classifier()\n",
    "        temporal_clf.fit(embeddings, labels)\n",
    "        return temporal_clf\n",
    "\n",
    "    def evaluate_score(self, clf, link_features, link_labels, threshold= 0.5, return_idces=False):\n",
    "        self.predicted_probs = clf.predict_proba(link_features)\n",
    "        positive_column = list(clf.classes_).index(1)\n",
    "        if return_idces: \n",
    "            false_positive_idces = np.where((link_labels == 0) & (self.predicted_probs[:, positive_column] > threshold))[0]\n",
    "            # true_positive_idces = np.where((link_labels == 1) & (predicted[:, positive_column] > 0.5))[0]\n",
    "            return roc_auc_score(link_labels, self.predicted_probs[:, positive_column]), false_positive_idces #, true_positive_idces\n",
    "        return roc_auc_score(link_labels, self.predicted_probs[:, positive_column])\n",
    "\n",
    "    def update_curr_false_positive(self, new_edge_set, display_progress=False): \n",
    "        not_false_positive_anymore = self.curr_false_positive_set.intersection(new_edge_set)\n",
    "        if display_progress: print(f\"Not false positive anymore: {len(not_false_positive_anymore)}\")\n",
    "        if not_false_positive_anymore: \n",
    "            self.naive_regret -= len(not_false_positive_anymore)\n",
    "            self.curr_false_positive_set = self.curr_false_positive_set - not_false_positive_anymore\n",
    "            if display_progress: print(f\"New Reduced Regret: {len(self.curr_false_positive_set)}\")            \n",
    "\n",
    "    def predict_probs(self, graph, display_progress=False, temporal=True): \n",
    "        # update regret by checking if they are in the new graph just given  \n",
    "        # self.update_curr_false_positive(set(graph.edges()), display_progress=display_progress)\n",
    "\n",
    "        # convert networkx graph to stellargraph & split data\n",
    "        graph = StellarGraph.from_networkx(graph, edge_weight_attr='time', edge_type_attr='directed')\n",
    "        links_test, labels_test, train_graph, links_validate, labels_validate = data_split(graph)\n",
    "        self.test_edges, self.test_edge_labels = links_test, labels_test\n",
    "\n",
    "        # fit & learn \n",
    "        node_embedding = random_walk_model(train_graph, \n",
    "                            num_walks_per_node=self.num_walks_per_node, walk_length=self.walk_length, \\\n",
    "                            context_window_size=self.context_window_size, temporal= temporal)\n",
    "        edge_embedding_train = edge_to_features(links_validate, node_embedding)\n",
    "        fitted_classifier = self.fit_classifier(edge_embedding_train, labels_validate) #fit classifier\n",
    "        train_score = self.evaluate_score(fitted_classifier, edge_embedding_train, labels_validate)\n",
    "        self.train_scores.append(train_score)\n",
    "\n",
    "        # compute probability of potential edges  \n",
    "        edge_embedding_test = edge_to_features(links_test, node_embedding)       \n",
    "        test_score, false_positive_idces = self.evaluate_score(fitted_classifier, edge_embedding_test, labels_test, return_idces=True)\n",
    "        self.test_scores.append(test_score)\n",
    "        if display_progress: print(f\"Temporal Test Score (ROC AUC): {test_score:.2f}\")\n",
    "        \n",
    "    def optimize_weights_for_edge(self, learning_rate=0.1, leader_thresholds = np.arange(0.1, 1.1, 0.1)): \n",
    "        self.hedge_total_regret.append(self.hedge_total_regret[-1])\n",
    "        self.naive_total_regret.append(self.naive_total_regret[-1])\n",
    "\n",
    "        # update regret for all test edges, keep track of weight vectors per edge \n",
    "        for edge_index, edge in enumerate(self.test_edges): \n",
    "            edge_tuple = tuple(edge)\n",
    "            if edge_tuple not in self.weight_vectors.keys(): \n",
    "                self.initialize_dictionaries(edge_tuple)\n",
    "            edge_existence = self.test_edge_labels[edge_index]\n",
    "            edge_existence_prob = self.predicted_probs[edge_index,1] \n",
    "            self.hedge_per_edge(edge_tuple, edge_existence_prob, edge_existence, learning_rate, leader_thresholds)\n",
    "\n",
    "    def hedge_per_edge(self, edge_tuple, edge_existence_prob, edge_existence, learning_rate = 0.1, leader_thresholds = np.arange(0.1, 1.1, 0.1)):\n",
    "        wait_leaders = [1 if edge_existence_prob > threshold else 0 for threshold in leader_thresholds]\n",
    "        not_wait_leaders = [1 if edge_existence_prob < threshold else 0 for threshold in leader_thresholds]\n",
    "        weight_vector = self.weight_vectors[edge_tuple]\n",
    "\n",
    "        # make decision based on each leader's recommendation & weight vector\n",
    "        final_wait_decision = True if np.dot(wait_leaders, weight_vector) > np.dot(not_wait_leaders, weight_vector) else False \n",
    "        naive_decision = True if edge_existence_prob > 0.5 else False\n",
    "\n",
    "        # record regret by checking if they are in the new graph & update weight \n",
    "        leader_made_wrong_decision = [1 if wait_decision != edge_existence  else 0 for wait_decision in wait_leaders]\n",
    "        loss = 0\n",
    "        if final_wait_decision != edge_existence:\n",
    "            if final_wait_decision == 1: \n",
    "                loss = 3 #false positive treated most harshly \n",
    "            else: loss = 1 #false negative treated less harshly\n",
    "        else: \n",
    "            leader_made_wrong_decision = [-1 * wrong_decision for wrong_decision in leader_made_wrong_decision]\n",
    "            if final_wait_decision == 1: \n",
    "                loss = -2 #true positive rewarded most  \n",
    "            else: loss = -1 #true negative rewarded second most\n",
    "\n",
    "        weight_vector = [weight_i * np.exp(-learning_rate * loss * wrong_decision) for wrong_decision, weight_i in zip(leader_made_wrong_decision, weight_vector)]        \n",
    "        weight_vector = weight_vector/ np.sum(weight_vector) # renormalize weight_vector \n",
    "        self.weight_vectors[edge_tuple] = weight_vector\n",
    "        self.hedge_total_regret[-1] += loss\n",
    "        \n",
    "        # update naive regret \n",
    "        curr_naive_loss = 0\n",
    "        if naive_decision != edge_existence: \n",
    "            if final_wait_decision == 1: \n",
    "                curr_naive_loss = 3 #false positive treated most harshly \n",
    "            else: curr_naive_loss = 1 #false negative treated less harshly\n",
    "        else: \n",
    "            if naive_decision == 1: \n",
    "                curr_naive_loss = -2 #true positive rewarded most\n",
    "            else: curr_naive_loss = -1 #true negative rewarded second most\n",
    "\n",
    "        self.naive_total_regret[-1] += curr_naive_loss\n",
    "\n",
    "    def run_expert_simulation(self, graph, learning_rate=0.1, temporal=True, display_progress=False):\n",
    "        self.predict_probs(graph, display_progress=display_progress, temporal=temporal)\n",
    "        self.optimize_weights_for_edge(learning_rate=learning_rate)\n",
    "        if display_progress: self.print_info_given_week(graph.graph['end_date'])\n",
    "        \n",
    "    def print_info_given_week(self, curr_time): \n",
    "        print(\"--------------------------------------------------\")\n",
    "        print(f\"Current Week: {curr_time}\")\n",
    "        # print(f\"training error: {np.round(self.train_errors[-1],2)}, test error: {np.round(self.test_errors[-1],2)}\")\n",
    "        print(f\"Total Number of Test Edges: {len(self.test_edges)}\")\n",
    "        print(f\"Current Expert Regret: { self.hedge_total_regret[-1]}\")\n",
    "        print(f\"Current Naive Regret: {self.naive_total_regret[-1]}\")\n",
    "        print(\"--------------------------------------------------\")\n",
    "\n",
    "    def graph_train_test_errors(self, time_range, graph_errors = True, graph_regret = False, title=None): \n",
    "        n = min(len(self.train_errors), len(self.test_errors))\n",
    "        if title: plt.title(title)\n",
    "        if graph_errors: \n",
    "            # plt.plot(time_range[:n], self.train_errors[:n], label='train')\n",
    "            plt.plot(time_range[:n], self.test_errors[:n], label='test')\n",
    "        if graph_regret: \n",
    "            plt.plot(time_range[:n], self.curr_regret[:n], label='regret')\n",
    "        plt.legend() \n",
    "        plt.tight_layout()\n",
    "        plt.show()\n"
   ]
  },
  {
   "cell_type": "markdown",
   "metadata": {},
   "source": [
    "1. given a route, are we doing this? \n",
    "2. or are we doing this for the entire graph? \n",
    "\n",
    "Since we are making the prediction on all potential edges for a graph, how would we do this..?"
   ]
  },
  {
   "cell_type": "code",
   "execution_count": 20,
   "metadata": {},
   "outputs": [
    {
     "name": "stderr",
     "output_type": "stream",
     "text": [
      "  0%|          | 0/126 [00:00<?, ?it/s]"
     ]
    },
    {
     "name": "stdout",
     "output_type": "stream",
     "text": [
      "** Sampled 336 positive and 336 negative edges. **\n"
     ]
    },
    {
     "name": "stderr",
     "output_type": "stream",
     "text": [
      "  1%|          | 1/126 [00:11<23:07, 11.10s/it]"
     ]
    },
    {
     "name": "stdout",
     "output_type": "stream",
     "text": [
      "Temporal Test Score (ROC AUC): 0.85\n",
      "--------------------------------------------------\n",
      "Current Week: 2021-01-07\n",
      "Total Number of Test Edges: 2666\n",
      "Current Expert Regret: -1475\n",
      "Current Naive Regret: -2008\n",
      "--------------------------------------------------\n",
      "** Sampled 474 positive and 474 negative edges. **\n"
     ]
    },
    {
     "name": "stderr",
     "output_type": "stream",
     "text": [
      "  2%|▏         | 2/126 [00:21<22:03, 10.67s/it]"
     ]
    },
    {
     "name": "stdout",
     "output_type": "stream",
     "text": [
      "Temporal Test Score (ROC AUC): 0.82\n",
      "--------------------------------------------------\n",
      "Current Week: 2021-01-14\n",
      "Total Number of Test Edges: 2508\n",
      "Current Expert Regret: -3106\n",
      "Current Naive Regret: -3724\n",
      "--------------------------------------------------\n",
      "** Sampled 352 positive and 352 negative edges. **\n"
     ]
    },
    {
     "name": "stderr",
     "output_type": "stream",
     "text": [
      "  2%|▏         | 3/126 [00:32<22:09, 10.81s/it]"
     ]
    },
    {
     "name": "stdout",
     "output_type": "stream",
     "text": [
      "Temporal Test Score (ROC AUC): 0.83\n",
      "--------------------------------------------------\n",
      "Current Week: 2021-01-21\n",
      "Total Number of Test Edges: 5422\n",
      "Current Expert Regret: -7336\n",
      "Current Naive Regret: -7975\n",
      "--------------------------------------------------\n",
      "** Sampled 355 positive and 355 negative edges. **\n"
     ]
    },
    {
     "name": "stderr",
     "output_type": "stream",
     "text": [
      "  3%|▎         | 4/126 [00:44<22:40, 11.16s/it]"
     ]
    },
    {
     "name": "stdout",
     "output_type": "stream",
     "text": [
      "Temporal Test Score (ROC AUC): 0.81\n",
      "--------------------------------------------------\n",
      "Current Week: 2021-01-28\n",
      "Total Number of Test Edges: 5136\n",
      "Current Expert Regret: -11031\n",
      "Current Naive Regret: -11413\n",
      "--------------------------------------------------\n",
      "** Sampled 328 positive and 328 negative edges. **\n"
     ]
    },
    {
     "name": "stderr",
     "output_type": "stream",
     "text": [
      "  4%|▍         | 5/126 [00:54<22:10, 11.00s/it]"
     ]
    },
    {
     "name": "stdout",
     "output_type": "stream",
     "text": [
      "Temporal Test Score (ROC AUC): 0.82\n",
      "--------------------------------------------------\n",
      "Current Week: 2021-02-04\n",
      "Total Number of Test Edges: 4950\n",
      "Current Expert Regret: -14961\n",
      "Current Naive Regret: -14657\n",
      "--------------------------------------------------\n",
      "** Sampled 492 positive and 492 negative edges. **\n"
     ]
    },
    {
     "name": "stderr",
     "output_type": "stream",
     "text": [
      "  5%|▍         | 6/126 [01:06<22:32, 11.27s/it]"
     ]
    },
    {
     "name": "stdout",
     "output_type": "stream",
     "text": [
      "Temporal Test Score (ROC AUC): 0.82\n",
      "--------------------------------------------------\n",
      "Current Week: 2021-02-11\n",
      "Total Number of Test Edges: 2576\n",
      "Current Expert Regret: -17036\n",
      "Current Naive Regret: -16493\n",
      "--------------------------------------------------\n",
      "** Sampled 402 positive and 402 negative edges. **\n"
     ]
    },
    {
     "name": "stderr",
     "output_type": "stream",
     "text": [
      "  6%|▌         | 7/126 [01:16<21:41, 10.94s/it]"
     ]
    },
    {
     "name": "stdout",
     "output_type": "stream",
     "text": [
      "Temporal Test Score (ROC AUC): 0.82\n",
      "--------------------------------------------------\n",
      "Current Week: 2021-02-18\n",
      "Total Number of Test Edges: 1920\n",
      "Current Expert Regret: -18652\n",
      "Current Naive Regret: -17807\n",
      "--------------------------------------------------\n",
      "** Sampled 491 positive and 491 negative edges. **\n"
     ]
    },
    {
     "name": "stderr",
     "output_type": "stream",
     "text": [
      "  6%|▋         | 8/126 [01:28<21:42, 11.04s/it]"
     ]
    },
    {
     "name": "stdout",
     "output_type": "stream",
     "text": [
      "Temporal Test Score (ROC AUC): 0.83\n",
      "--------------------------------------------------\n",
      "Current Week: 2021-02-25\n",
      "Total Number of Test Edges: 2868\n",
      "Current Expert Regret: -21130\n",
      "Current Naive Regret: -19790\n",
      "--------------------------------------------------\n",
      "** Sampled 506 positive and 506 negative edges. **\n"
     ]
    },
    {
     "name": "stderr",
     "output_type": "stream",
     "text": [
      "  7%|▋         | 9/126 [01:38<21:21, 10.95s/it]"
     ]
    },
    {
     "name": "stdout",
     "output_type": "stream",
     "text": [
      "Temporal Test Score (ROC AUC): 0.82\n",
      "--------------------------------------------------\n",
      "Current Week: 2021-03-04\n",
      "Total Number of Test Edges: 2692\n",
      "Current Expert Regret: -23539\n",
      "Current Naive Regret: -21792\n",
      "--------------------------------------------------\n",
      "** Sampled 488 positive and 488 negative edges. **\n"
     ]
    },
    {
     "name": "stderr",
     "output_type": "stream",
     "text": [
      "  8%|▊         | 10/126 [01:49<21:01, 10.88s/it]"
     ]
    },
    {
     "name": "stdout",
     "output_type": "stream",
     "text": [
      "Temporal Test Score (ROC AUC): 0.82\n",
      "--------------------------------------------------\n",
      "Current Week: 2021-03-11\n",
      "Total Number of Test Edges: 2800\n",
      "Current Expert Regret: -26052\n",
      "Current Naive Regret: -23813\n",
      "--------------------------------------------------\n",
      "** Sampled 491 positive and 491 negative edges. **\n"
     ]
    },
    {
     "name": "stderr",
     "output_type": "stream",
     "text": [
      "  9%|▊         | 11/126 [02:00<20:41, 10.80s/it]"
     ]
    },
    {
     "name": "stdout",
     "output_type": "stream",
     "text": [
      "Temporal Test Score (ROC AUC): 0.82\n",
      "--------------------------------------------------\n",
      "Current Week: 2021-03-18\n",
      "Total Number of Test Edges: 2910\n",
      "Current Expert Regret: -28810\n",
      "Current Naive Regret: -25875\n",
      "--------------------------------------------------\n",
      "** Sampled 516 positive and 516 negative edges. **\n"
     ]
    },
    {
     "name": "stderr",
     "output_type": "stream",
     "text": [
      " 10%|▉         | 12/126 [02:10<20:24, 10.74s/it]"
     ]
    },
    {
     "name": "stdout",
     "output_type": "stream",
     "text": [
      "Temporal Test Score (ROC AUC): 0.82\n",
      "--------------------------------------------------\n",
      "Current Week: 2021-03-25\n",
      "Total Number of Test Edges: 2760\n",
      "Current Expert Regret: -31552\n",
      "Current Naive Regret: -27687\n",
      "--------------------------------------------------\n",
      "** Sampled 362 positive and 362 negative edges. **\n"
     ]
    },
    {
     "name": "stderr",
     "output_type": "stream",
     "text": [
      " 10%|█         | 13/126 [02:20<19:48, 10.51s/it]"
     ]
    },
    {
     "name": "stdout",
     "output_type": "stream",
     "text": [
      "Temporal Test Score (ROC AUC): 0.82\n",
      "--------------------------------------------------\n",
      "Current Week: 2021-04-01\n",
      "Total Number of Test Edges: 5430\n",
      "Current Expert Regret: -37595\n",
      "Current Naive Regret: -30609\n",
      "--------------------------------------------------\n",
      "** Sampled 478 positive and 478 negative edges. **\n"
     ]
    },
    {
     "name": "stderr",
     "output_type": "stream",
     "text": [
      " 11%|█         | 14/126 [02:31<19:53, 10.66s/it]"
     ]
    },
    {
     "name": "stdout",
     "output_type": "stream",
     "text": [
      "Temporal Test Score (ROC AUC): 0.81\n",
      "--------------------------------------------------\n",
      "Current Week: 2021-04-08\n",
      "Total Number of Test Edges: 2752\n",
      "Current Expert Regret: -40336\n",
      "Current Naive Regret: -32399\n",
      "--------------------------------------------------\n",
      "** Sampled 497 positive and 497 negative edges. **\n"
     ]
    },
    {
     "name": "stderr",
     "output_type": "stream",
     "text": [
      " 12%|█▏        | 15/126 [02:42<19:44, 10.67s/it]"
     ]
    },
    {
     "name": "stdout",
     "output_type": "stream",
     "text": [
      "Temporal Test Score (ROC AUC): 0.82\n",
      "--------------------------------------------------\n",
      "Current Week: 2021-04-15\n",
      "Total Number of Test Edges: 2712\n",
      "Current Expert Regret: -43062\n",
      "Current Naive Regret: -34258\n",
      "--------------------------------------------------\n",
      "** Sampled 344 positive and 344 negative edges. **\n"
     ]
    },
    {
     "name": "stderr",
     "output_type": "stream",
     "text": [
      " 13%|█▎        | 16/126 [02:52<19:21, 10.56s/it]"
     ]
    },
    {
     "name": "stdout",
     "output_type": "stream",
     "text": [
      "Temporal Test Score (ROC AUC): 0.84\n",
      "--------------------------------------------------\n",
      "Current Week: 2021-04-22\n",
      "Total Number of Test Edges: 5444\n",
      "Current Expert Regret: -48927\n",
      "Current Naive Regret: -37756\n",
      "--------------------------------------------------\n",
      "** Sampled 345 positive and 345 negative edges. **\n"
     ]
    },
    {
     "name": "stderr",
     "output_type": "stream",
     "text": [
      " 13%|█▎        | 17/126 [03:03<19:03, 10.49s/it]"
     ]
    },
    {
     "name": "stdout",
     "output_type": "stream",
     "text": [
      "Temporal Test Score (ROC AUC): 0.83\n",
      "--------------------------------------------------\n",
      "Current Week: 2021-04-29\n",
      "Total Number of Test Edges: 5504\n",
      "Current Expert Regret: -55120\n",
      "Current Naive Regret: -41058\n",
      "--------------------------------------------------\n",
      "** Sampled 467 positive and 467 negative edges. **\n"
     ]
    },
    {
     "name": "stderr",
     "output_type": "stream",
     "text": [
      " 14%|█▍        | 18/126 [03:13<18:37, 10.34s/it]"
     ]
    },
    {
     "name": "stdout",
     "output_type": "stream",
     "text": [
      "Temporal Test Score (ROC AUC): 0.82\n",
      "--------------------------------------------------\n",
      "Current Week: 2021-05-06\n",
      "Total Number of Test Edges: 2726\n",
      "Current Expert Regret: -58218\n",
      "Current Naive Regret: -42903\n",
      "--------------------------------------------------\n",
      "** Sampled 474 positive and 474 negative edges. **\n"
     ]
    },
    {
     "name": "stderr",
     "output_type": "stream",
     "text": [
      " 15%|█▌        | 19/126 [03:23<18:28, 10.36s/it]"
     ]
    },
    {
     "name": "stdout",
     "output_type": "stream",
     "text": [
      "Temporal Test Score (ROC AUC): 0.83\n",
      "--------------------------------------------------\n",
      "Current Week: 2021-05-13\n",
      "Total Number of Test Edges: 2622\n",
      "Current Expert Regret: -61399\n",
      "Current Naive Regret: -44550\n",
      "--------------------------------------------------\n",
      "** Sampled 475 positive and 475 negative edges. **\n"
     ]
    },
    {
     "name": "stderr",
     "output_type": "stream",
     "text": [
      " 16%|█▌        | 20/126 [03:34<18:27, 10.44s/it]"
     ]
    },
    {
     "name": "stdout",
     "output_type": "stream",
     "text": [
      "Temporal Test Score (ROC AUC): 0.81\n",
      "--------------------------------------------------\n",
      "Current Week: 2021-05-20\n",
      "Total Number of Test Edges: 2764\n",
      "Current Expert Regret: -64647\n",
      "Current Naive Regret: -46312\n",
      "--------------------------------------------------\n",
      "** Sampled 340 positive and 340 negative edges. **\n"
     ]
    },
    {
     "name": "stderr",
     "output_type": "stream",
     "text": [
      " 17%|█▋        | 21/126 [03:44<18:05, 10.34s/it]"
     ]
    },
    {
     "name": "stdout",
     "output_type": "stream",
     "text": [
      "Temporal Test Score (ROC AUC): 0.82\n",
      "--------------------------------------------------\n",
      "Current Week: 2021-05-27\n",
      "Total Number of Test Edges: 5552\n",
      "Current Expert Regret: -71532\n",
      "Current Naive Regret: -49479\n",
      "--------------------------------------------------\n",
      "** Sampled 205 positive and 205 negative edges. **\n"
     ]
    },
    {
     "name": "stderr",
     "output_type": "stream",
     "text": [
      "/Users/yko/Documents/Temporal-Link-Prediction/venv/lib/python3.8/site-packages/sklearn/linear_model/_logistic.py:460: ConvergenceWarning: lbfgs failed to converge (status=1):\n",
      "STOP: TOTAL NO. of ITERATIONS REACHED LIMIT.\n",
      "\n",
      "Increase the number of iterations (max_iter) or scale the data as shown in:\n",
      "    https://scikit-learn.org/stable/modules/preprocessing.html\n",
      "Please also refer to the documentation for alternative solver options:\n",
      "    https://scikit-learn.org/stable/modules/linear_model.html#logistic-regression\n",
      "  n_iter_i = _check_optimize_result(\n",
      "/Users/yko/Documents/Temporal-Link-Prediction/venv/lib/python3.8/site-packages/sklearn/linear_model/_logistic.py:460: ConvergenceWarning: lbfgs failed to converge (status=1):\n",
      "STOP: TOTAL NO. of ITERATIONS REACHED LIMIT.\n",
      "\n",
      "Increase the number of iterations (max_iter) or scale the data as shown in:\n",
      "    https://scikit-learn.org/stable/modules/preprocessing.html\n",
      "Please also refer to the documentation for alternative solver options:\n",
      "    https://scikit-learn.org/stable/modules/linear_model.html#logistic-regression\n",
      "  n_iter_i = _check_optimize_result(\n",
      " 17%|█▋        | 22/126 [03:57<19:13, 11.09s/it]"
     ]
    },
    {
     "name": "stdout",
     "output_type": "stream",
     "text": [
      "Temporal Test Score (ROC AUC): 0.79\n",
      "--------------------------------------------------\n",
      "Current Week: 2021-06-03\n",
      "Total Number of Test Edges: 5514\n",
      "Current Expert Regret: -78355\n",
      "Current Naive Regret: -51435\n",
      "--------------------------------------------------\n",
      "** Sampled 328 positive and 328 negative edges. **\n"
     ]
    },
    {
     "name": "stderr",
     "output_type": "stream",
     "text": [
      " 18%|█▊        | 23/126 [04:08<19:12, 11.19s/it]"
     ]
    },
    {
     "name": "stdout",
     "output_type": "stream",
     "text": [
      "Temporal Test Score (ROC AUC): 0.83\n",
      "--------------------------------------------------\n",
      "Current Week: 2021-06-10\n",
      "Total Number of Test Edges: 5302\n",
      "Current Expert Regret: -84610\n",
      "Current Naive Regret: -54708\n",
      "--------------------------------------------------\n",
      "** Sampled 327 positive and 327 negative edges. **\n"
     ]
    },
    {
     "name": "stderr",
     "output_type": "stream",
     "text": [
      " 19%|█▉        | 24/126 [04:18<18:26, 10.84s/it]"
     ]
    },
    {
     "name": "stdout",
     "output_type": "stream",
     "text": [
      "Temporal Test Score (ROC AUC): 0.83\n",
      "--------------------------------------------------\n",
      "Current Week: 2021-06-17\n",
      "Total Number of Test Edges: 5496\n",
      "Current Expert Regret: -91720\n",
      "Current Naive Regret: -57775\n",
      "--------------------------------------------------\n",
      "** Sampled 468 positive and 468 negative edges. **\n"
     ]
    },
    {
     "name": "stderr",
     "output_type": "stream",
     "text": [
      " 20%|█▉        | 25/126 [04:29<18:04, 10.74s/it]"
     ]
    },
    {
     "name": "stdout",
     "output_type": "stream",
     "text": [
      "Temporal Test Score (ROC AUC): 0.81\n",
      "--------------------------------------------------\n",
      "Current Week: 2021-06-24\n",
      "Total Number of Test Edges: 2854\n",
      "Current Expert Regret: -95098\n",
      "Current Naive Regret: -59433\n",
      "--------------------------------------------------\n",
      "** Sampled 500 positive and 500 negative edges. **\n"
     ]
    },
    {
     "name": "stderr",
     "output_type": "stream",
     "text": [
      " 21%|██        | 26/126 [04:39<17:39, 10.60s/it]"
     ]
    },
    {
     "name": "stdout",
     "output_type": "stream",
     "text": [
      "Temporal Test Score (ROC AUC): 0.80\n",
      "--------------------------------------------------\n",
      "Current Week: 2021-07-01\n",
      "Total Number of Test Edges: 2746\n",
      "Current Expert Regret: -98489\n",
      "Current Naive Regret: -60957\n",
      "--------------------------------------------------\n",
      "** Sampled 338 positive and 338 negative edges. **\n"
     ]
    },
    {
     "name": "stderr",
     "output_type": "stream",
     "text": [
      " 21%|██▏       | 27/126 [04:49<17:22, 10.53s/it]"
     ]
    },
    {
     "name": "stdout",
     "output_type": "stream",
     "text": [
      "Temporal Test Score (ROC AUC): 0.81\n",
      "--------------------------------------------------\n",
      "Current Week: 2021-07-08\n",
      "Total Number of Test Edges: 2986\n",
      "Current Expert Regret: -102266\n",
      "Current Naive Regret: -62668\n",
      "--------------------------------------------------\n",
      "** Sampled 506 positive and 506 negative edges. **\n"
     ]
    },
    {
     "name": "stderr",
     "output_type": "stream",
     "text": [
      " 22%|██▏       | 28/126 [05:00<17:14, 10.55s/it]"
     ]
    },
    {
     "name": "stdout",
     "output_type": "stream",
     "text": [
      "Temporal Test Score (ROC AUC): 0.84\n",
      "--------------------------------------------------\n",
      "Current Week: 2021-07-15\n",
      "Total Number of Test Edges: 2728\n",
      "Current Expert Regret: -105747\n",
      "Current Naive Regret: -64713\n",
      "--------------------------------------------------\n",
      "** Sampled 493 positive and 493 negative edges. **\n"
     ]
    },
    {
     "name": "stderr",
     "output_type": "stream",
     "text": [
      " 23%|██▎       | 29/126 [05:10<16:52, 10.44s/it]"
     ]
    },
    {
     "name": "stdout",
     "output_type": "stream",
     "text": [
      "Temporal Test Score (ROC AUC): 0.81\n",
      "--------------------------------------------------\n",
      "Current Week: 2021-07-22\n",
      "Total Number of Test Edges: 2790\n",
      "Current Expert Regret: -109110\n",
      "Current Naive Regret: -66489\n",
      "--------------------------------------------------\n",
      "** Sampled 492 positive and 492 negative edges. **\n"
     ]
    },
    {
     "name": "stderr",
     "output_type": "stream",
     "text": [
      " 24%|██▍       | 30/126 [05:21<16:55, 10.58s/it]"
     ]
    },
    {
     "name": "stdout",
     "output_type": "stream",
     "text": [
      "Temporal Test Score (ROC AUC): 0.81\n",
      "--------------------------------------------------\n",
      "Current Week: 2021-07-29\n",
      "Total Number of Test Edges: 2788\n",
      "Current Expert Regret: -112573\n",
      "Current Naive Regret: -68181\n",
      "--------------------------------------------------\n",
      "** Sampled 486 positive and 486 negative edges. **\n"
     ]
    },
    {
     "name": "stderr",
     "output_type": "stream",
     "text": [
      " 25%|██▍       | 31/126 [05:32<16:46, 10.59s/it]"
     ]
    },
    {
     "name": "stdout",
     "output_type": "stream",
     "text": [
      "Temporal Test Score (ROC AUC): 0.80\n",
      "--------------------------------------------------\n",
      "Current Week: 2021-08-05\n",
      "Total Number of Test Edges: 2800\n",
      "Current Expert Regret: -116011\n",
      "Current Naive Regret: -69613\n",
      "--------------------------------------------------\n",
      "** Sampled 352 positive and 352 negative edges. **\n"
     ]
    },
    {
     "name": "stderr",
     "output_type": "stream",
     "text": [
      " 25%|██▌       | 32/126 [05:43<16:47, 10.72s/it]"
     ]
    },
    {
     "name": "stdout",
     "output_type": "stream",
     "text": [
      "Temporal Test Score (ROC AUC): 0.82\n",
      "--------------------------------------------------\n",
      "Current Week: 2021-08-12\n",
      "Total Number of Test Edges: 5380\n",
      "Current Expert Regret: -122250\n",
      "Current Naive Regret: -72903\n",
      "--------------------------------------------------\n",
      "** Sampled 357 positive and 357 negative edges. **\n"
     ]
    },
    {
     "name": "stderr",
     "output_type": "stream",
     "text": [
      " 26%|██▌       | 33/126 [05:53<16:20, 10.55s/it]"
     ]
    },
    {
     "name": "stdout",
     "output_type": "stream",
     "text": [
      "Temporal Test Score (ROC AUC): 0.82\n",
      "--------------------------------------------------\n",
      "Current Week: 2021-08-19\n",
      "Total Number of Test Edges: 5650\n",
      "Current Expert Regret: -129321\n",
      "Current Naive Regret: -76171\n",
      "--------------------------------------------------\n",
      "** Sampled 497 positive and 497 negative edges. **\n"
     ]
    },
    {
     "name": "stderr",
     "output_type": "stream",
     "text": [
      " 27%|██▋       | 34/126 [06:03<16:13, 10.59s/it]"
     ]
    },
    {
     "name": "stdout",
     "output_type": "stream",
     "text": [
      "Temporal Test Score (ROC AUC): 0.82\n",
      "--------------------------------------------------\n",
      "Current Week: 2021-08-26\n",
      "Total Number of Test Edges: 2722\n",
      "Current Expert Regret: -132855\n",
      "Current Naive Regret: -77815\n",
      "--------------------------------------------------\n",
      "** Sampled 486 positive and 486 negative edges. **\n"
     ]
    },
    {
     "name": "stderr",
     "output_type": "stream",
     "text": [
      " 28%|██▊       | 35/126 [06:14<16:04, 10.60s/it]"
     ]
    },
    {
     "name": "stdout",
     "output_type": "stream",
     "text": [
      "Temporal Test Score (ROC AUC): 0.82\n",
      "--------------------------------------------------\n",
      "Current Week: 2021-09-02\n",
      "Total Number of Test Edges: 2668\n",
      "Current Expert Regret: -136164\n",
      "Current Naive Regret: -79570\n",
      "--------------------------------------------------\n",
      "** Sampled 363 positive and 363 negative edges. **\n"
     ]
    },
    {
     "name": "stderr",
     "output_type": "stream",
     "text": [
      " 29%|██▊       | 36/126 [06:24<15:44, 10.50s/it]"
     ]
    },
    {
     "name": "stdout",
     "output_type": "stream",
     "text": [
      "Temporal Test Score (ROC AUC): 0.81\n",
      "--------------------------------------------------\n",
      "Current Week: 2021-09-09\n",
      "Total Number of Test Edges: 2936\n",
      "Current Expert Regret: -139918\n",
      "Current Naive Regret: -81136\n",
      "--------------------------------------------------\n",
      "** Sampled 506 positive and 506 negative edges. **\n"
     ]
    },
    {
     "name": "stderr",
     "output_type": "stream",
     "text": [
      " 29%|██▉       | 37/126 [06:35<15:38, 10.55s/it]"
     ]
    },
    {
     "name": "stdout",
     "output_type": "stream",
     "text": [
      "Temporal Test Score (ROC AUC): 0.82\n",
      "--------------------------------------------------\n",
      "Current Week: 2021-09-16\n",
      "Total Number of Test Edges: 2724\n",
      "Current Expert Regret: -143346\n",
      "Current Naive Regret: -82997\n",
      "--------------------------------------------------\n",
      "** Sampled 339 positive and 339 negative edges. **\n"
     ]
    },
    {
     "name": "stderr",
     "output_type": "stream",
     "text": [
      " 30%|███       | 38/126 [06:45<15:07, 10.31s/it]"
     ]
    },
    {
     "name": "stdout",
     "output_type": "stream",
     "text": [
      "Temporal Test Score (ROC AUC): 0.83\n",
      "--------------------------------------------------\n",
      "Current Week: 2021-09-23\n",
      "Total Number of Test Edges: 5750\n",
      "Current Expert Regret: -150559\n",
      "Current Naive Regret: -86256\n",
      "--------------------------------------------------\n",
      "** Sampled 498 positive and 498 negative edges. **\n"
     ]
    },
    {
     "name": "stderr",
     "output_type": "stream",
     "text": [
      " 31%|███       | 39/126 [06:55<14:57, 10.32s/it]"
     ]
    },
    {
     "name": "stdout",
     "output_type": "stream",
     "text": [
      "Temporal Test Score (ROC AUC): 0.82\n",
      "--------------------------------------------------\n",
      "Current Week: 2021-09-30\n",
      "Total Number of Test Edges: 2776\n",
      "Current Expert Regret: -153931\n",
      "Current Naive Regret: -88065\n",
      "--------------------------------------------------\n",
      "** Sampled 505 positive and 505 negative edges. **\n"
     ]
    },
    {
     "name": "stderr",
     "output_type": "stream",
     "text": [
      " 32%|███▏      | 40/126 [07:05<14:47, 10.32s/it]"
     ]
    },
    {
     "name": "stdout",
     "output_type": "stream",
     "text": [
      "Temporal Test Score (ROC AUC): 0.80\n",
      "--------------------------------------------------\n",
      "Current Week: 2021-10-07\n",
      "Total Number of Test Edges: 2752\n",
      "Current Expert Regret: -157478\n",
      "Current Naive Regret: -89613\n",
      "--------------------------------------------------\n",
      "** Sampled 511 positive and 511 negative edges. **\n"
     ]
    },
    {
     "name": "stderr",
     "output_type": "stream",
     "text": [
      " 33%|███▎      | 41/126 [07:17<15:05, 10.65s/it]"
     ]
    },
    {
     "name": "stdout",
     "output_type": "stream",
     "text": [
      "Temporal Test Score (ROC AUC): 0.80\n",
      "--------------------------------------------------\n",
      "Current Week: 2021-10-14\n",
      "Total Number of Test Edges: 2926\n",
      "Current Expert Regret: -161266\n",
      "Current Naive Regret: -91114\n",
      "--------------------------------------------------\n",
      "** Sampled 518 positive and 518 negative edges. **\n"
     ]
    },
    {
     "name": "stderr",
     "output_type": "stream",
     "text": [
      " 33%|███▎      | 42/126 [07:28<15:06, 10.79s/it]"
     ]
    },
    {
     "name": "stdout",
     "output_type": "stream",
     "text": [
      "Temporal Test Score (ROC AUC): 0.81\n",
      "--------------------------------------------------\n",
      "Current Week: 2021-10-21\n",
      "Total Number of Test Edges: 2954\n",
      "Current Expert Regret: -164710\n",
      "Current Naive Regret: -92684\n",
      "--------------------------------------------------\n",
      "** Sampled 535 positive and 535 negative edges. **\n"
     ]
    },
    {
     "name": "stderr",
     "output_type": "stream",
     "text": [
      " 34%|███▍      | 43/126 [07:38<14:46, 10.68s/it]"
     ]
    },
    {
     "name": "stdout",
     "output_type": "stream",
     "text": [
      "Temporal Test Score (ROC AUC): 0.82\n",
      "--------------------------------------------------\n",
      "Current Week: 2021-10-28\n",
      "Total Number of Test Edges: 3204\n",
      "Current Expert Regret: -168652\n",
      "Current Naive Regret: -94749\n",
      "--------------------------------------------------\n",
      "** Sampled 508 positive and 508 negative edges. **\n"
     ]
    },
    {
     "name": "stderr",
     "output_type": "stream",
     "text": [
      " 35%|███▍      | 44/126 [07:48<14:20, 10.50s/it]"
     ]
    },
    {
     "name": "stdout",
     "output_type": "stream",
     "text": [
      "Temporal Test Score (ROC AUC): 0.79\n",
      "--------------------------------------------------\n",
      "Current Week: 2021-11-04\n",
      "Total Number of Test Edges: 3002\n",
      "Current Expert Regret: -172312\n",
      "Current Naive Regret: -96581\n",
      "--------------------------------------------------\n",
      "** Sampled 386 positive and 386 negative edges. **\n"
     ]
    },
    {
     "name": "stderr",
     "output_type": "stream",
     "text": [
      " 36%|███▌      | 45/126 [07:58<13:50, 10.26s/it]"
     ]
    },
    {
     "name": "stdout",
     "output_type": "stream",
     "text": [
      "Temporal Test Score (ROC AUC): 0.82\n",
      "--------------------------------------------------\n",
      "Current Week: 2021-11-11\n",
      "Total Number of Test Edges: 6136\n",
      "Current Expert Regret: -179784\n",
      "Current Naive Regret: -100052\n",
      "--------------------------------------------------\n",
      "** Sampled 547 positive and 547 negative edges. **\n"
     ]
    },
    {
     "name": "stderr",
     "output_type": "stream",
     "text": [
      " 37%|███▋      | 46/126 [08:09<13:46, 10.33s/it]"
     ]
    },
    {
     "name": "stdout",
     "output_type": "stream",
     "text": [
      "Temporal Test Score (ROC AUC): 0.83\n",
      "--------------------------------------------------\n",
      "Current Week: 2021-11-18\n",
      "Total Number of Test Edges: 3158\n",
      "Current Expert Regret: -183568\n",
      "Current Naive Regret: -102096\n",
      "--------------------------------------------------\n",
      "** Sampled 531 positive and 531 negative edges. **\n"
     ]
    },
    {
     "name": "stderr",
     "output_type": "stream",
     "text": [
      " 37%|███▋      | 47/126 [08:19<13:32, 10.29s/it]"
     ]
    },
    {
     "name": "stdout",
     "output_type": "stream",
     "text": [
      "Temporal Test Score (ROC AUC): 0.79\n",
      "--------------------------------------------------\n",
      "Current Week: 2021-11-25\n",
      "Total Number of Test Edges: 2814\n",
      "Current Expert Regret: -187191\n",
      "Current Naive Regret: -103551\n",
      "--------------------------------------------------\n",
      "** Sampled 445 positive and 445 negative edges. **\n"
     ]
    },
    {
     "name": "stderr",
     "output_type": "stream",
     "text": [
      " 38%|███▊      | 48/126 [08:29<13:18, 10.24s/it]"
     ]
    },
    {
     "name": "stdout",
     "output_type": "stream",
     "text": [
      "Temporal Test Score (ROC AUC): 0.82\n",
      "--------------------------------------------------\n",
      "Current Week: 2021-12-02\n",
      "Total Number of Test Edges: 3124\n",
      "Current Expert Regret: -191156\n",
      "Current Naive Regret: -105420\n",
      "--------------------------------------------------\n",
      "** Sampled 516 positive and 516 negative edges. **\n"
     ]
    },
    {
     "name": "stderr",
     "output_type": "stream",
     "text": [
      " 39%|███▉      | 49/126 [08:40<13:18, 10.37s/it]"
     ]
    },
    {
     "name": "stdout",
     "output_type": "stream",
     "text": [
      "Temporal Test Score (ROC AUC): 0.80\n",
      "--------------------------------------------------\n",
      "Current Week: 2021-12-09\n",
      "Total Number of Test Edges: 2692\n",
      "Current Expert Regret: -194507\n",
      "Current Naive Regret: -107060\n",
      "--------------------------------------------------\n",
      "** Sampled 363 positive and 363 negative edges. **\n"
     ]
    },
    {
     "name": "stderr",
     "output_type": "stream",
     "text": [
      " 40%|███▉      | 50/126 [08:50<13:02, 10.29s/it]"
     ]
    },
    {
     "name": "stdout",
     "output_type": "stream",
     "text": [
      "Temporal Test Score (ROC AUC): 0.80\n",
      "--------------------------------------------------\n",
      "Current Week: 2021-12-16\n",
      "Total Number of Test Edges: 5704\n",
      "Current Expert Regret: -201858\n",
      "Current Naive Regret: -109769\n",
      "--------------------------------------------------\n",
      "** Sampled 357 positive and 357 negative edges. **\n"
     ]
    },
    {
     "name": "stderr",
     "output_type": "stream",
     "text": [
      " 40%|████      | 51/126 [08:59<12:38, 10.11s/it]"
     ]
    },
    {
     "name": "stdout",
     "output_type": "stream",
     "text": [
      "Temporal Test Score (ROC AUC): 0.82\n",
      "--------------------------------------------------\n",
      "Current Week: 2021-12-23\n",
      "Total Number of Test Edges: 5548\n",
      "Current Expert Regret: -208968\n",
      "Current Naive Regret: -112756\n",
      "--------------------------------------------------\n",
      "** Sampled 196 positive and 196 negative edges. **\n"
     ]
    },
    {
     "name": "stderr",
     "output_type": "stream",
     "text": [
      "/Users/yko/Documents/Temporal-Link-Prediction/venv/lib/python3.8/site-packages/sklearn/linear_model/_logistic.py:460: ConvergenceWarning: lbfgs failed to converge (status=1):\n",
      "STOP: TOTAL NO. of ITERATIONS REACHED LIMIT.\n",
      "\n",
      "Increase the number of iterations (max_iter) or scale the data as shown in:\n",
      "    https://scikit-learn.org/stable/modules/preprocessing.html\n",
      "Please also refer to the documentation for alternative solver options:\n",
      "    https://scikit-learn.org/stable/modules/linear_model.html#logistic-regression\n",
      "  n_iter_i = _check_optimize_result(\n",
      "/Users/yko/Documents/Temporal-Link-Prediction/venv/lib/python3.8/site-packages/sklearn/linear_model/_logistic.py:460: ConvergenceWarning: lbfgs failed to converge (status=1):\n",
      "STOP: TOTAL NO. of ITERATIONS REACHED LIMIT.\n",
      "\n",
      "Increase the number of iterations (max_iter) or scale the data as shown in:\n",
      "    https://scikit-learn.org/stable/modules/preprocessing.html\n",
      "Please also refer to the documentation for alternative solver options:\n",
      "    https://scikit-learn.org/stable/modules/linear_model.html#logistic-regression\n",
      "  n_iter_i = _check_optimize_result(\n",
      " 41%|████▏     | 52/126 [09:11<12:55, 10.48s/it]"
     ]
    },
    {
     "name": "stdout",
     "output_type": "stream",
     "text": [
      "Temporal Test Score (ROC AUC): 0.85\n",
      "--------------------------------------------------\n",
      "Current Week: 2021-12-30\n",
      "Total Number of Test Edges: 4932\n",
      "Current Expert Regret: -215598\n",
      "Current Naive Regret: -114479\n",
      "--------------------------------------------------\n",
      "** Sampled 327 positive and 327 negative edges. **\n"
     ]
    },
    {
     "name": "stderr",
     "output_type": "stream",
     "text": [
      " 42%|████▏     | 53/126 [09:21<12:36, 10.36s/it]"
     ]
    },
    {
     "name": "stdout",
     "output_type": "stream",
     "text": [
      "Temporal Test Score (ROC AUC): 0.81\n",
      "--------------------------------------------------\n",
      "Current Week: 2022-01-06\n",
      "Total Number of Test Edges: 2786\n",
      "Current Expert Regret: -219228\n",
      "Current Naive Regret: -115733\n",
      "--------------------------------------------------\n",
      "** Sampled 329 positive and 329 negative edges. **\n"
     ]
    },
    {
     "name": "stderr",
     "output_type": "stream",
     "text": [
      " 43%|████▎     | 54/126 [09:30<12:06, 10.09s/it]"
     ]
    },
    {
     "name": "stdout",
     "output_type": "stream",
     "text": [
      "Temporal Test Score (ROC AUC): 0.80\n",
      "--------------------------------------------------\n",
      "Current Week: 2022-01-13\n",
      "Total Number of Test Edges: 5944\n",
      "Current Expert Regret: -227173\n",
      "Current Naive Regret: -117956\n",
      "--------------------------------------------------\n",
      "** Sampled 349 positive and 349 negative edges. **\n"
     ]
    },
    {
     "name": "stderr",
     "output_type": "stream",
     "text": [
      " 44%|████▎     | 55/126 [09:40<11:48,  9.97s/it]"
     ]
    },
    {
     "name": "stdout",
     "output_type": "stream",
     "text": [
      "Temporal Test Score (ROC AUC): 0.81\n",
      "--------------------------------------------------\n",
      "Current Week: 2022-01-20\n",
      "Total Number of Test Edges: 5822\n",
      "Current Expert Regret: -234879\n",
      "Current Naive Regret: -120771\n",
      "--------------------------------------------------\n",
      "** Sampled 509 positive and 509 negative edges. **\n"
     ]
    },
    {
     "name": "stderr",
     "output_type": "stream",
     "text": [
      " 44%|████▍     | 56/126 [09:50<11:48, 10.13s/it]"
     ]
    },
    {
     "name": "stdout",
     "output_type": "stream",
     "text": [
      "Temporal Test Score (ROC AUC): 0.81\n",
      "--------------------------------------------------\n",
      "Current Week: 2022-01-27\n",
      "Total Number of Test Edges: 2954\n",
      "Current Expert Regret: -238719\n",
      "Current Naive Regret: -122464\n",
      "--------------------------------------------------\n",
      "** Sampled 360 positive and 360 negative edges. **\n"
     ]
    },
    {
     "name": "stderr",
     "output_type": "stream",
     "text": [
      " 45%|████▌     | 57/126 [10:01<11:49, 10.28s/it]"
     ]
    },
    {
     "name": "stdout",
     "output_type": "stream",
     "text": [
      "Temporal Test Score (ROC AUC): 0.80\n",
      "--------------------------------------------------\n",
      "Current Week: 2022-02-03\n",
      "Total Number of Test Edges: 5940\n",
      "Current Expert Regret: -246304\n",
      "Current Naive Regret: -125753\n",
      "--------------------------------------------------\n",
      "** Sampled 362 positive and 362 negative edges. **\n"
     ]
    },
    {
     "name": "stderr",
     "output_type": "stream",
     "text": [
      " 46%|████▌     | 58/126 [10:12<11:52, 10.47s/it]"
     ]
    },
    {
     "name": "stdout",
     "output_type": "stream",
     "text": [
      "Temporal Test Score (ROC AUC): 0.81\n",
      "--------------------------------------------------\n",
      "Current Week: 2022-02-10\n",
      "Total Number of Test Edges: 6332\n",
      "Current Expert Regret: -254396\n",
      "Current Naive Regret: -129123\n",
      "--------------------------------------------------\n",
      "** Sampled 539 positive and 539 negative edges. **\n"
     ]
    },
    {
     "name": "stderr",
     "output_type": "stream",
     "text": [
      " 47%|████▋     | 59/126 [10:23<11:48, 10.58s/it]"
     ]
    },
    {
     "name": "stdout",
     "output_type": "stream",
     "text": [
      "Temporal Test Score (ROC AUC): 0.84\n",
      "--------------------------------------------------\n",
      "Current Week: 2022-02-17\n",
      "Total Number of Test Edges: 3046\n",
      "Current Expert Regret: -258287\n",
      "Current Naive Regret: -131088\n",
      "--------------------------------------------------\n",
      "** Sampled 379 positive and 379 negative edges. **\n"
     ]
    },
    {
     "name": "stderr",
     "output_type": "stream",
     "text": [
      " 48%|████▊     | 60/126 [10:34<11:43, 10.67s/it]"
     ]
    },
    {
     "name": "stdout",
     "output_type": "stream",
     "text": [
      "Temporal Test Score (ROC AUC): 0.79\n",
      "--------------------------------------------------\n",
      "Current Week: 2022-02-24\n",
      "Total Number of Test Edges: 6188\n",
      "Current Expert Regret: -266224\n",
      "Current Naive Regret: -134062\n",
      "--------------------------------------------------\n",
      "** Sampled 372 positive and 372 negative edges. **\n"
     ]
    },
    {
     "name": "stderr",
     "output_type": "stream",
     "text": [
      " 48%|████▊     | 61/126 [10:44<11:35, 10.70s/it]"
     ]
    },
    {
     "name": "stdout",
     "output_type": "stream",
     "text": [
      "Temporal Test Score (ROC AUC): 0.80\n",
      "--------------------------------------------------\n",
      "Current Week: 2022-03-03\n",
      "Total Number of Test Edges: 6264\n",
      "Current Expert Regret: -274074\n",
      "Current Naive Regret: -137438\n",
      "--------------------------------------------------\n",
      "** Sampled 377 positive and 377 negative edges. **\n"
     ]
    },
    {
     "name": "stderr",
     "output_type": "stream",
     "text": [
      " 49%|████▉     | 62/126 [10:55<11:23, 10.68s/it]"
     ]
    },
    {
     "name": "stdout",
     "output_type": "stream",
     "text": [
      "Temporal Test Score (ROC AUC): 0.80\n",
      "--------------------------------------------------\n",
      "Current Week: 2022-03-10\n",
      "Total Number of Test Edges: 6434\n",
      "Current Expert Regret: -282542\n",
      "Current Naive Regret: -140458\n",
      "--------------------------------------------------\n",
      "** Sampled 369 positive and 369 negative edges. **\n"
     ]
    },
    {
     "name": "stderr",
     "output_type": "stream",
     "text": [
      " 50%|█████     | 63/126 [11:06<11:09, 10.62s/it]"
     ]
    },
    {
     "name": "stdout",
     "output_type": "stream",
     "text": [
      "Temporal Test Score (ROC AUC): 0.81\n",
      "--------------------------------------------------\n",
      "Current Week: 2022-03-17\n",
      "Total Number of Test Edges: 6272\n",
      "Current Expert Regret: -290992\n",
      "Current Naive Regret: -143585\n",
      "--------------------------------------------------\n",
      "** Sampled 375 positive and 375 negative edges. **\n"
     ]
    },
    {
     "name": "stderr",
     "output_type": "stream",
     "text": [
      " 51%|█████     | 64/126 [11:16<10:58, 10.62s/it]"
     ]
    },
    {
     "name": "stdout",
     "output_type": "stream",
     "text": [
      "Temporal Test Score (ROC AUC): 0.80\n",
      "--------------------------------------------------\n",
      "Current Week: 2022-03-24\n",
      "Total Number of Test Edges: 6538\n",
      "Current Expert Regret: -299823\n",
      "Current Naive Regret: -146535\n",
      "--------------------------------------------------\n",
      "** Sampled 550 positive and 550 negative edges. **\n"
     ]
    },
    {
     "name": "stderr",
     "output_type": "stream",
     "text": [
      " 52%|█████▏    | 65/126 [11:27<10:51, 10.68s/it]"
     ]
    },
    {
     "name": "stdout",
     "output_type": "stream",
     "text": [
      "Temporal Test Score (ROC AUC): 0.82\n",
      "--------------------------------------------------\n",
      "Current Week: 2022-03-31\n",
      "Total Number of Test Edges: 3078\n",
      "Current Expert Regret: -303743\n",
      "Current Naive Regret: -148460\n",
      "--------------------------------------------------\n",
      "** Sampled 523 positive and 523 negative edges. **\n"
     ]
    },
    {
     "name": "stderr",
     "output_type": "stream",
     "text": [
      " 52%|█████▏    | 66/126 [11:39<10:57, 10.97s/it]"
     ]
    },
    {
     "name": "stdout",
     "output_type": "stream",
     "text": [
      "Temporal Test Score (ROC AUC): 0.80\n",
      "--------------------------------------------------\n",
      "Current Week: 2022-04-07\n",
      "Total Number of Test Edges: 3114\n",
      "Current Expert Regret: -307734\n",
      "Current Naive Regret: -149964\n",
      "--------------------------------------------------\n",
      "** Sampled 537 positive and 537 negative edges. **\n"
     ]
    },
    {
     "name": "stderr",
     "output_type": "stream",
     "text": [
      " 53%|█████▎    | 67/126 [11:50<10:47, 10.97s/it]"
     ]
    },
    {
     "name": "stdout",
     "output_type": "stream",
     "text": [
      "Temporal Test Score (ROC AUC): 0.80\n",
      "--------------------------------------------------\n",
      "Current Week: 2022-04-14\n",
      "Total Number of Test Edges: 3044\n",
      "Current Expert Regret: -311735\n",
      "Current Naive Regret: -151496\n",
      "--------------------------------------------------\n",
      "** Sampled 516 positive and 516 negative edges. **\n"
     ]
    },
    {
     "name": "stderr",
     "output_type": "stream",
     "text": [
      " 54%|█████▍    | 68/126 [12:00<10:28, 10.84s/it]"
     ]
    },
    {
     "name": "stdout",
     "output_type": "stream",
     "text": [
      "Temporal Test Score (ROC AUC): 0.80\n",
      "--------------------------------------------------\n",
      "Current Week: 2022-04-21\n",
      "Total Number of Test Edges: 3186\n",
      "Current Expert Regret: -315825\n",
      "Current Naive Regret: -153194\n",
      "--------------------------------------------------\n",
      "** Sampled 374 positive and 374 negative edges. **\n"
     ]
    },
    {
     "name": "stderr",
     "output_type": "stream",
     "text": [
      " 55%|█████▍    | 69/126 [12:11<10:09, 10.69s/it]"
     ]
    },
    {
     "name": "stdout",
     "output_type": "stream",
     "text": [
      "Temporal Test Score (ROC AUC): 0.78\n",
      "--------------------------------------------------\n",
      "Current Week: 2022-04-28\n",
      "Total Number of Test Edges: 6390\n",
      "Current Expert Regret: -324378\n",
      "Current Naive Regret: -155605\n",
      "--------------------------------------------------\n",
      "** Sampled 557 positive and 557 negative edges. **\n"
     ]
    },
    {
     "name": "stderr",
     "output_type": "stream",
     "text": [
      " 56%|█████▌    | 70/126 [12:22<10:05, 10.80s/it]"
     ]
    },
    {
     "name": "stdout",
     "output_type": "stream",
     "text": [
      "Temporal Test Score (ROC AUC): 0.82\n",
      "--------------------------------------------------\n",
      "Current Week: 2022-05-05\n",
      "Total Number of Test Edges: 3146\n",
      "Current Expert Regret: -328480\n",
      "Current Naive Regret: -157549\n",
      "--------------------------------------------------\n",
      "** Sampled 536 positive and 536 negative edges. **\n"
     ]
    },
    {
     "name": "stderr",
     "output_type": "stream",
     "text": [
      " 56%|█████▋    | 71/126 [12:32<09:52, 10.77s/it]"
     ]
    },
    {
     "name": "stdout",
     "output_type": "stream",
     "text": [
      "Temporal Test Score (ROC AUC): 0.80\n",
      "--------------------------------------------------\n",
      "Current Week: 2022-05-12\n",
      "Total Number of Test Edges: 3216\n",
      "Current Expert Regret: -332534\n",
      "Current Naive Regret: -159346\n",
      "--------------------------------------------------\n",
      "** Sampled 382 positive and 382 negative edges. **\n",
      "Temporal Test Score (ROC AUC): 0.79\n"
     ]
    },
    {
     "name": "stderr",
     "output_type": "stream",
     "text": [
      " 57%|█████▋    | 72/126 [12:43<09:43, 10.81s/it]"
     ]
    },
    {
     "name": "stdout",
     "output_type": "stream",
     "text": [
      "--------------------------------------------------\n",
      "Current Week: 2022-05-19\n",
      "Total Number of Test Edges: 6190\n",
      "Current Expert Regret: -340617\n",
      "Current Naive Regret: -161936\n",
      "--------------------------------------------------\n",
      "** Sampled 544 positive and 544 negative edges. **\n"
     ]
    },
    {
     "name": "stderr",
     "output_type": "stream",
     "text": [
      " 58%|█████▊    | 73/126 [12:55<09:43, 11.01s/it]"
     ]
    },
    {
     "name": "stdout",
     "output_type": "stream",
     "text": [
      "Temporal Test Score (ROC AUC): 0.78\n",
      "--------------------------------------------------\n",
      "Current Week: 2022-05-26\n",
      "Total Number of Test Edges: 3190\n",
      "Current Expert Regret: -344826\n",
      "Current Naive Regret: -163376\n",
      "--------------------------------------------------\n",
      "** Sampled 223 positive and 223 negative edges. **\n"
     ]
    },
    {
     "name": "stderr",
     "output_type": "stream",
     "text": [
      "/Users/yko/Documents/Temporal-Link-Prediction/venv/lib/python3.8/site-packages/sklearn/linear_model/_logistic.py:460: ConvergenceWarning: lbfgs failed to converge (status=1):\n",
      "STOP: TOTAL NO. of ITERATIONS REACHED LIMIT.\n",
      "\n",
      "Increase the number of iterations (max_iter) or scale the data as shown in:\n",
      "    https://scikit-learn.org/stable/modules/preprocessing.html\n",
      "Please also refer to the documentation for alternative solver options:\n",
      "    https://scikit-learn.org/stable/modules/linear_model.html#logistic-regression\n",
      "  n_iter_i = _check_optimize_result(\n",
      "/Users/yko/Documents/Temporal-Link-Prediction/venv/lib/python3.8/site-packages/sklearn/linear_model/_logistic.py:460: ConvergenceWarning: lbfgs failed to converge (status=1):\n",
      "STOP: TOTAL NO. of ITERATIONS REACHED LIMIT.\n",
      "\n",
      "Increase the number of iterations (max_iter) or scale the data as shown in:\n",
      "    https://scikit-learn.org/stable/modules/preprocessing.html\n",
      "Please also refer to the documentation for alternative solver options:\n",
      "    https://scikit-learn.org/stable/modules/linear_model.html#logistic-regression\n",
      "  n_iter_i = _check_optimize_result(\n",
      "/Users/yko/Documents/Temporal-Link-Prediction/venv/lib/python3.8/site-packages/sklearn/linear_model/_logistic.py:460: ConvergenceWarning: lbfgs failed to converge (status=1):\n",
      "STOP: TOTAL NO. of ITERATIONS REACHED LIMIT.\n",
      "\n",
      "Increase the number of iterations (max_iter) or scale the data as shown in:\n",
      "    https://scikit-learn.org/stable/modules/preprocessing.html\n",
      "Please also refer to the documentation for alternative solver options:\n",
      "    https://scikit-learn.org/stable/modules/linear_model.html#logistic-regression\n",
      "  n_iter_i = _check_optimize_result(\n",
      "/Users/yko/Documents/Temporal-Link-Prediction/venv/lib/python3.8/site-packages/sklearn/linear_model/_logistic.py:460: ConvergenceWarning: lbfgs failed to converge (status=1):\n",
      "STOP: TOTAL NO. of ITERATIONS REACHED LIMIT.\n",
      "\n",
      "Increase the number of iterations (max_iter) or scale the data as shown in:\n",
      "    https://scikit-learn.org/stable/modules/preprocessing.html\n",
      "Please also refer to the documentation for alternative solver options:\n",
      "    https://scikit-learn.org/stable/modules/linear_model.html#logistic-regression\n",
      "  n_iter_i = _check_optimize_result(\n",
      "/Users/yko/Documents/Temporal-Link-Prediction/venv/lib/python3.8/site-packages/sklearn/linear_model/_logistic.py:460: ConvergenceWarning: lbfgs failed to converge (status=1):\n",
      "STOP: TOTAL NO. of ITERATIONS REACHED LIMIT.\n",
      "\n",
      "Increase the number of iterations (max_iter) or scale the data as shown in:\n",
      "    https://scikit-learn.org/stable/modules/preprocessing.html\n",
      "Please also refer to the documentation for alternative solver options:\n",
      "    https://scikit-learn.org/stable/modules/linear_model.html#logistic-regression\n",
      "  n_iter_i = _check_optimize_result(\n"
     ]
    },
    {
     "name": "stdout",
     "output_type": "stream",
     "text": [
      "Temporal Test Score (ROC AUC): 0.75\n",
      "--------------------------------------------------\n",
      "Current Week: 2022-06-02\n",
      "Total Number of Test Edges: 6680\n",
      "Current Expert Regret: -352803\n",
      "Current Naive Regret: -165254\n",
      "--------------------------------------------------\n"
     ]
    },
    {
     "name": "stderr",
     "output_type": "stream",
     "text": [
      " 59%|█████▊    | 74/126 [13:09<10:17, 11.87s/it]"
     ]
    },
    {
     "name": "stdout",
     "output_type": "stream",
     "text": [
      "** Sampled 547 positive and 547 negative edges. **\n"
     ]
    },
    {
     "name": "stderr",
     "output_type": "stream",
     "text": [
      " 60%|█████▉    | 75/126 [13:19<09:48, 11.54s/it]"
     ]
    },
    {
     "name": "stdout",
     "output_type": "stream",
     "text": [
      "Temporal Test Score (ROC AUC): 0.78\n",
      "--------------------------------------------------\n",
      "Current Week: 2022-06-09\n",
      "Total Number of Test Edges: 3300\n",
      "Current Expert Regret: -357006\n",
      "Current Naive Regret: -166970\n",
      "--------------------------------------------------\n",
      "** Sampled 538 positive and 538 negative edges. **\n"
     ]
    },
    {
     "name": "stderr",
     "output_type": "stream",
     "text": [
      " 60%|██████    | 76/126 [13:30<09:25, 11.31s/it]"
     ]
    },
    {
     "name": "stdout",
     "output_type": "stream",
     "text": [
      "Temporal Test Score (ROC AUC): 0.74\n",
      "--------------------------------------------------\n",
      "Current Week: 2022-06-16\n",
      "Total Number of Test Edges: 3168\n",
      "Current Expert Regret: -360971\n",
      "Current Naive Regret: -168084\n",
      "--------------------------------------------------\n",
      "** Sampled 517 positive and 517 negative edges. **\n"
     ]
    },
    {
     "name": "stderr",
     "output_type": "stream",
     "text": [
      " 61%|██████    | 77/126 [13:41<09:04, 11.12s/it]"
     ]
    },
    {
     "name": "stdout",
     "output_type": "stream",
     "text": [
      "Temporal Test Score (ROC AUC): 0.77\n",
      "--------------------------------------------------\n",
      "Current Week: 2022-06-23\n",
      "Total Number of Test Edges: 3172\n",
      "Current Expert Regret: -365144\n",
      "Current Naive Regret: -169476\n",
      "--------------------------------------------------\n",
      "** Sampled 374 positive and 374 negative edges. **\n",
      "Temporal Test Score (ROC AUC): 0.77\n",
      "--------------------------------------------------\n",
      "Current Week: 2022-06-30\n",
      "Total Number of Test Edges: 6386\n",
      "Current Expert Regret: -373570\n",
      "Current Naive Regret: -171507\n",
      "--------------------------------------------------\n"
     ]
    },
    {
     "name": "stderr",
     "output_type": "stream",
     "text": [
      " 62%|██████▏   | 78/126 [13:51<08:44, 10.94s/it]"
     ]
    },
    {
     "name": "stdout",
     "output_type": "stream",
     "text": [
      "** Sampled 373 positive and 373 negative edges. **\n"
     ]
    },
    {
     "name": "stderr",
     "output_type": "stream",
     "text": [
      " 63%|██████▎   | 79/126 [14:01<08:23, 10.70s/it]"
     ]
    },
    {
     "name": "stdout",
     "output_type": "stream",
     "text": [
      "Temporal Test Score (ROC AUC): 0.78\n",
      "--------------------------------------------------\n",
      "Current Week: 2022-07-07\n",
      "Total Number of Test Edges: 3264\n",
      "Current Expert Regret: -377712\n",
      "Current Naive Regret: -173058\n",
      "--------------------------------------------------\n",
      "** Sampled 536 positive and 536 negative edges. **\n"
     ]
    },
    {
     "name": "stderr",
     "output_type": "stream",
     "text": [
      " 63%|██████▎   | 80/126 [14:12<08:12, 10.72s/it]"
     ]
    },
    {
     "name": "stdout",
     "output_type": "stream",
     "text": [
      "Temporal Test Score (ROC AUC): 0.78\n",
      "--------------------------------------------------\n",
      "Current Week: 2022-07-14\n",
      "Total Number of Test Edges: 3214\n",
      "Current Expert Regret: -381884\n",
      "Current Naive Regret: -174446\n",
      "--------------------------------------------------\n",
      "** Sampled 377 positive and 377 negative edges. **\n",
      "Temporal Test Score (ROC AUC): 0.78\n",
      "--------------------------------------------------\n",
      "Current Week: 2022-07-21\n",
      "Total Number of Test Edges: 6392\n",
      "Current Expert Regret: -390456\n",
      "Current Naive Regret: -176822\n",
      "--------------------------------------------------\n"
     ]
    },
    {
     "name": "stderr",
     "output_type": "stream",
     "text": [
      " 64%|██████▍   | 81/126 [14:23<08:08, 10.86s/it]"
     ]
    },
    {
     "name": "stdout",
     "output_type": "stream",
     "text": [
      "** Sampled 525 positive and 525 negative edges. **\n"
     ]
    },
    {
     "name": "stderr",
     "output_type": "stream",
     "text": [
      " 65%|██████▌   | 82/126 [14:34<07:58, 10.87s/it]"
     ]
    },
    {
     "name": "stdout",
     "output_type": "stream",
     "text": [
      "Temporal Test Score (ROC AUC): 0.78\n",
      "--------------------------------------------------\n",
      "Current Week: 2022-07-28\n",
      "Total Number of Test Edges: 3220\n",
      "Current Expert Regret: -394591\n",
      "Current Naive Regret: -178411\n",
      "--------------------------------------------------\n",
      "** Sampled 544 positive and 544 negative edges. **\n"
     ]
    },
    {
     "name": "stderr",
     "output_type": "stream",
     "text": [
      " 66%|██████▌   | 83/126 [14:45<07:42, 10.75s/it]"
     ]
    },
    {
     "name": "stdout",
     "output_type": "stream",
     "text": [
      "Temporal Test Score (ROC AUC): 0.78\n",
      "--------------------------------------------------\n",
      "Current Week: 2022-08-04\n",
      "Total Number of Test Edges: 3002\n",
      "Current Expert Regret: -398407\n",
      "Current Naive Regret: -179893\n",
      "--------------------------------------------------\n",
      "** Sampled 531 positive and 531 negative edges. **\n"
     ]
    },
    {
     "name": "stderr",
     "output_type": "stream",
     "text": [
      " 67%|██████▋   | 84/126 [14:55<07:30, 10.72s/it]"
     ]
    },
    {
     "name": "stdout",
     "output_type": "stream",
     "text": [
      "Temporal Test Score (ROC AUC): 0.78\n",
      "--------------------------------------------------\n",
      "Current Week: 2022-08-11\n",
      "Total Number of Test Edges: 3274\n",
      "Current Expert Regret: -402749\n",
      "Current Naive Regret: -181466\n",
      "--------------------------------------------------\n",
      "** Sampled 376 positive and 376 negative edges. **\n"
     ]
    },
    {
     "name": "stderr",
     "output_type": "stream",
     "text": [
      " 67%|██████▋   | 85/126 [15:06<07:15, 10.62s/it]"
     ]
    },
    {
     "name": "stdout",
     "output_type": "stream",
     "text": [
      "Temporal Test Score (ROC AUC): 0.78\n",
      "--------------------------------------------------\n",
      "Current Week: 2022-08-18\n",
      "Total Number of Test Edges: 6354\n",
      "Current Expert Regret: -411258\n",
      "Current Naive Regret: -183008\n",
      "--------------------------------------------------\n",
      "** Sampled 531 positive and 531 negative edges. **\n"
     ]
    },
    {
     "name": "stderr",
     "output_type": "stream",
     "text": [
      " 68%|██████▊   | 86/126 [15:17<07:06, 10.66s/it]"
     ]
    },
    {
     "name": "stdout",
     "output_type": "stream",
     "text": [
      "Temporal Test Score (ROC AUC): 0.79\n",
      "--------------------------------------------------\n",
      "Current Week: 2022-08-25\n",
      "Total Number of Test Edges: 3142\n",
      "Current Expert Regret: -415275\n",
      "Current Naive Regret: -184606\n",
      "--------------------------------------------------\n",
      "** Sampled 548 positive and 548 negative edges. **\n"
     ]
    },
    {
     "name": "stderr",
     "output_type": "stream",
     "text": [
      " 69%|██████▉   | 87/126 [15:27<06:58, 10.73s/it]"
     ]
    },
    {
     "name": "stdout",
     "output_type": "stream",
     "text": [
      "Temporal Test Score (ROC AUC): 0.79\n",
      "--------------------------------------------------\n",
      "Current Week: 2022-09-01\n",
      "Total Number of Test Edges: 3274\n",
      "Current Expert Regret: -419441\n",
      "Current Naive Regret: -186284\n",
      "--------------------------------------------------\n",
      "** Sampled 406 positive and 406 negative edges. **\n"
     ]
    },
    {
     "name": "stderr",
     "output_type": "stream",
     "text": [
      " 70%|██████▉   | 88/126 [15:39<06:54, 10.90s/it]"
     ]
    },
    {
     "name": "stdout",
     "output_type": "stream",
     "text": [
      "Temporal Test Score (ROC AUC): 0.77\n",
      "--------------------------------------------------\n",
      "Current Week: 2022-09-08\n",
      "Total Number of Test Edges: 3380\n",
      "Current Expert Regret: -423627\n",
      "Current Naive Regret: -187788\n",
      "--------------------------------------------------\n",
      "** Sampled 549 positive and 549 negative edges. **\n"
     ]
    },
    {
     "name": "stderr",
     "output_type": "stream",
     "text": [
      " 71%|███████   | 89/126 [15:49<06:40, 10.83s/it]"
     ]
    },
    {
     "name": "stdout",
     "output_type": "stream",
     "text": [
      "Temporal Test Score (ROC AUC): 0.75\n",
      "--------------------------------------------------\n",
      "Current Week: 2022-09-15\n",
      "Total Number of Test Edges: 3186\n",
      "Current Expert Regret: -427469\n",
      "Current Naive Regret: -189314\n",
      "--------------------------------------------------\n",
      "** Sampled 386 positive and 386 negative edges. **\n"
     ]
    },
    {
     "name": "stderr",
     "output_type": "stream",
     "text": [
      " 71%|███████▏  | 90/126 [16:00<06:30, 10.85s/it]"
     ]
    },
    {
     "name": "stdout",
     "output_type": "stream",
     "text": [
      "Temporal Test Score (ROC AUC): 0.80\n",
      "--------------------------------------------------\n",
      "Current Week: 2022-09-22\n",
      "Total Number of Test Edges: 6408\n",
      "Current Expert Regret: -435995\n",
      "Current Naive Regret: -192210\n",
      "--------------------------------------------------\n",
      "** Sampled 566 positive and 566 negative edges. **\n"
     ]
    },
    {
     "name": "stderr",
     "output_type": "stream",
     "text": [
      " 72%|███████▏  | 91/126 [16:11<06:17, 10.77s/it]"
     ]
    },
    {
     "name": "stdout",
     "output_type": "stream",
     "text": [
      "Temporal Test Score (ROC AUC): 0.76\n",
      "--------------------------------------------------\n",
      "Current Week: 2022-09-29\n",
      "Total Number of Test Edges: 3278\n",
      "Current Expert Regret: -440273\n",
      "Current Naive Regret: -193632\n",
      "--------------------------------------------------\n",
      "** Sampled 569 positive and 569 negative edges. **\n"
     ]
    },
    {
     "name": "stderr",
     "output_type": "stream",
     "text": [
      " 73%|███████▎  | 92/126 [16:22<06:04, 10.73s/it]"
     ]
    },
    {
     "name": "stdout",
     "output_type": "stream",
     "text": [
      "Temporal Test Score (ROC AUC): 0.78\n",
      "--------------------------------------------------\n",
      "Current Week: 2022-10-06\n",
      "Total Number of Test Edges: 3292\n",
      "Current Expert Regret: -444708\n",
      "Current Naive Regret: -194851\n",
      "--------------------------------------------------\n",
      "** Sampled 404 positive and 404 negative edges. **\n",
      "Temporal Test Score (ROC AUC): 0.78\n",
      "--------------------------------------------------\n",
      "Current Week: 2022-10-13\n",
      "Total Number of Test Edges: 6686\n",
      "Current Expert Regret: -453067\n",
      "Current Naive Regret: -197768\n",
      "--------------------------------------------------\n"
     ]
    },
    {
     "name": "stderr",
     "output_type": "stream",
     "text": [
      " 74%|███████▍  | 93/126 [16:32<05:52, 10.69s/it]"
     ]
    },
    {
     "name": "stdout",
     "output_type": "stream",
     "text": [
      "** Sampled 568 positive and 568 negative edges. **\n"
     ]
    },
    {
     "name": "stderr",
     "output_type": "stream",
     "text": [
      " 75%|███████▍  | 94/126 [16:43<05:43, 10.74s/it]"
     ]
    },
    {
     "name": "stdout",
     "output_type": "stream",
     "text": [
      "Temporal Test Score (ROC AUC): 0.76\n",
      "--------------------------------------------------\n",
      "Current Week: 2022-10-20\n",
      "Total Number of Test Edges: 3406\n",
      "Current Expert Regret: -457302\n",
      "Current Naive Regret: -199106\n",
      "--------------------------------------------------\n",
      "** Sampled 594 positive and 594 negative edges. **\n"
     ]
    },
    {
     "name": "stderr",
     "output_type": "stream",
     "text": [
      " 75%|███████▌  | 95/126 [16:54<05:34, 10.79s/it]"
     ]
    },
    {
     "name": "stdout",
     "output_type": "stream",
     "text": [
      "Temporal Test Score (ROC AUC): 0.77\n",
      "--------------------------------------------------\n",
      "Current Week: 2022-10-27\n",
      "Total Number of Test Edges: 3604\n",
      "Current Expert Regret: -461851\n",
      "Current Naive Regret: -200888\n",
      "--------------------------------------------------\n",
      "** Sampled 419 positive and 419 negative edges. **\n"
     ]
    },
    {
     "name": "stderr",
     "output_type": "stream",
     "text": [
      " 76%|███████▌  | 96/126 [17:05<05:27, 10.91s/it]"
     ]
    },
    {
     "name": "stdout",
     "output_type": "stream",
     "text": [
      "Temporal Test Score (ROC AUC): 0.77\n",
      "--------------------------------------------------\n",
      "Current Week: 2022-11-03\n",
      "Total Number of Test Edges: 6874\n",
      "Current Expert Regret: -470081\n",
      "Current Naive Regret: -203006\n",
      "--------------------------------------------------\n",
      "** Sampled 586 positive and 586 negative edges. **\n"
     ]
    },
    {
     "name": "stderr",
     "output_type": "stream",
     "text": [
      " 77%|███████▋  | 97/126 [17:16<05:17, 10.94s/it]"
     ]
    },
    {
     "name": "stdout",
     "output_type": "stream",
     "text": [
      "Temporal Test Score (ROC AUC): 0.79\n",
      "--------------------------------------------------\n",
      "Current Week: 2022-11-10\n",
      "Total Number of Test Edges: 3360\n",
      "Current Expert Regret: -474349\n",
      "Current Naive Regret: -204671\n",
      "--------------------------------------------------\n",
      "** Sampled 429 positive and 429 negative edges. **\n"
     ]
    },
    {
     "name": "stderr",
     "output_type": "stream",
     "text": [
      " 78%|███████▊  | 98/126 [17:26<05:00, 10.72s/it]"
     ]
    },
    {
     "name": "stdout",
     "output_type": "stream",
     "text": [
      "Temporal Test Score (ROC AUC): 0.76\n",
      "--------------------------------------------------\n",
      "Current Week: 2022-11-17\n",
      "Total Number of Test Edges: 6510\n",
      "Current Expert Regret: -482886\n",
      "Current Naive Regret: -206595\n",
      "--------------------------------------------------\n",
      "** Sampled 569 positive and 569 negative edges. **\n"
     ]
    },
    {
     "name": "stderr",
     "output_type": "stream",
     "text": [
      " 79%|███████▊  | 99/126 [17:37<04:49, 10.73s/it]"
     ]
    },
    {
     "name": "stdout",
     "output_type": "stream",
     "text": [
      "Temporal Test Score (ROC AUC): 0.78\n",
      "--------------------------------------------------\n",
      "Current Week: 2022-11-24\n",
      "Total Number of Test Edges: 3044\n",
      "Current Expert Regret: -486748\n",
      "Current Naive Regret: -208113\n",
      "--------------------------------------------------\n",
      "** Sampled 472 positive and 472 negative edges. **\n"
     ]
    },
    {
     "name": "stderr",
     "output_type": "stream",
     "text": [
      " 79%|███████▉  | 100/126 [17:47<04:35, 10.61s/it]"
     ]
    },
    {
     "name": "stdout",
     "output_type": "stream",
     "text": [
      "Temporal Test Score (ROC AUC): 0.76\n",
      "--------------------------------------------------\n",
      "Current Week: 2022-12-01\n",
      "Total Number of Test Edges: 3510\n",
      "Current Expert Regret: -491363\n",
      "Current Naive Regret: -209161\n",
      "--------------------------------------------------\n",
      "** Sampled 604 positive and 604 negative edges. **\n"
     ]
    },
    {
     "name": "stderr",
     "output_type": "stream",
     "text": [
      " 80%|████████  | 101/126 [17:59<04:29, 10.78s/it]"
     ]
    },
    {
     "name": "stdout",
     "output_type": "stream",
     "text": [
      "Temporal Test Score (ROC AUC): 0.77\n",
      "--------------------------------------------------\n",
      "Current Week: 2022-12-08\n",
      "Total Number of Test Edges: 3216\n",
      "Current Expert Regret: -495629\n",
      "Current Naive Regret: -210546\n",
      "--------------------------------------------------\n",
      "** Sampled 388 positive and 388 negative edges. **\n"
     ]
    },
    {
     "name": "stderr",
     "output_type": "stream",
     "text": [
      " 81%|████████  | 102/126 [18:09<04:13, 10.57s/it]"
     ]
    },
    {
     "name": "stdout",
     "output_type": "stream",
     "text": [
      "Temporal Test Score (ROC AUC): 0.76\n",
      "--------------------------------------------------\n",
      "Current Week: 2022-12-15\n",
      "Total Number of Test Edges: 6402\n",
      "Current Expert Regret: -504179\n",
      "Current Naive Regret: -212765\n",
      "--------------------------------------------------\n",
      "** Sampled 552 positive and 552 negative edges. **\n"
     ]
    },
    {
     "name": "stderr",
     "output_type": "stream",
     "text": [
      " 82%|████████▏ | 103/126 [18:20<04:07, 10.76s/it]"
     ]
    },
    {
     "name": "stdout",
     "output_type": "stream",
     "text": [
      "Temporal Test Score (ROC AUC): 0.79\n",
      "--------------------------------------------------\n",
      "Current Week: 2022-12-22\n",
      "Total Number of Test Edges: 2938\n",
      "Current Expert Regret: -508078\n",
      "Current Naive Regret: -214161\n",
      "--------------------------------------------------\n",
      "** Sampled 317 positive and 317 negative edges. **\n"
     ]
    },
    {
     "name": "stderr",
     "output_type": "stream",
     "text": [
      " 83%|████████▎ | 104/126 [18:31<03:56, 10.73s/it]"
     ]
    },
    {
     "name": "stdout",
     "output_type": "stream",
     "text": [
      "Temporal Test Score (ROC AUC): 0.77\n",
      "--------------------------------------------------\n",
      "Current Week: 2022-12-29\n",
      "Total Number of Test Edges: 3016\n",
      "Current Expert Regret: -512198\n",
      "Current Naive Regret: -215270\n",
      "--------------------------------------------------\n",
      "** Sampled 374 positive and 374 negative edges. **\n"
     ]
    },
    {
     "name": "stderr",
     "output_type": "stream",
     "text": [
      " 83%|████████▎ | 105/126 [18:41<03:41, 10.55s/it]"
     ]
    },
    {
     "name": "stdout",
     "output_type": "stream",
     "text": [
      "Temporal Test Score (ROC AUC): 0.78\n",
      "--------------------------------------------------\n",
      "Current Week: 2023-01-05\n",
      "Total Number of Test Edges: 3268\n",
      "Current Expert Regret: -516582\n",
      "Current Naive Regret: -216758\n",
      "--------------------------------------------------\n",
      "** Sampled 389 positive and 389 negative edges. **\n"
     ]
    },
    {
     "name": "stderr",
     "output_type": "stream",
     "text": [
      " 84%|████████▍ | 106/126 [18:51<03:28, 10.41s/it]"
     ]
    },
    {
     "name": "stdout",
     "output_type": "stream",
     "text": [
      "Temporal Test Score (ROC AUC): 0.76\n",
      "--------------------------------------------------\n",
      "Current Week: 2023-01-12\n",
      "Total Number of Test Edges: 6462\n",
      "Current Expert Regret: -525352\n",
      "Current Naive Regret: -218835\n",
      "--------------------------------------------------\n",
      "** Sampled 387 positive and 387 negative edges. **\n",
      "Temporal Test Score (ROC AUC): 0.78\n"
     ]
    },
    {
     "name": "stderr",
     "output_type": "stream",
     "text": [
      " 85%|████████▍ | 107/126 [19:02<03:20, 10.56s/it]"
     ]
    },
    {
     "name": "stdout",
     "output_type": "stream",
     "text": [
      "--------------------------------------------------\n",
      "Current Week: 2023-01-19\n",
      "Total Number of Test Edges: 6194\n",
      "Current Expert Regret: -533591\n",
      "Current Naive Regret: -221260\n",
      "--------------------------------------------------\n",
      "** Sampled 545 positive and 545 negative edges. **\n"
     ]
    },
    {
     "name": "stderr",
     "output_type": "stream",
     "text": [
      " 86%|████████▌ | 108/126 [19:13<03:12, 10.69s/it]"
     ]
    },
    {
     "name": "stdout",
     "output_type": "stream",
     "text": [
      "Temporal Test Score (ROC AUC): 0.79\n",
      "--------------------------------------------------\n",
      "Current Week: 2023-01-26\n",
      "Total Number of Test Edges: 3174\n",
      "Current Expert Regret: -537780\n",
      "Current Naive Regret: -222697\n",
      "--------------------------------------------------\n",
      "** Sampled 535 positive and 535 negative edges. **\n"
     ]
    },
    {
     "name": "stderr",
     "output_type": "stream",
     "text": [
      " 87%|████████▋ | 109/126 [19:23<03:01, 10.69s/it]"
     ]
    },
    {
     "name": "stdout",
     "output_type": "stream",
     "text": [
      "Temporal Test Score (ROC AUC): 0.77\n",
      "--------------------------------------------------\n",
      "Current Week: 2023-02-02\n",
      "Total Number of Test Edges: 3052\n",
      "Current Expert Regret: -541755\n",
      "Current Naive Regret: -223891\n",
      "--------------------------------------------------\n",
      "** Sampled 579 positive and 579 negative edges. **\n"
     ]
    },
    {
     "name": "stderr",
     "output_type": "stream",
     "text": [
      " 87%|████████▋ | 110/126 [19:34<02:52, 10.78s/it]"
     ]
    },
    {
     "name": "stdout",
     "output_type": "stream",
     "text": [
      "Temporal Test Score (ROC AUC): 0.78\n",
      "--------------------------------------------------\n",
      "Current Week: 2023-02-09\n",
      "Total Number of Test Edges: 3228\n",
      "Current Expert Regret: -546116\n",
      "Current Naive Regret: -225283\n",
      "--------------------------------------------------\n",
      "** Sampled 570 positive and 570 negative edges. **\n"
     ]
    },
    {
     "name": "stderr",
     "output_type": "stream",
     "text": [
      " 88%|████████▊ | 111/126 [19:46<02:44, 10.99s/it]"
     ]
    },
    {
     "name": "stdout",
     "output_type": "stream",
     "text": [
      "Temporal Test Score (ROC AUC): 0.79\n",
      "--------------------------------------------------\n",
      "Current Week: 2023-02-16\n",
      "Total Number of Test Edges: 3180\n",
      "Current Expert Regret: -550287\n",
      "Current Naive Regret: -226804\n",
      "--------------------------------------------------\n",
      "** Sampled 573 positive and 573 negative edges. **\n"
     ]
    },
    {
     "name": "stderr",
     "output_type": "stream",
     "text": [
      " 89%|████████▉ | 112/126 [19:57<02:33, 10.97s/it]"
     ]
    },
    {
     "name": "stdout",
     "output_type": "stream",
     "text": [
      "Temporal Test Score (ROC AUC): 0.78\n",
      "--------------------------------------------------\n",
      "Current Week: 2023-02-23\n",
      "Total Number of Test Edges: 3364\n",
      "Current Expert Regret: -554662\n",
      "Current Naive Regret: -228293\n",
      "--------------------------------------------------\n",
      "** Sampled 596 positive and 596 negative edges. **\n"
     ]
    },
    {
     "name": "stderr",
     "output_type": "stream",
     "text": [
      " 90%|████████▉ | 113/126 [20:08<02:23, 11.01s/it]"
     ]
    },
    {
     "name": "stdout",
     "output_type": "stream",
     "text": [
      "Temporal Test Score (ROC AUC): 0.75\n",
      "--------------------------------------------------\n",
      "Current Week: 2023-03-02\n",
      "Total Number of Test Edges: 3252\n",
      "Current Expert Regret: -558830\n",
      "Current Naive Regret: -229636\n",
      "--------------------------------------------------\n",
      "** Sampled 583 positive and 583 negative edges. **\n"
     ]
    },
    {
     "name": "stderr",
     "output_type": "stream",
     "text": [
      " 90%|█████████ | 114/126 [20:19<02:13, 11.11s/it]"
     ]
    },
    {
     "name": "stdout",
     "output_type": "stream",
     "text": [
      "Temporal Test Score (ROC AUC): 0.79\n",
      "--------------------------------------------------\n",
      "Current Week: 2023-03-09\n",
      "Total Number of Test Edges: 3194\n",
      "Current Expert Regret: -562987\n",
      "Current Naive Regret: -231193\n",
      "--------------------------------------------------\n",
      "** Sampled 410 positive and 410 negative edges. **\n",
      "Temporal Test Score (ROC AUC): 0.76\n"
     ]
    },
    {
     "name": "stderr",
     "output_type": "stream",
     "text": [
      " 91%|█████████▏| 115/126 [20:30<02:01, 11.02s/it]"
     ]
    },
    {
     "name": "stdout",
     "output_type": "stream",
     "text": [
      "--------------------------------------------------\n",
      "Current Week: 2023-03-16\n",
      "Total Number of Test Edges: 6586\n",
      "Current Expert Regret: -571413\n",
      "Current Naive Regret: -232805\n",
      "--------------------------------------------------\n",
      "** Sampled 582 positive and 582 negative edges. **\n"
     ]
    },
    {
     "name": "stderr",
     "output_type": "stream",
     "text": [
      " 92%|█████████▏| 116/126 [20:41<01:50, 11.08s/it]"
     ]
    },
    {
     "name": "stdout",
     "output_type": "stream",
     "text": [
      "Temporal Test Score (ROC AUC): 0.76\n",
      "--------------------------------------------------\n",
      "Current Week: 2023-03-23\n",
      "Total Number of Test Edges: 3302\n",
      "Current Expert Regret: -575649\n",
      "Current Naive Regret: -234131\n",
      "--------------------------------------------------\n",
      "** Sampled 601 positive and 601 negative edges. **\n"
     ]
    },
    {
     "name": "stderr",
     "output_type": "stream",
     "text": [
      " 93%|█████████▎| 117/126 [20:52<01:39, 11.10s/it]"
     ]
    },
    {
     "name": "stdout",
     "output_type": "stream",
     "text": [
      "Temporal Test Score (ROC AUC): 0.79\n",
      "--------------------------------------------------\n",
      "Current Week: 2023-03-30\n",
      "Total Number of Test Edges: 3290\n",
      "Current Expert Regret: -579850\n",
      "Current Naive Regret: -235906\n",
      "--------------------------------------------------\n",
      "** Sampled 399 positive and 399 negative edges. **\n"
     ]
    },
    {
     "name": "stderr",
     "output_type": "stream",
     "text": [
      " 94%|█████████▎| 118/126 [21:04<01:29, 11.15s/it]"
     ]
    },
    {
     "name": "stdout",
     "output_type": "stream",
     "text": [
      "Temporal Test Score (ROC AUC): 0.75\n",
      "--------------------------------------------------\n",
      "Current Week: 2023-04-06\n",
      "Total Number of Test Edges: 6772\n",
      "Current Expert Regret: -588631\n",
      "Current Naive Regret: -238292\n",
      "--------------------------------------------------\n",
      "** Sampled 383 positive and 383 negative edges. **\n"
     ]
    },
    {
     "name": "stderr",
     "output_type": "stream",
     "text": [
      " 94%|█████████▍| 119/126 [21:14<01:16, 10.93s/it]"
     ]
    },
    {
     "name": "stdout",
     "output_type": "stream",
     "text": [
      "Temporal Test Score (ROC AUC): 0.75\n",
      "--------------------------------------------------\n",
      "Current Week: 2023-04-13\n",
      "Total Number of Test Edges: 6314\n",
      "Current Expert Regret: -596874\n",
      "Current Naive Regret: -240692\n",
      "--------------------------------------------------\n",
      "** Sampled 393 positive and 393 negative edges. **\n",
      "Temporal Test Score (ROC AUC): 0.75\n",
      "--------------------------------------------------\n",
      "Current Week: 2023-04-20\n",
      "Total Number of Test Edges: 6636\n",
      "Current Expert Regret: -604900\n",
      "Current Naive Regret: -242388\n",
      "--------------------------------------------------\n"
     ]
    },
    {
     "name": "stderr",
     "output_type": "stream",
     "text": [
      " 95%|█████████▌| 120/126 [21:24<01:04, 10.78s/it]"
     ]
    },
    {
     "name": "stdout",
     "output_type": "stream",
     "text": [
      "** Sampled 398 positive and 398 negative edges. **\n",
      "Temporal Test Score (ROC AUC): 0.77\n"
     ]
    },
    {
     "name": "stderr",
     "output_type": "stream",
     "text": [
      " 96%|█████████▌| 121/126 [21:35<00:53, 10.78s/it]"
     ]
    },
    {
     "name": "stdout",
     "output_type": "stream",
     "text": [
      "--------------------------------------------------\n",
      "Current Week: 2023-04-27\n",
      "Total Number of Test Edges: 6608\n",
      "Current Expert Regret: -613345\n",
      "Current Naive Regret: -244344\n",
      "--------------------------------------------------\n",
      "** Sampled 578 positive and 578 negative edges. **\n"
     ]
    },
    {
     "name": "stderr",
     "output_type": "stream",
     "text": [
      " 97%|█████████▋| 122/126 [21:46<00:43, 10.90s/it]"
     ]
    },
    {
     "name": "stdout",
     "output_type": "stream",
     "text": [
      "Temporal Test Score (ROC AUC): 0.74\n",
      "--------------------------------------------------\n",
      "Current Week: 2023-05-04\n",
      "Total Number of Test Edges: 3204\n",
      "Current Expert Regret: -617546\n",
      "Current Naive Regret: -245553\n",
      "--------------------------------------------------\n",
      "** Sampled 392 positive and 392 negative edges. **\n",
      "Temporal Test Score (ROC AUC): 0.74\n"
     ]
    },
    {
     "name": "stderr",
     "output_type": "stream",
     "text": [
      " 98%|█████████▊| 123/126 [21:57<00:32, 10.84s/it]"
     ]
    },
    {
     "name": "stdout",
     "output_type": "stream",
     "text": [
      "--------------------------------------------------\n",
      "Current Week: 2023-05-11\n",
      "Total Number of Test Edges: 6648\n",
      "Current Expert Regret: -626585\n",
      "Current Naive Regret: -247234\n",
      "--------------------------------------------------\n",
      "** Sampled 567 positive and 567 negative edges. **\n"
     ]
    },
    {
     "name": "stderr",
     "output_type": "stream",
     "text": [
      " 98%|█████████▊| 124/126 [22:08<00:21, 10.94s/it]"
     ]
    },
    {
     "name": "stdout",
     "output_type": "stream",
     "text": [
      "Temporal Test Score (ROC AUC): 0.73\n",
      "--------------------------------------------------\n",
      "Current Week: 2023-05-18\n",
      "Total Number of Test Edges: 3330\n",
      "Current Expert Regret: -630795\n",
      "Current Naive Regret: -248236\n",
      "--------------------------------------------------\n",
      "** Sampled 411 positive and 411 negative edges. **\n",
      "Temporal Test Score (ROC AUC): 0.73\n"
     ]
    },
    {
     "name": "stderr",
     "output_type": "stream",
     "text": [
      " 99%|█████████▉| 125/126 [22:20<00:11, 11.05s/it]"
     ]
    },
    {
     "name": "stdout",
     "output_type": "stream",
     "text": [
      "--------------------------------------------------\n",
      "Current Week: 2023-05-25\n",
      "Total Number of Test Edges: 7020\n",
      "Current Expert Regret: -639801\n",
      "Current Naive Regret: -249060\n",
      "--------------------------------------------------\n",
      "** Sampled 427 positive and 427 negative edges. **\n"
     ]
    },
    {
     "name": "stderr",
     "output_type": "stream",
     "text": [
      "100%|██████████| 126/126 [22:30<00:00, 10.72s/it]"
     ]
    },
    {
     "name": "stdout",
     "output_type": "stream",
     "text": [
      "Temporal Test Score (ROC AUC): 0.74\n",
      "--------------------------------------------------\n",
      "Current Week: 2023-06-01\n",
      "Total Number of Test Edges: 3508\n",
      "Current Expert Regret: -644406\n",
      "Current Naive Regret: -250131\n",
      "--------------------------------------------------\n"
     ]
    },
    {
     "name": "stderr",
     "output_type": "stream",
     "text": [
      "\n"
     ]
    }
   ],
   "source": [
    "temporal_zip3_dm = WeeklyDecisionMaker()\n",
    "for graph in tqdm(weekly_zip3_graphs.values()):\n",
    "    temporal_zip3_dm.run_expert_simulation(graph, display_progress=True)"
   ]
  },
  {
   "cell_type": "code",
   "execution_count": 31,
   "metadata": {},
   "outputs": [],
   "source": [
    "results = pd.DataFrame()\n",
    "results['hedge'] = temporal_zip3_dm.hedge_total_regret\n",
    "results['naive'] = temporal_zip3_dm.naive_total_regret\n",
    "results.to_csv(\"temporal_zip3_dm_result.csv\")"
   ]
  },
  {
   "cell_type": "code",
   "execution_count": 30,
   "metadata": {},
   "outputs": [
    {
     "data": {
      "text/plain": [
       "[<matplotlib.lines.Line2D at 0x1b89dce20>]"
      ]
     },
     "execution_count": 30,
     "metadata": {},
     "output_type": "execute_result"
    },
    {
     "data": {
      "image/png": "[encoded data removed]",
      "text/plain": [
       "<Figure size 640x480 with 1 Axes>"
      ]
     },
     "metadata": {},
     "output_type": "display_data"
    }
   ],
   "source": [
    "fig, ax = plt.subplots(1,1)\n",
    "ax.plot(weekly_zip3_graphs.keys(), temporal_zip3_dm.hedge_total_regret[1:], label=\n",
    "ax.plot(weekly_zip3_graphs.keys(), temporal_zip3_dm.naive_total_regret[1:])\n",
    "ax.legend()"
   ]
  },
  {
   "cell_type": "code",
   "execution_count": 21,
   "metadata": {},
   "outputs": [
    {
     "name": "stderr",
     "output_type": "stream",
     "text": [
      "  0%|          | 0/126 [00:00<?, ?it/s]"
     ]
    },
    {
     "name": "stdout",
     "output_type": "stream",
     "text": [
      "** Sampled 336 positive and 336 negative edges. **\n"
     ]
    },
    {
     "name": "stderr",
     "output_type": "stream",
     "text": [
      "  0%|          | 0/126 [00:02<?, ?it/s]\n"
     ]
    },
    {
     "ename": "KeyboardInterrupt",
     "evalue": "",
     "output_type": "error",
     "traceback": [
      "\u001b[0;31m---------------------------------------------------------------------------\u001b[0m",
      "\u001b[0;31mKeyboardInterrupt\u001b[0m                         Traceback (most recent call last)",
      "Cell \u001b[0;32mIn[21], line 3\u001b[0m\n\u001b[1;32m      1\u001b[0m static_zip3_dm \u001b[39m=\u001b[39m WeeklyDecisionMaker()\n\u001b[1;32m      2\u001b[0m \u001b[39mfor\u001b[39;00m graph \u001b[39min\u001b[39;00m tqdm(weekly_zip3_graphs\u001b[39m.\u001b[39mvalues()):\n\u001b[0;32m----> 3\u001b[0m     static_zip3_dm\u001b[39m.\u001b[39;49mrun_expert_simulation(graph, temporal\u001b[39m=\u001b[39;49m\u001b[39mFalse\u001b[39;49;00m, display_progress\u001b[39m=\u001b[39;49m\u001b[39mTrue\u001b[39;49;00m)\n",
      "Cell \u001b[0;32mIn[19], line 129\u001b[0m, in \u001b[0;36mWeeklyDecisionMaker.run_expert_simulation\u001b[0;34m(self, graph, learning_rate, temporal, display_progress)\u001b[0m\n\u001b[1;32m    128\u001b[0m \u001b[39mdef\u001b[39;00m \u001b[39mrun_expert_simulation\u001b[39m(\u001b[39mself\u001b[39m, graph, learning_rate\u001b[39m=\u001b[39m\u001b[39m0.1\u001b[39m, temporal\u001b[39m=\u001b[39m\u001b[39mTrue\u001b[39;00m, display_progress\u001b[39m=\u001b[39m\u001b[39mFalse\u001b[39;00m):\n\u001b[0;32m--> 129\u001b[0m     \u001b[39mself\u001b[39;49m\u001b[39m.\u001b[39;49mpredict_probs(graph, display_progress\u001b[39m=\u001b[39;49mdisplay_progress, temporal\u001b[39m=\u001b[39;49mtemporal)\n\u001b[1;32m    130\u001b[0m     \u001b[39mself\u001b[39m\u001b[39m.\u001b[39moptimize_weights_for_edge(learning_rate\u001b[39m=\u001b[39mlearning_rate)\n\u001b[1;32m    131\u001b[0m     \u001b[39mif\u001b[39;00m display_progress: \u001b[39mself\u001b[39m\u001b[39m.\u001b[39mprint_info_given_week(graph\u001b[39m.\u001b[39mgraph[\u001b[39m'\u001b[39m\u001b[39mend_date\u001b[39m\u001b[39m'\u001b[39m])\n",
      "Cell \u001b[0;32mIn[19], line 61\u001b[0m, in \u001b[0;36mWeeklyDecisionMaker.predict_probs\u001b[0;34m(self, graph, display_progress, temporal)\u001b[0m\n\u001b[1;32m     58\u001b[0m \u001b[39mself\u001b[39m\u001b[39m.\u001b[39mtest_edges, \u001b[39mself\u001b[39m\u001b[39m.\u001b[39mtest_edge_labels \u001b[39m=\u001b[39m links_test, labels_test\n\u001b[1;32m     60\u001b[0m \u001b[39m# fit & learn \u001b[39;00m\n\u001b[0;32m---> 61\u001b[0m node_embedding \u001b[39m=\u001b[39m random_walk_model(train_graph, \n\u001b[1;32m     62\u001b[0m                     num_walks_per_node\u001b[39m=\u001b[39;49m\u001b[39mself\u001b[39;49m\u001b[39m.\u001b[39;49mnum_walks_per_node, walk_length\u001b[39m=\u001b[39;49m\u001b[39mself\u001b[39;49m\u001b[39m.\u001b[39;49mwalk_length, \\\n\u001b[1;32m     63\u001b[0m                     context_window_size\u001b[39m=\u001b[39;49m\u001b[39mself\u001b[39;49m\u001b[39m.\u001b[39;49mcontext_window_size, temporal\u001b[39m=\u001b[39;49m temporal)\n\u001b[1;32m     64\u001b[0m edge_embedding_train \u001b[39m=\u001b[39m edge_to_features(links_validate, node_embedding)\n\u001b[1;32m     65\u001b[0m fitted_classifier \u001b[39m=\u001b[39m \u001b[39mself\u001b[39m\u001b[39m.\u001b[39mfit_classifier(edge_embedding_train, labels_validate) \u001b[39m#fit classifier\u001b[39;00m\n",
      "Cell \u001b[0;32mIn[18], line 49\u001b[0m, in \u001b[0;36mrandom_walk_model\u001b[0;34m(graph, num_walks_per_node, walk_length, context_window_size, temporal)\u001b[0m\n\u001b[1;32m     47\u001b[0m \u001b[39melse\u001b[39;00m: \n\u001b[1;32m     48\u001b[0m     rw_model \u001b[39m=\u001b[39m BiasedRandomWalk(graph)\n\u001b[0;32m---> 49\u001b[0m     walks \u001b[39m=\u001b[39m rw_model\u001b[39m.\u001b[39;49mrun(\n\u001b[1;32m     50\u001b[0m     nodes\u001b[39m=\u001b[39;49mgraph\u001b[39m.\u001b[39;49mnodes(), n\u001b[39m=\u001b[39;49mnum_walks_per_node, length\u001b[39m=\u001b[39;49mwalk_length\n\u001b[1;32m     51\u001b[0m     )\n\u001b[1;32m     53\u001b[0m embedding_size \u001b[39m=\u001b[39m \u001b[39m128\u001b[39m\n\u001b[1;32m     54\u001b[0m node_embedding \u001b[39m=\u001b[39m Word2Vec(\n\u001b[1;32m     55\u001b[0m     walks,\n\u001b[1;32m     56\u001b[0m     vector_size\u001b[39m=\u001b[39membedding_size,\n\u001b[0;32m   (...)\u001b[0m\n\u001b[1;32m     60\u001b[0m     workers\u001b[39m=\u001b[39m\u001b[39m2\u001b[39m,\n\u001b[1;32m     61\u001b[0m     epochs\u001b[39m=\u001b[39m\u001b[39m1\u001b[39m,)\n",
      "File \u001b[0;32m~/Documents/Temporal-Link-Prediction/venv/lib/python3.8/site-packages/stellargraph/data/explorer.py:503\u001b[0m, in \u001b[0;36mBiasedRandomWalk.run\u001b[0;34m(self, nodes, n, length, p, q, seed, weighted)\u001b[0m\n\u001b[1;32m    500\u001b[0m mask \u001b[39m|\u001b[39m\u001b[39m=\u001b[39m np\u001b[39m.\u001b[39misin(neighbours, previous_node_neighbours)\n\u001b[1;32m    501\u001b[0m weights[\u001b[39m~\u001b[39mmask] \u001b[39m*\u001b[39m\u001b[39m=\u001b[39m iq\n\u001b[0;32m--> 503\u001b[0m choice \u001b[39m=\u001b[39m naive_weighted_choices(rs, weights)\n\u001b[1;32m    504\u001b[0m \u001b[39mif\u001b[39;00m choice \u001b[39mis\u001b[39;00m \u001b[39mNone\u001b[39;00m:\n\u001b[1;32m    505\u001b[0m     \u001b[39mbreak\u001b[39;00m\n",
      "File \u001b[0;32m~/Documents/Temporal-Link-Prediction/venv/lib/python3.8/site-packages/stellargraph/data/explorer.py:349\u001b[0m, in \u001b[0;36mnaive_weighted_choices\u001b[0;34m(rs, weights, size)\u001b[0m\n\u001b[1;32m    346\u001b[0m     \u001b[39mreturn\u001b[39;00m \u001b[39mNone\u001b[39;00m\n\u001b[1;32m    348\u001b[0m thresholds \u001b[39m=\u001b[39m rs\u001b[39m.\u001b[39mrandom() \u001b[39mif\u001b[39;00m size \u001b[39mis\u001b[39;00m \u001b[39mNone\u001b[39;00m \u001b[39melse\u001b[39;00m rs\u001b[39m.\u001b[39mrandom(size)\n\u001b[0;32m--> 349\u001b[0m idx \u001b[39m=\u001b[39m np\u001b[39m.\u001b[39;49msearchsorted(probs, thresholds \u001b[39m*\u001b[39;49m total, side\u001b[39m=\u001b[39;49m\u001b[39m\"\u001b[39;49m\u001b[39mleft\u001b[39;49m\u001b[39m\"\u001b[39;49m)\n\u001b[1;32m    351\u001b[0m \u001b[39mreturn\u001b[39;00m idx\n",
      "\u001b[0;31mKeyboardInterrupt\u001b[0m: "
     ]
    }
   ],
   "source": [
    "static_zip3_dm = WeeklyDecisionMaker()\n",
    "for graph in tqdm(weekly_zip3_graphs.values()):\n",
    "    static_zip3_dm.run_expert_simulation(graph, temporal=False, display_progress=True)"
   ]
  },
  {
   "cell_type": "code",
   "execution_count": null,
   "metadata": {},
   "outputs": [],
   "source": [
    "temporal_kma_dm = WeeklyDecisionMaker()\n",
    "for graph in tqdm(weekly_kma_graphs.values()):\n",
    "    temporal_kma_dm.run_expert_simulation(graph, display_progress=True)"
   ]
  },
  {
   "cell_type": "code",
   "execution_count": null,
   "metadata": {},
   "outputs": [],
   "source": [
    "static_kma_dm = WeeklyDecisionMaker()\n",
    "for graph in tqdm(weekly_kma_graphs.values()):\n",
    "    static_kma_dm.run_expert_simulation(graph, temporal=False, display_progress=True)"
   ]
  },
  {
   "cell_type": "code",
   "execution_count": 149,
   "metadata": {},
   "outputs": [
    {
     "data": {
      "text/plain": [
       "<matplotlib.legend.Legend at 0x7fe7a64b7d90>"
      ]
     },
     "execution_count": 149,
     "metadata": {},
     "output_type": "execute_result"
    },
    {
     "data": {
      "image/png": "[encoded data removed]",
      "text/plain": [
       "<Figure size 640x480 with 1 Axes>"
      ]
     },
     "metadata": {},
     "output_type": "display_data"
    }
   ],
   "source": [
    "# show only increase in lp.target_regrets[('13', '60')]\n",
    "increase_hedge_regret = []\n",
    "test = lp.target_regrets[('13', '60')]\n",
    "for i, x in enumerate(test):\n",
    "    if i == 0: continue \n",
    "    if test[i-1] < x: \n",
    "        increase_hedge_regret.append(x-test[i-1])\n",
    "    else: increase_hedge_regret.append(0)\n",
    "\n",
    "increase_naive_regret = []\n",
    "test = lp.naive_target_regrets[('13', '60')]\n",
    "for i, x in enumerate(test):\n",
    "    if i == 0: continue \n",
    "    if test[i-1] < x: \n",
    "        increase_naive_regret.append(x-test[i-1])\n",
    "    else: increase_naive_regret.append(0)\n",
    "\n",
    "plt.plot(np.arange(len(weight2) -1 ), np.cumsum(increase_hedge_regret), label='hedge')\n",
    "plt.plot(np.arange(len(weight2) -1 ), np.cumsum(increase_naive_regret), label='naive')\n",
    "plt.legend()"
   ]
  },
  {
   "cell_type": "code",
   "execution_count": 150,
   "metadata": {},
   "outputs": [
    {
     "data": {
      "text/plain": [
       "<matplotlib.legend.Legend at 0x7fe7a5784100>"
      ]
     },
     "execution_count": 150,
     "metadata": {},
     "output_type": "execute_result"
    },
    {
     "data": {
      "image/png": "[encoded data removed]",
      "text/plain": [
       "<Figure size 1000x500 with 2 Axes>"
      ]
     },
     "metadata": {},
     "output_type": "display_data"
    }
   ],
   "source": [
    "fig, ax = plt.subplots(1, 1, figsize=(10, 5))\n",
    "weight2 = np.array(lp.past_weight_vectors[('13', '60')])\n",
    "ax.plot(np.arange(len(weight2)), weight2[:, 9], label=f'threshold 0.9')\n",
    "ax.plot(np.arange(len(weight2)), weight2[:, 5], label=f'threshold 0.5')\n",
    "ax.plot(np.arange(len(weight2)), weight2[:, 0], label=f'threshold 0.1')\n",
    "ax.legend(loc='upper left')\n",
    "ax2 = ax.twinx()\n",
    "ax2.plot(np.arange(len(weight2)), lp.target_regrets[('13', '60')], label='hedge regret', color='r', linestyle=':')\n",
    "ax2.plot(np.arange(len(weight2)), lp.naive_target_regrets[('13', '60')], label='naive regret', color='b', linestyle=':')\n",
    "ax2.legend(loc='upper right')"
   ]
  }
 ],
 "metadata": {
  "kernelspec": {
   "display_name": "py38_env",
   "language": "python",
   "name": "python3"
  },
  "language_info": {
   "codemirror_mode": {
    "name": "ipython",
    "version": 3
   },
   "file_extension": ".py",
   "mimetype": "text/x-python",
   "name": "python",
   "nbconvert_exporter": "python",
   "pygments_lexer": "ipython3",
   "version": "3.8.13"
  }
 },
 "nbformat": 4,
 "nbformat_minor": 2
}
